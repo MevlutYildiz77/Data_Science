{
 "cells": [
  {
   "cell_type": "code",
   "execution_count": 1,
   "metadata": {},
   "outputs": [],
   "source": [
    "import numpy as np \n",
    "import pandas as pd \n",
    "import seaborn as sns\n",
    "import matplotlib.pyplot as plt\n",
    "%matplotlib inline\n"
   ]
  },
  {
   "cell_type": "code",
   "execution_count": 141,
   "metadata": {},
   "outputs": [
    {
     "data": {
      "text/plain": [
       "['anagrams',\n",
       " 'anscombe',\n",
       " 'attention',\n",
       " 'brain_networks',\n",
       " 'car_crashes',\n",
       " 'diamonds',\n",
       " 'dots',\n",
       " 'exercise',\n",
       " 'flights',\n",
       " 'fmri',\n",
       " 'gammas',\n",
       " 'geyser',\n",
       " 'iris',\n",
       " 'mpg',\n",
       " 'penguins',\n",
       " 'planets',\n",
       " 'taxis',\n",
       " 'tips',\n",
       " 'titanic']"
      ]
     },
     "execution_count": 141,
     "metadata": {},
     "output_type": "execute_result"
    }
   ],
   "source": [
    "df=sns.get_dataset_names()\n",
    "df"
   ]
  },
  {
   "cell_type": "code",
   "execution_count": 142,
   "metadata": {},
   "outputs": [
    {
     "data": {
      "text/html": [
       "<div>\n",
       "<style scoped>\n",
       "    .dataframe tbody tr th:only-of-type {\n",
       "        vertical-align: middle;\n",
       "    }\n",
       "\n",
       "    .dataframe tbody tr th {\n",
       "        vertical-align: top;\n",
       "    }\n",
       "\n",
       "    .dataframe thead th {\n",
       "        text-align: right;\n",
       "    }\n",
       "</style>\n",
       "<table border=\"1\" class=\"dataframe\">\n",
       "  <thead>\n",
       "    <tr style=\"text-align: right;\">\n",
       "      <th></th>\n",
       "      <th>subidr</th>\n",
       "      <th>attnr</th>\n",
       "      <th>num1</th>\n",
       "      <th>num2</th>\n",
       "      <th>num3</th>\n",
       "    </tr>\n",
       "  </thead>\n",
       "  <tbody>\n",
       "    <tr>\n",
       "      <th>0</th>\n",
       "      <td>1</td>\n",
       "      <td>divided</td>\n",
       "      <td>2</td>\n",
       "      <td>4.0</td>\n",
       "      <td>7</td>\n",
       "    </tr>\n",
       "    <tr>\n",
       "      <th>1</th>\n",
       "      <td>2</td>\n",
       "      <td>divided</td>\n",
       "      <td>3</td>\n",
       "      <td>4.0</td>\n",
       "      <td>5</td>\n",
       "    </tr>\n",
       "    <tr>\n",
       "      <th>2</th>\n",
       "      <td>3</td>\n",
       "      <td>divided</td>\n",
       "      <td>3</td>\n",
       "      <td>5.0</td>\n",
       "      <td>6</td>\n",
       "    </tr>\n",
       "    <tr>\n",
       "      <th>3</th>\n",
       "      <td>4</td>\n",
       "      <td>divided</td>\n",
       "      <td>5</td>\n",
       "      <td>7.0</td>\n",
       "      <td>5</td>\n",
       "    </tr>\n",
       "    <tr>\n",
       "      <th>4</th>\n",
       "      <td>5</td>\n",
       "      <td>divided</td>\n",
       "      <td>4</td>\n",
       "      <td>5.0</td>\n",
       "      <td>8</td>\n",
       "    </tr>\n",
       "  </tbody>\n",
       "</table>\n",
       "</div>"
      ],
      "text/plain": [
       "   subidr    attnr  num1  num2  num3\n",
       "0       1  divided     2   4.0     7\n",
       "1       2  divided     3   4.0     5\n",
       "2       3  divided     3   5.0     6\n",
       "3       4  divided     5   7.0     5\n",
       "4       5  divided     4   5.0     8"
      ]
     },
     "execution_count": 142,
     "metadata": {},
     "output_type": "execute_result"
    }
   ],
   "source": [
    "df=sns.load_dataset(\"anagrams\")\n",
    "df.head()"
   ]
  },
  {
   "cell_type": "code",
   "execution_count": 143,
   "metadata": {},
   "outputs": [
    {
     "data": {
      "text/html": [
       "<div>\n",
       "<style scoped>\n",
       "    .dataframe tbody tr th:only-of-type {\n",
       "        vertical-align: middle;\n",
       "    }\n",
       "\n",
       "    .dataframe tbody tr th {\n",
       "        vertical-align: top;\n",
       "    }\n",
       "\n",
       "    .dataframe thead th {\n",
       "        text-align: right;\n",
       "    }\n",
       "</style>\n",
       "<table border=\"1\" class=\"dataframe\">\n",
       "  <thead>\n",
       "    <tr style=\"text-align: right;\">\n",
       "      <th></th>\n",
       "      <th>dataset</th>\n",
       "      <th>x</th>\n",
       "      <th>y</th>\n",
       "    </tr>\n",
       "  </thead>\n",
       "  <tbody>\n",
       "    <tr>\n",
       "      <th>0</th>\n",
       "      <td>I</td>\n",
       "      <td>10.0</td>\n",
       "      <td>8.04</td>\n",
       "    </tr>\n",
       "    <tr>\n",
       "      <th>1</th>\n",
       "      <td>I</td>\n",
       "      <td>8.0</td>\n",
       "      <td>6.95</td>\n",
       "    </tr>\n",
       "    <tr>\n",
       "      <th>2</th>\n",
       "      <td>I</td>\n",
       "      <td>13.0</td>\n",
       "      <td>7.58</td>\n",
       "    </tr>\n",
       "    <tr>\n",
       "      <th>3</th>\n",
       "      <td>I</td>\n",
       "      <td>9.0</td>\n",
       "      <td>8.81</td>\n",
       "    </tr>\n",
       "    <tr>\n",
       "      <th>4</th>\n",
       "      <td>I</td>\n",
       "      <td>11.0</td>\n",
       "      <td>8.33</td>\n",
       "    </tr>\n",
       "  </tbody>\n",
       "</table>\n",
       "</div>"
      ],
      "text/plain": [
       "  dataset     x     y\n",
       "0       I  10.0  8.04\n",
       "1       I   8.0  6.95\n",
       "2       I  13.0  7.58\n",
       "3       I   9.0  8.81\n",
       "4       I  11.0  8.33"
      ]
     },
     "execution_count": 143,
     "metadata": {},
     "output_type": "execute_result"
    }
   ],
   "source": [
    "df1=sns.load_dataset(\"anscombe\")\n",
    "df1.head()"
   ]
  },
  {
   "cell_type": "code",
   "execution_count": 144,
   "metadata": {},
   "outputs": [
    {
     "data": {
      "text/html": [
       "<div>\n",
       "<style scoped>\n",
       "    .dataframe tbody tr th:only-of-type {\n",
       "        vertical-align: middle;\n",
       "    }\n",
       "\n",
       "    .dataframe tbody tr th {\n",
       "        vertical-align: top;\n",
       "    }\n",
       "\n",
       "    .dataframe thead th {\n",
       "        text-align: right;\n",
       "    }\n",
       "</style>\n",
       "<table border=\"1\" class=\"dataframe\">\n",
       "  <thead>\n",
       "    <tr style=\"text-align: right;\">\n",
       "      <th></th>\n",
       "      <th>Unnamed: 0</th>\n",
       "      <th>subject</th>\n",
       "      <th>attention</th>\n",
       "      <th>solutions</th>\n",
       "      <th>score</th>\n",
       "    </tr>\n",
       "  </thead>\n",
       "  <tbody>\n",
       "    <tr>\n",
       "      <th>0</th>\n",
       "      <td>0</td>\n",
       "      <td>1</td>\n",
       "      <td>divided</td>\n",
       "      <td>1</td>\n",
       "      <td>2.0</td>\n",
       "    </tr>\n",
       "    <tr>\n",
       "      <th>1</th>\n",
       "      <td>1</td>\n",
       "      <td>2</td>\n",
       "      <td>divided</td>\n",
       "      <td>1</td>\n",
       "      <td>3.0</td>\n",
       "    </tr>\n",
       "    <tr>\n",
       "      <th>2</th>\n",
       "      <td>2</td>\n",
       "      <td>3</td>\n",
       "      <td>divided</td>\n",
       "      <td>1</td>\n",
       "      <td>3.0</td>\n",
       "    </tr>\n",
       "    <tr>\n",
       "      <th>3</th>\n",
       "      <td>3</td>\n",
       "      <td>4</td>\n",
       "      <td>divided</td>\n",
       "      <td>1</td>\n",
       "      <td>5.0</td>\n",
       "    </tr>\n",
       "    <tr>\n",
       "      <th>4</th>\n",
       "      <td>4</td>\n",
       "      <td>5</td>\n",
       "      <td>divided</td>\n",
       "      <td>1</td>\n",
       "      <td>4.0</td>\n",
       "    </tr>\n",
       "  </tbody>\n",
       "</table>\n",
       "</div>"
      ],
      "text/plain": [
       "   Unnamed: 0  subject attention  solutions  score\n",
       "0           0        1   divided          1    2.0\n",
       "1           1        2   divided          1    3.0\n",
       "2           2        3   divided          1    3.0\n",
       "3           3        4   divided          1    5.0\n",
       "4           4        5   divided          1    4.0"
      ]
     },
     "execution_count": 144,
     "metadata": {},
     "output_type": "execute_result"
    }
   ],
   "source": [
    "df2=sns.load_dataset(\"attention\")\n",
    "df2.head()"
   ]
  },
  {
   "cell_type": "code",
   "execution_count": 145,
   "metadata": {},
   "outputs": [
    {
     "data": {
      "text/html": [
       "<div>\n",
       "<style scoped>\n",
       "    .dataframe tbody tr th:only-of-type {\n",
       "        vertical-align: middle;\n",
       "    }\n",
       "\n",
       "    .dataframe tbody tr th {\n",
       "        vertical-align: top;\n",
       "    }\n",
       "\n",
       "    .dataframe thead th {\n",
       "        text-align: right;\n",
       "    }\n",
       "</style>\n",
       "<table border=\"1\" class=\"dataframe\">\n",
       "  <thead>\n",
       "    <tr style=\"text-align: right;\">\n",
       "      <th></th>\n",
       "      <th>network</th>\n",
       "      <th>1</th>\n",
       "      <th>1.1</th>\n",
       "      <th>2</th>\n",
       "      <th>2.1</th>\n",
       "      <th>3</th>\n",
       "      <th>3.1</th>\n",
       "      <th>4</th>\n",
       "      <th>4.1</th>\n",
       "      <th>5</th>\n",
       "      <th>...</th>\n",
       "      <th>16.5</th>\n",
       "      <th>16.6</th>\n",
       "      <th>16.7</th>\n",
       "      <th>17</th>\n",
       "      <th>17.1</th>\n",
       "      <th>17.2</th>\n",
       "      <th>17.3</th>\n",
       "      <th>17.4</th>\n",
       "      <th>17.5</th>\n",
       "      <th>17.6</th>\n",
       "    </tr>\n",
       "  </thead>\n",
       "  <tbody>\n",
       "    <tr>\n",
       "      <th>0</th>\n",
       "      <td>node</td>\n",
       "      <td>1</td>\n",
       "      <td>1</td>\n",
       "      <td>1</td>\n",
       "      <td>1</td>\n",
       "      <td>1</td>\n",
       "      <td>1</td>\n",
       "      <td>1</td>\n",
       "      <td>1</td>\n",
       "      <td>1</td>\n",
       "      <td>...</td>\n",
       "      <td>3</td>\n",
       "      <td>4</td>\n",
       "      <td>4</td>\n",
       "      <td>1</td>\n",
       "      <td>1</td>\n",
       "      <td>2</td>\n",
       "      <td>2</td>\n",
       "      <td>3</td>\n",
       "      <td>3</td>\n",
       "      <td>4</td>\n",
       "    </tr>\n",
       "    <tr>\n",
       "      <th>1</th>\n",
       "      <td>hemi</td>\n",
       "      <td>lh</td>\n",
       "      <td>rh</td>\n",
       "      <td>lh</td>\n",
       "      <td>rh</td>\n",
       "      <td>lh</td>\n",
       "      <td>rh</td>\n",
       "      <td>lh</td>\n",
       "      <td>rh</td>\n",
       "      <td>lh</td>\n",
       "      <td>...</td>\n",
       "      <td>rh</td>\n",
       "      <td>lh</td>\n",
       "      <td>rh</td>\n",
       "      <td>lh</td>\n",
       "      <td>rh</td>\n",
       "      <td>lh</td>\n",
       "      <td>rh</td>\n",
       "      <td>lh</td>\n",
       "      <td>rh</td>\n",
       "      <td>lh</td>\n",
       "    </tr>\n",
       "    <tr>\n",
       "      <th>2</th>\n",
       "      <td>NaN</td>\n",
       "      <td>NaN</td>\n",
       "      <td>NaN</td>\n",
       "      <td>NaN</td>\n",
       "      <td>NaN</td>\n",
       "      <td>NaN</td>\n",
       "      <td>NaN</td>\n",
       "      <td>NaN</td>\n",
       "      <td>NaN</td>\n",
       "      <td>NaN</td>\n",
       "      <td>...</td>\n",
       "      <td>NaN</td>\n",
       "      <td>NaN</td>\n",
       "      <td>NaN</td>\n",
       "      <td>NaN</td>\n",
       "      <td>NaN</td>\n",
       "      <td>NaN</td>\n",
       "      <td>NaN</td>\n",
       "      <td>NaN</td>\n",
       "      <td>NaN</td>\n",
       "      <td>NaN</td>\n",
       "    </tr>\n",
       "    <tr>\n",
       "      <th>3</th>\n",
       "      <td>0</td>\n",
       "      <td>56.05574417114258</td>\n",
       "      <td>92.03103637695312</td>\n",
       "      <td>3.391575574874878</td>\n",
       "      <td>38.65968322753906</td>\n",
       "      <td>26.203819274902344</td>\n",
       "      <td>-49.71556854248047</td>\n",
       "      <td>47.4610366821289</td>\n",
       "      <td>26.746612548828125</td>\n",
       "      <td>-35.898860931396484</td>\n",
       "      <td>...</td>\n",
       "      <td>0.6079040169715881</td>\n",
       "      <td>-70.27054595947266</td>\n",
       "      <td>77.36577606201172</td>\n",
       "      <td>-21.73455047607422</td>\n",
       "      <td>1.0282527208328247</td>\n",
       "      <td>7.7917842864990225</td>\n",
       "      <td>68.90372467041016</td>\n",
       "      <td>-10.520872116088867</td>\n",
       "      <td>120.49046325683594</td>\n",
       "      <td>-39.686431884765625</td>\n",
       "    </tr>\n",
       "    <tr>\n",
       "      <th>4</th>\n",
       "      <td>1</td>\n",
       "      <td>55.5472526550293</td>\n",
       "      <td>43.6900749206543</td>\n",
       "      <td>-65.49598693847656</td>\n",
       "      <td>-13.974522590637207</td>\n",
       "      <td>-28.27496337890625</td>\n",
       "      <td>-39.05012893676758</td>\n",
       "      <td>-1.2106596231460571</td>\n",
       "      <td>-19.012897491455078</td>\n",
       "      <td>19.568010330200195</td>\n",
       "      <td>...</td>\n",
       "      <td>57.49507141113281</td>\n",
       "      <td>-76.39321899414062</td>\n",
       "      <td>127.26136016845705</td>\n",
       "      <td>-13.035799026489258</td>\n",
       "      <td>46.3818244934082</td>\n",
       "      <td>-15.752449989318848</td>\n",
       "      <td>31.00033187866211</td>\n",
       "      <td>-39.607521057128906</td>\n",
       "      <td>24.76401138305664</td>\n",
       "      <td>-36.7710075378418</td>\n",
       "    </tr>\n",
       "  </tbody>\n",
       "</table>\n",
       "<p>5 rows × 63 columns</p>\n",
       "</div>"
      ],
      "text/plain": [
       "  network                  1                1.1                   2  \\\n",
       "0    node                  1                  1                   1   \n",
       "1    hemi                 lh                 rh                  lh   \n",
       "2     NaN                NaN                NaN                 NaN   \n",
       "3       0  56.05574417114258  92.03103637695312   3.391575574874878   \n",
       "4       1   55.5472526550293   43.6900749206543  -65.49598693847656   \n",
       "\n",
       "                   2.1                   3                 3.1  \\\n",
       "0                    1                   1                   1   \n",
       "1                   rh                  lh                  rh   \n",
       "2                  NaN                 NaN                 NaN   \n",
       "3    38.65968322753906  26.203819274902344  -49.71556854248047   \n",
       "4  -13.974522590637207  -28.27496337890625  -39.05012893676758   \n",
       "\n",
       "                     4                  4.1                    5  ...  \\\n",
       "0                    1                    1                    1  ...   \n",
       "1                   lh                   rh                   lh  ...   \n",
       "2                  NaN                  NaN                  NaN  ...   \n",
       "3     47.4610366821289   26.746612548828125  -35.898860931396484  ...   \n",
       "4  -1.2106596231460571  -19.012897491455078   19.568010330200195  ...   \n",
       "\n",
       "                 16.5                16.6                16.7  \\\n",
       "0                   3                   4                   4   \n",
       "1                  rh                  lh                  rh   \n",
       "2                 NaN                 NaN                 NaN   \n",
       "3  0.6079040169715881  -70.27054595947266   77.36577606201172   \n",
       "4   57.49507141113281  -76.39321899414062  127.26136016845705   \n",
       "\n",
       "                    17                17.1                 17.2  \\\n",
       "0                    1                   1                    2   \n",
       "1                   lh                  rh                   lh   \n",
       "2                  NaN                 NaN                  NaN   \n",
       "3   -21.73455047607422  1.0282527208328247   7.7917842864990225   \n",
       "4  -13.035799026489258    46.3818244934082  -15.752449989318848   \n",
       "\n",
       "                17.3                 17.4                17.5  \\\n",
       "0                  2                    3                   3   \n",
       "1                 rh                   lh                  rh   \n",
       "2                NaN                  NaN                 NaN   \n",
       "3  68.90372467041016  -10.520872116088867  120.49046325683594   \n",
       "4  31.00033187866211  -39.607521057128906   24.76401138305664   \n",
       "\n",
       "                  17.6  \n",
       "0                    4  \n",
       "1                   lh  \n",
       "2                  NaN  \n",
       "3  -39.686431884765625  \n",
       "4    -36.7710075378418  \n",
       "\n",
       "[5 rows x 63 columns]"
      ]
     },
     "execution_count": 145,
     "metadata": {},
     "output_type": "execute_result"
    }
   ],
   "source": [
    "df3=sns.load_dataset(\"brain_networks\")\n",
    "df3.head()"
   ]
  },
  {
   "cell_type": "code",
   "execution_count": 146,
   "metadata": {},
   "outputs": [
    {
     "data": {
      "text/html": [
       "<div>\n",
       "<style scoped>\n",
       "    .dataframe tbody tr th:only-of-type {\n",
       "        vertical-align: middle;\n",
       "    }\n",
       "\n",
       "    .dataframe tbody tr th {\n",
       "        vertical-align: top;\n",
       "    }\n",
       "\n",
       "    .dataframe thead th {\n",
       "        text-align: right;\n",
       "    }\n",
       "</style>\n",
       "<table border=\"1\" class=\"dataframe\">\n",
       "  <thead>\n",
       "    <tr style=\"text-align: right;\">\n",
       "      <th></th>\n",
       "      <th>total</th>\n",
       "      <th>speeding</th>\n",
       "      <th>alcohol</th>\n",
       "      <th>not_distracted</th>\n",
       "      <th>no_previous</th>\n",
       "      <th>ins_premium</th>\n",
       "      <th>ins_losses</th>\n",
       "      <th>abbrev</th>\n",
       "    </tr>\n",
       "  </thead>\n",
       "  <tbody>\n",
       "    <tr>\n",
       "      <th>0</th>\n",
       "      <td>18.8</td>\n",
       "      <td>7.332</td>\n",
       "      <td>5.640</td>\n",
       "      <td>18.048</td>\n",
       "      <td>15.040</td>\n",
       "      <td>784.55</td>\n",
       "      <td>145.08</td>\n",
       "      <td>AL</td>\n",
       "    </tr>\n",
       "    <tr>\n",
       "      <th>1</th>\n",
       "      <td>18.1</td>\n",
       "      <td>7.421</td>\n",
       "      <td>4.525</td>\n",
       "      <td>16.290</td>\n",
       "      <td>17.014</td>\n",
       "      <td>1053.48</td>\n",
       "      <td>133.93</td>\n",
       "      <td>AK</td>\n",
       "    </tr>\n",
       "    <tr>\n",
       "      <th>2</th>\n",
       "      <td>18.6</td>\n",
       "      <td>6.510</td>\n",
       "      <td>5.208</td>\n",
       "      <td>15.624</td>\n",
       "      <td>17.856</td>\n",
       "      <td>899.47</td>\n",
       "      <td>110.35</td>\n",
       "      <td>AZ</td>\n",
       "    </tr>\n",
       "    <tr>\n",
       "      <th>3</th>\n",
       "      <td>22.4</td>\n",
       "      <td>4.032</td>\n",
       "      <td>5.824</td>\n",
       "      <td>21.056</td>\n",
       "      <td>21.280</td>\n",
       "      <td>827.34</td>\n",
       "      <td>142.39</td>\n",
       "      <td>AR</td>\n",
       "    </tr>\n",
       "    <tr>\n",
       "      <th>4</th>\n",
       "      <td>12.0</td>\n",
       "      <td>4.200</td>\n",
       "      <td>3.360</td>\n",
       "      <td>10.920</td>\n",
       "      <td>10.680</td>\n",
       "      <td>878.41</td>\n",
       "      <td>165.63</td>\n",
       "      <td>CA</td>\n",
       "    </tr>\n",
       "  </tbody>\n",
       "</table>\n",
       "</div>"
      ],
      "text/plain": [
       "   total  speeding  alcohol  not_distracted  no_previous  ins_premium  \\\n",
       "0   18.8     7.332    5.640          18.048       15.040       784.55   \n",
       "1   18.1     7.421    4.525          16.290       17.014      1053.48   \n",
       "2   18.6     6.510    5.208          15.624       17.856       899.47   \n",
       "3   22.4     4.032    5.824          21.056       21.280       827.34   \n",
       "4   12.0     4.200    3.360          10.920       10.680       878.41   \n",
       "\n",
       "   ins_losses abbrev  \n",
       "0      145.08     AL  \n",
       "1      133.93     AK  \n",
       "2      110.35     AZ  \n",
       "3      142.39     AR  \n",
       "4      165.63     CA  "
      ]
     },
     "execution_count": 146,
     "metadata": {},
     "output_type": "execute_result"
    }
   ],
   "source": [
    "df4=sns.load_dataset(\"car_crashes\")\n",
    "df4.head()"
   ]
  },
  {
   "cell_type": "code",
   "execution_count": 147,
   "metadata": {},
   "outputs": [
    {
     "data": {
      "text/html": [
       "<div>\n",
       "<style scoped>\n",
       "    .dataframe tbody tr th:only-of-type {\n",
       "        vertical-align: middle;\n",
       "    }\n",
       "\n",
       "    .dataframe tbody tr th {\n",
       "        vertical-align: top;\n",
       "    }\n",
       "\n",
       "    .dataframe thead th {\n",
       "        text-align: right;\n",
       "    }\n",
       "</style>\n",
       "<table border=\"1\" class=\"dataframe\">\n",
       "  <thead>\n",
       "    <tr style=\"text-align: right;\">\n",
       "      <th></th>\n",
       "      <th>align</th>\n",
       "      <th>choice</th>\n",
       "      <th>time</th>\n",
       "      <th>coherence</th>\n",
       "      <th>firing_rate</th>\n",
       "    </tr>\n",
       "  </thead>\n",
       "  <tbody>\n",
       "    <tr>\n",
       "      <th>0</th>\n",
       "      <td>dots</td>\n",
       "      <td>T1</td>\n",
       "      <td>-80</td>\n",
       "      <td>0.0</td>\n",
       "      <td>33.189967</td>\n",
       "    </tr>\n",
       "    <tr>\n",
       "      <th>1</th>\n",
       "      <td>dots</td>\n",
       "      <td>T1</td>\n",
       "      <td>-80</td>\n",
       "      <td>3.2</td>\n",
       "      <td>31.691726</td>\n",
       "    </tr>\n",
       "    <tr>\n",
       "      <th>2</th>\n",
       "      <td>dots</td>\n",
       "      <td>T1</td>\n",
       "      <td>-80</td>\n",
       "      <td>6.4</td>\n",
       "      <td>34.279840</td>\n",
       "    </tr>\n",
       "    <tr>\n",
       "      <th>3</th>\n",
       "      <td>dots</td>\n",
       "      <td>T1</td>\n",
       "      <td>-80</td>\n",
       "      <td>12.8</td>\n",
       "      <td>32.631874</td>\n",
       "    </tr>\n",
       "    <tr>\n",
       "      <th>4</th>\n",
       "      <td>dots</td>\n",
       "      <td>T1</td>\n",
       "      <td>-80</td>\n",
       "      <td>25.6</td>\n",
       "      <td>35.060487</td>\n",
       "    </tr>\n",
       "  </tbody>\n",
       "</table>\n",
       "</div>"
      ],
      "text/plain": [
       "  align choice  time  coherence  firing_rate\n",
       "0  dots     T1   -80        0.0    33.189967\n",
       "1  dots     T1   -80        3.2    31.691726\n",
       "2  dots     T1   -80        6.4    34.279840\n",
       "3  dots     T1   -80       12.8    32.631874\n",
       "4  dots     T1   -80       25.6    35.060487"
      ]
     },
     "execution_count": 147,
     "metadata": {},
     "output_type": "execute_result"
    }
   ],
   "source": [
    "df6=sns.load_dataset(\"dots\")\n",
    "df6.head()"
   ]
  },
  {
   "cell_type": "code",
   "execution_count": 148,
   "metadata": {},
   "outputs": [
    {
     "data": {
      "text/html": [
       "<div>\n",
       "<style scoped>\n",
       "    .dataframe tbody tr th:only-of-type {\n",
       "        vertical-align: middle;\n",
       "    }\n",
       "\n",
       "    .dataframe tbody tr th {\n",
       "        vertical-align: top;\n",
       "    }\n",
       "\n",
       "    .dataframe thead th {\n",
       "        text-align: right;\n",
       "    }\n",
       "</style>\n",
       "<table border=\"1\" class=\"dataframe\">\n",
       "  <thead>\n",
       "    <tr style=\"text-align: right;\">\n",
       "      <th></th>\n",
       "      <th>Unnamed: 0</th>\n",
       "      <th>id</th>\n",
       "      <th>diet</th>\n",
       "      <th>pulse</th>\n",
       "      <th>time</th>\n",
       "      <th>kind</th>\n",
       "    </tr>\n",
       "  </thead>\n",
       "  <tbody>\n",
       "    <tr>\n",
       "      <th>0</th>\n",
       "      <td>0</td>\n",
       "      <td>1</td>\n",
       "      <td>low fat</td>\n",
       "      <td>85</td>\n",
       "      <td>1 min</td>\n",
       "      <td>rest</td>\n",
       "    </tr>\n",
       "    <tr>\n",
       "      <th>1</th>\n",
       "      <td>1</td>\n",
       "      <td>1</td>\n",
       "      <td>low fat</td>\n",
       "      <td>85</td>\n",
       "      <td>15 min</td>\n",
       "      <td>rest</td>\n",
       "    </tr>\n",
       "    <tr>\n",
       "      <th>2</th>\n",
       "      <td>2</td>\n",
       "      <td>1</td>\n",
       "      <td>low fat</td>\n",
       "      <td>88</td>\n",
       "      <td>30 min</td>\n",
       "      <td>rest</td>\n",
       "    </tr>\n",
       "    <tr>\n",
       "      <th>3</th>\n",
       "      <td>3</td>\n",
       "      <td>2</td>\n",
       "      <td>low fat</td>\n",
       "      <td>90</td>\n",
       "      <td>1 min</td>\n",
       "      <td>rest</td>\n",
       "    </tr>\n",
       "    <tr>\n",
       "      <th>4</th>\n",
       "      <td>4</td>\n",
       "      <td>2</td>\n",
       "      <td>low fat</td>\n",
       "      <td>92</td>\n",
       "      <td>15 min</td>\n",
       "      <td>rest</td>\n",
       "    </tr>\n",
       "  </tbody>\n",
       "</table>\n",
       "</div>"
      ],
      "text/plain": [
       "   Unnamed: 0  id     diet  pulse    time  kind\n",
       "0           0   1  low fat     85   1 min  rest\n",
       "1           1   1  low fat     85  15 min  rest\n",
       "2           2   1  low fat     88  30 min  rest\n",
       "3           3   2  low fat     90   1 min  rest\n",
       "4           4   2  low fat     92  15 min  rest"
      ]
     },
     "execution_count": 148,
     "metadata": {},
     "output_type": "execute_result"
    }
   ],
   "source": [
    "df7=sns.load_dataset(\"exercise\")\n",
    "df7.head()"
   ]
  },
  {
   "cell_type": "code",
   "execution_count": 149,
   "metadata": {},
   "outputs": [
    {
     "data": {
      "text/html": [
       "<div>\n",
       "<style scoped>\n",
       "    .dataframe tbody tr th:only-of-type {\n",
       "        vertical-align: middle;\n",
       "    }\n",
       "\n",
       "    .dataframe tbody tr th {\n",
       "        vertical-align: top;\n",
       "    }\n",
       "\n",
       "    .dataframe thead th {\n",
       "        text-align: right;\n",
       "    }\n",
       "</style>\n",
       "<table border=\"1\" class=\"dataframe\">\n",
       "  <thead>\n",
       "    <tr style=\"text-align: right;\">\n",
       "      <th></th>\n",
       "      <th>year</th>\n",
       "      <th>month</th>\n",
       "      <th>passengers</th>\n",
       "    </tr>\n",
       "  </thead>\n",
       "  <tbody>\n",
       "    <tr>\n",
       "      <th>0</th>\n",
       "      <td>1949</td>\n",
       "      <td>Jan</td>\n",
       "      <td>112</td>\n",
       "    </tr>\n",
       "    <tr>\n",
       "      <th>1</th>\n",
       "      <td>1949</td>\n",
       "      <td>Feb</td>\n",
       "      <td>118</td>\n",
       "    </tr>\n",
       "    <tr>\n",
       "      <th>2</th>\n",
       "      <td>1949</td>\n",
       "      <td>Mar</td>\n",
       "      <td>132</td>\n",
       "    </tr>\n",
       "    <tr>\n",
       "      <th>3</th>\n",
       "      <td>1949</td>\n",
       "      <td>Apr</td>\n",
       "      <td>129</td>\n",
       "    </tr>\n",
       "    <tr>\n",
       "      <th>4</th>\n",
       "      <td>1949</td>\n",
       "      <td>May</td>\n",
       "      <td>121</td>\n",
       "    </tr>\n",
       "  </tbody>\n",
       "</table>\n",
       "</div>"
      ],
      "text/plain": [
       "   year month  passengers\n",
       "0  1949   Jan         112\n",
       "1  1949   Feb         118\n",
       "2  1949   Mar         132\n",
       "3  1949   Apr         129\n",
       "4  1949   May         121"
      ]
     },
     "execution_count": 149,
     "metadata": {},
     "output_type": "execute_result"
    }
   ],
   "source": [
    "df8=sns.load_dataset(\"flights\")\n",
    "df8.head()"
   ]
  },
  {
   "cell_type": "code",
   "execution_count": 150,
   "metadata": {},
   "outputs": [
    {
     "data": {
      "text/html": [
       "<div>\n",
       "<style scoped>\n",
       "    .dataframe tbody tr th:only-of-type {\n",
       "        vertical-align: middle;\n",
       "    }\n",
       "\n",
       "    .dataframe tbody tr th {\n",
       "        vertical-align: top;\n",
       "    }\n",
       "\n",
       "    .dataframe thead th {\n",
       "        text-align: right;\n",
       "    }\n",
       "</style>\n",
       "<table border=\"1\" class=\"dataframe\">\n",
       "  <thead>\n",
       "    <tr style=\"text-align: right;\">\n",
       "      <th></th>\n",
       "      <th>subject</th>\n",
       "      <th>timepoint</th>\n",
       "      <th>event</th>\n",
       "      <th>region</th>\n",
       "      <th>signal</th>\n",
       "    </tr>\n",
       "  </thead>\n",
       "  <tbody>\n",
       "    <tr>\n",
       "      <th>0</th>\n",
       "      <td>s13</td>\n",
       "      <td>18</td>\n",
       "      <td>stim</td>\n",
       "      <td>parietal</td>\n",
       "      <td>-0.017552</td>\n",
       "    </tr>\n",
       "    <tr>\n",
       "      <th>1</th>\n",
       "      <td>s5</td>\n",
       "      <td>14</td>\n",
       "      <td>stim</td>\n",
       "      <td>parietal</td>\n",
       "      <td>-0.080883</td>\n",
       "    </tr>\n",
       "    <tr>\n",
       "      <th>2</th>\n",
       "      <td>s12</td>\n",
       "      <td>18</td>\n",
       "      <td>stim</td>\n",
       "      <td>parietal</td>\n",
       "      <td>-0.081033</td>\n",
       "    </tr>\n",
       "    <tr>\n",
       "      <th>3</th>\n",
       "      <td>s11</td>\n",
       "      <td>18</td>\n",
       "      <td>stim</td>\n",
       "      <td>parietal</td>\n",
       "      <td>-0.046134</td>\n",
       "    </tr>\n",
       "    <tr>\n",
       "      <th>4</th>\n",
       "      <td>s10</td>\n",
       "      <td>18</td>\n",
       "      <td>stim</td>\n",
       "      <td>parietal</td>\n",
       "      <td>-0.037970</td>\n",
       "    </tr>\n",
       "  </tbody>\n",
       "</table>\n",
       "</div>"
      ],
      "text/plain": [
       "  subject  timepoint event    region    signal\n",
       "0     s13         18  stim  parietal -0.017552\n",
       "1      s5         14  stim  parietal -0.080883\n",
       "2     s12         18  stim  parietal -0.081033\n",
       "3     s11         18  stim  parietal -0.046134\n",
       "4     s10         18  stim  parietal -0.037970"
      ]
     },
     "execution_count": 150,
     "metadata": {},
     "output_type": "execute_result"
    }
   ],
   "source": [
    "df9=sns.load_dataset(\"fmri\")\n",
    "df9.head()"
   ]
  },
  {
   "cell_type": "code",
   "execution_count": 151,
   "metadata": {},
   "outputs": [
    {
     "data": {
      "text/html": [
       "<div>\n",
       "<style scoped>\n",
       "    .dataframe tbody tr th:only-of-type {\n",
       "        vertical-align: middle;\n",
       "    }\n",
       "\n",
       "    .dataframe tbody tr th {\n",
       "        vertical-align: top;\n",
       "    }\n",
       "\n",
       "    .dataframe thead th {\n",
       "        text-align: right;\n",
       "    }\n",
       "</style>\n",
       "<table border=\"1\" class=\"dataframe\">\n",
       "  <thead>\n",
       "    <tr style=\"text-align: right;\">\n",
       "      <th></th>\n",
       "      <th>timepoint</th>\n",
       "      <th>ROI</th>\n",
       "      <th>subject</th>\n",
       "      <th>BOLD signal</th>\n",
       "    </tr>\n",
       "  </thead>\n",
       "  <tbody>\n",
       "    <tr>\n",
       "      <th>0</th>\n",
       "      <td>0.0</td>\n",
       "      <td>IPS</td>\n",
       "      <td>0</td>\n",
       "      <td>0.513433</td>\n",
       "    </tr>\n",
       "    <tr>\n",
       "      <th>1</th>\n",
       "      <td>0.0</td>\n",
       "      <td>IPS</td>\n",
       "      <td>1</td>\n",
       "      <td>-0.414368</td>\n",
       "    </tr>\n",
       "    <tr>\n",
       "      <th>2</th>\n",
       "      <td>0.0</td>\n",
       "      <td>IPS</td>\n",
       "      <td>2</td>\n",
       "      <td>0.214695</td>\n",
       "    </tr>\n",
       "    <tr>\n",
       "      <th>3</th>\n",
       "      <td>0.0</td>\n",
       "      <td>IPS</td>\n",
       "      <td>3</td>\n",
       "      <td>0.814809</td>\n",
       "    </tr>\n",
       "    <tr>\n",
       "      <th>4</th>\n",
       "      <td>0.0</td>\n",
       "      <td>IPS</td>\n",
       "      <td>4</td>\n",
       "      <td>-0.894992</td>\n",
       "    </tr>\n",
       "  </tbody>\n",
       "</table>\n",
       "</div>"
      ],
      "text/plain": [
       "   timepoint  ROI  subject  BOLD signal\n",
       "0        0.0  IPS        0     0.513433\n",
       "1        0.0  IPS        1    -0.414368\n",
       "2        0.0  IPS        2     0.214695\n",
       "3        0.0  IPS        3     0.814809\n",
       "4        0.0  IPS        4    -0.894992"
      ]
     },
     "execution_count": 151,
     "metadata": {},
     "output_type": "execute_result"
    }
   ],
   "source": [
    "df10=sns.load_dataset(\"gammas\")\n",
    "df10.head()"
   ]
  },
  {
   "cell_type": "code",
   "execution_count": 152,
   "metadata": {},
   "outputs": [
    {
     "data": {
      "text/html": [
       "<div>\n",
       "<style scoped>\n",
       "    .dataframe tbody tr th:only-of-type {\n",
       "        vertical-align: middle;\n",
       "    }\n",
       "\n",
       "    .dataframe tbody tr th {\n",
       "        vertical-align: top;\n",
       "    }\n",
       "\n",
       "    .dataframe thead th {\n",
       "        text-align: right;\n",
       "    }\n",
       "</style>\n",
       "<table border=\"1\" class=\"dataframe\">\n",
       "  <thead>\n",
       "    <tr style=\"text-align: right;\">\n",
       "      <th></th>\n",
       "      <th>duration</th>\n",
       "      <th>waiting</th>\n",
       "      <th>kind</th>\n",
       "    </tr>\n",
       "  </thead>\n",
       "  <tbody>\n",
       "    <tr>\n",
       "      <th>0</th>\n",
       "      <td>3.600</td>\n",
       "      <td>79</td>\n",
       "      <td>long</td>\n",
       "    </tr>\n",
       "    <tr>\n",
       "      <th>1</th>\n",
       "      <td>1.800</td>\n",
       "      <td>54</td>\n",
       "      <td>short</td>\n",
       "    </tr>\n",
       "    <tr>\n",
       "      <th>2</th>\n",
       "      <td>3.333</td>\n",
       "      <td>74</td>\n",
       "      <td>long</td>\n",
       "    </tr>\n",
       "    <tr>\n",
       "      <th>3</th>\n",
       "      <td>2.283</td>\n",
       "      <td>62</td>\n",
       "      <td>short</td>\n",
       "    </tr>\n",
       "    <tr>\n",
       "      <th>4</th>\n",
       "      <td>4.533</td>\n",
       "      <td>85</td>\n",
       "      <td>long</td>\n",
       "    </tr>\n",
       "  </tbody>\n",
       "</table>\n",
       "</div>"
      ],
      "text/plain": [
       "   duration  waiting   kind\n",
       "0     3.600       79   long\n",
       "1     1.800       54  short\n",
       "2     3.333       74   long\n",
       "3     2.283       62  short\n",
       "4     4.533       85   long"
      ]
     },
     "execution_count": 152,
     "metadata": {},
     "output_type": "execute_result"
    }
   ],
   "source": [
    "df11=sns.load_dataset(\"geyser\")\n",
    "df11.head()"
   ]
  },
  {
   "cell_type": "code",
   "execution_count": 153,
   "metadata": {},
   "outputs": [
    {
     "data": {
      "text/html": [
       "<div>\n",
       "<style scoped>\n",
       "    .dataframe tbody tr th:only-of-type {\n",
       "        vertical-align: middle;\n",
       "    }\n",
       "\n",
       "    .dataframe tbody tr th {\n",
       "        vertical-align: top;\n",
       "    }\n",
       "\n",
       "    .dataframe thead th {\n",
       "        text-align: right;\n",
       "    }\n",
       "</style>\n",
       "<table border=\"1\" class=\"dataframe\">\n",
       "  <thead>\n",
       "    <tr style=\"text-align: right;\">\n",
       "      <th></th>\n",
       "      <th>carat</th>\n",
       "      <th>cut</th>\n",
       "      <th>color</th>\n",
       "      <th>clarity</th>\n",
       "      <th>depth</th>\n",
       "      <th>table</th>\n",
       "      <th>price</th>\n",
       "      <th>x</th>\n",
       "      <th>y</th>\n",
       "      <th>z</th>\n",
       "    </tr>\n",
       "  </thead>\n",
       "  <tbody>\n",
       "    <tr>\n",
       "      <th>0</th>\n",
       "      <td>0.23</td>\n",
       "      <td>Ideal</td>\n",
       "      <td>E</td>\n",
       "      <td>SI2</td>\n",
       "      <td>61.5</td>\n",
       "      <td>55.0</td>\n",
       "      <td>326</td>\n",
       "      <td>3.95</td>\n",
       "      <td>3.98</td>\n",
       "      <td>2.43</td>\n",
       "    </tr>\n",
       "    <tr>\n",
       "      <th>1</th>\n",
       "      <td>0.21</td>\n",
       "      <td>Premium</td>\n",
       "      <td>E</td>\n",
       "      <td>SI1</td>\n",
       "      <td>59.8</td>\n",
       "      <td>61.0</td>\n",
       "      <td>326</td>\n",
       "      <td>3.89</td>\n",
       "      <td>3.84</td>\n",
       "      <td>2.31</td>\n",
       "    </tr>\n",
       "    <tr>\n",
       "      <th>2</th>\n",
       "      <td>0.23</td>\n",
       "      <td>Good</td>\n",
       "      <td>E</td>\n",
       "      <td>VS1</td>\n",
       "      <td>56.9</td>\n",
       "      <td>65.0</td>\n",
       "      <td>327</td>\n",
       "      <td>4.05</td>\n",
       "      <td>4.07</td>\n",
       "      <td>2.31</td>\n",
       "    </tr>\n",
       "    <tr>\n",
       "      <th>3</th>\n",
       "      <td>0.29</td>\n",
       "      <td>Premium</td>\n",
       "      <td>I</td>\n",
       "      <td>VS2</td>\n",
       "      <td>62.4</td>\n",
       "      <td>58.0</td>\n",
       "      <td>334</td>\n",
       "      <td>4.20</td>\n",
       "      <td>4.23</td>\n",
       "      <td>2.63</td>\n",
       "    </tr>\n",
       "    <tr>\n",
       "      <th>4</th>\n",
       "      <td>0.31</td>\n",
       "      <td>Good</td>\n",
       "      <td>J</td>\n",
       "      <td>SI2</td>\n",
       "      <td>63.3</td>\n",
       "      <td>58.0</td>\n",
       "      <td>335</td>\n",
       "      <td>4.34</td>\n",
       "      <td>4.35</td>\n",
       "      <td>2.75</td>\n",
       "    </tr>\n",
       "  </tbody>\n",
       "</table>\n",
       "</div>"
      ],
      "text/plain": [
       "   carat      cut color clarity  depth  table  price     x     y     z\n",
       "0   0.23    Ideal     E     SI2   61.5   55.0    326  3.95  3.98  2.43\n",
       "1   0.21  Premium     E     SI1   59.8   61.0    326  3.89  3.84  2.31\n",
       "2   0.23     Good     E     VS1   56.9   65.0    327  4.05  4.07  2.31\n",
       "3   0.29  Premium     I     VS2   62.4   58.0    334  4.20  4.23  2.63\n",
       "4   0.31     Good     J     SI2   63.3   58.0    335  4.34  4.35  2.75"
      ]
     },
     "execution_count": 153,
     "metadata": {},
     "output_type": "execute_result"
    }
   ],
   "source": [
    "df5=sns.load_dataset(\"diamonds\")\n",
    "df5.head()"
   ]
  },
  {
   "cell_type": "code",
   "execution_count": 154,
   "metadata": {},
   "outputs": [
    {
     "data": {
      "text/html": [
       "<div>\n",
       "<style scoped>\n",
       "    .dataframe tbody tr th:only-of-type {\n",
       "        vertical-align: middle;\n",
       "    }\n",
       "\n",
       "    .dataframe tbody tr th {\n",
       "        vertical-align: top;\n",
       "    }\n",
       "\n",
       "    .dataframe thead th {\n",
       "        text-align: right;\n",
       "    }\n",
       "</style>\n",
       "<table border=\"1\" class=\"dataframe\">\n",
       "  <thead>\n",
       "    <tr style=\"text-align: right;\">\n",
       "      <th></th>\n",
       "      <th>carat</th>\n",
       "      <th>depth</th>\n",
       "      <th>table</th>\n",
       "      <th>price</th>\n",
       "      <th>x</th>\n",
       "      <th>y</th>\n",
       "      <th>z</th>\n",
       "    </tr>\n",
       "  </thead>\n",
       "  <tbody>\n",
       "    <tr>\n",
       "      <th>count</th>\n",
       "      <td>53940.000000</td>\n",
       "      <td>53940.000000</td>\n",
       "      <td>53940.000000</td>\n",
       "      <td>53940.000000</td>\n",
       "      <td>53940.000000</td>\n",
       "      <td>53940.000000</td>\n",
       "      <td>53940.000000</td>\n",
       "    </tr>\n",
       "    <tr>\n",
       "      <th>mean</th>\n",
       "      <td>0.797940</td>\n",
       "      <td>61.749405</td>\n",
       "      <td>57.457184</td>\n",
       "      <td>3932.799722</td>\n",
       "      <td>5.731157</td>\n",
       "      <td>5.734526</td>\n",
       "      <td>3.538734</td>\n",
       "    </tr>\n",
       "    <tr>\n",
       "      <th>std</th>\n",
       "      <td>0.474011</td>\n",
       "      <td>1.432621</td>\n",
       "      <td>2.234491</td>\n",
       "      <td>3989.439738</td>\n",
       "      <td>1.121761</td>\n",
       "      <td>1.142135</td>\n",
       "      <td>0.705699</td>\n",
       "    </tr>\n",
       "    <tr>\n",
       "      <th>min</th>\n",
       "      <td>0.200000</td>\n",
       "      <td>43.000000</td>\n",
       "      <td>43.000000</td>\n",
       "      <td>326.000000</td>\n",
       "      <td>0.000000</td>\n",
       "      <td>0.000000</td>\n",
       "      <td>0.000000</td>\n",
       "    </tr>\n",
       "    <tr>\n",
       "      <th>25%</th>\n",
       "      <td>0.400000</td>\n",
       "      <td>61.000000</td>\n",
       "      <td>56.000000</td>\n",
       "      <td>950.000000</td>\n",
       "      <td>4.710000</td>\n",
       "      <td>4.720000</td>\n",
       "      <td>2.910000</td>\n",
       "    </tr>\n",
       "    <tr>\n",
       "      <th>50%</th>\n",
       "      <td>0.700000</td>\n",
       "      <td>61.800000</td>\n",
       "      <td>57.000000</td>\n",
       "      <td>2401.000000</td>\n",
       "      <td>5.700000</td>\n",
       "      <td>5.710000</td>\n",
       "      <td>3.530000</td>\n",
       "    </tr>\n",
       "    <tr>\n",
       "      <th>75%</th>\n",
       "      <td>1.040000</td>\n",
       "      <td>62.500000</td>\n",
       "      <td>59.000000</td>\n",
       "      <td>5324.250000</td>\n",
       "      <td>6.540000</td>\n",
       "      <td>6.540000</td>\n",
       "      <td>4.040000</td>\n",
       "    </tr>\n",
       "    <tr>\n",
       "      <th>max</th>\n",
       "      <td>5.010000</td>\n",
       "      <td>79.000000</td>\n",
       "      <td>95.000000</td>\n",
       "      <td>18823.000000</td>\n",
       "      <td>10.740000</td>\n",
       "      <td>58.900000</td>\n",
       "      <td>31.800000</td>\n",
       "    </tr>\n",
       "  </tbody>\n",
       "</table>\n",
       "</div>"
      ],
      "text/plain": [
       "              carat         depth         table         price             x  \\\n",
       "count  53940.000000  53940.000000  53940.000000  53940.000000  53940.000000   \n",
       "mean       0.797940     61.749405     57.457184   3932.799722      5.731157   \n",
       "std        0.474011      1.432621      2.234491   3989.439738      1.121761   \n",
       "min        0.200000     43.000000     43.000000    326.000000      0.000000   \n",
       "25%        0.400000     61.000000     56.000000    950.000000      4.710000   \n",
       "50%        0.700000     61.800000     57.000000   2401.000000      5.700000   \n",
       "75%        1.040000     62.500000     59.000000   5324.250000      6.540000   \n",
       "max        5.010000     79.000000     95.000000  18823.000000     10.740000   \n",
       "\n",
       "                  y             z  \n",
       "count  53940.000000  53940.000000  \n",
       "mean       5.734526      3.538734  \n",
       "std        1.142135      0.705699  \n",
       "min        0.000000      0.000000  \n",
       "25%        4.720000      2.910000  \n",
       "50%        5.710000      3.530000  \n",
       "75%        6.540000      4.040000  \n",
       "max       58.900000     31.800000  "
      ]
     },
     "execution_count": 154,
     "metadata": {},
     "output_type": "execute_result"
    }
   ],
   "source": [
    "df5.describe()"
   ]
  },
  {
   "cell_type": "code",
   "execution_count": null,
   "metadata": {},
   "outputs": [],
   "source": []
  },
  {
   "cell_type": "code",
   "execution_count": 155,
   "metadata": {},
   "outputs": [
    {
     "ename": "SyntaxError",
     "evalue": "invalid syntax (Temp/ipykernel_12852/2596126701.py, line 1)",
     "output_type": "error",
     "traceback": [
      "\u001b[1;36m  File \u001b[1;32m\"C:\\Users\\LENOVO\\AppData\\Local\\Temp/ipykernel_12852/2596126701.py\"\u001b[1;36m, line \u001b[1;32m1\u001b[0m\n\u001b[1;33m    PANDAS SERİSİ OLUŞTURMA\u001b[0m\n\u001b[1;37m           ^\u001b[0m\n\u001b[1;31mSyntaxError\u001b[0m\u001b[1;31m:\u001b[0m invalid syntax\n"
     ]
    }
   ],
   "source": [
    "PANDAS SERİSİ OLUŞTURMA"
   ]
  },
  {
   "cell_type": "code",
   "execution_count": null,
   "metadata": {},
   "outputs": [],
   "source": [
    "np.random.seed(42)\n",
    "df3 = pd.DataFrame(  np.random.randn(5,4), \n",
    "                   index = ['A', 'B', 'C', 'D', 'E'], \n",
    "                   columns = 'W X Y Z'.split()          )\n",
    "df3"
   ]
  },
  {
   "cell_type": "code",
   "execution_count": null,
   "metadata": {},
   "outputs": [],
   "source": [
    "np.array([1,2,3,4,5])"
   ]
  },
  {
   "cell_type": "code",
   "execution_count": null,
   "metadata": {},
   "outputs": [],
   "source": [
    "serr= pd.Series([11,1223,34])\n",
    "serr"
   ]
  },
  {
   "cell_type": "code",
   "execution_count": null,
   "metadata": {},
   "outputs": [],
   "source": [
    "data=[\"Ankara\", \"İstanbul\", \"İzmir\"]\n",
    "index=[\"A\", \"B\", \"C\"]\n",
    "pd.Series(data,index)"
   ]
  },
  {
   "cell_type": "markdown",
   "metadata": {},
   "source": [
    "INDEX ADINI DEĞİŞTİRME"
   ]
  },
  {
   "cell_type": "code",
   "execution_count": 156,
   "metadata": {},
   "outputs": [
    {
     "data": {
      "text/html": [
       "<div>\n",
       "<style scoped>\n",
       "    .dataframe tbody tr th:only-of-type {\n",
       "        vertical-align: middle;\n",
       "    }\n",
       "\n",
       "    .dataframe tbody tr th {\n",
       "        vertical-align: top;\n",
       "    }\n",
       "\n",
       "    .dataframe thead th {\n",
       "        text-align: right;\n",
       "    }\n",
       "</style>\n",
       "<table border=\"1\" class=\"dataframe\">\n",
       "  <thead>\n",
       "    <tr style=\"text-align: right;\">\n",
       "      <th></th>\n",
       "      <th>network</th>\n",
       "      <th>1</th>\n",
       "      <th>1.1</th>\n",
       "      <th>2</th>\n",
       "      <th>2.1</th>\n",
       "      <th>3</th>\n",
       "      <th>3.1</th>\n",
       "      <th>4</th>\n",
       "      <th>4.1</th>\n",
       "      <th>5</th>\n",
       "      <th>...</th>\n",
       "      <th>16.5</th>\n",
       "      <th>16.6</th>\n",
       "      <th>16.7</th>\n",
       "      <th>17</th>\n",
       "      <th>17.1</th>\n",
       "      <th>17.2</th>\n",
       "      <th>17.3</th>\n",
       "      <th>17.4</th>\n",
       "      <th>17.5</th>\n",
       "      <th>17.6</th>\n",
       "    </tr>\n",
       "  </thead>\n",
       "  <tbody>\n",
       "    <tr>\n",
       "      <th>0</th>\n",
       "      <td>node</td>\n",
       "      <td>1</td>\n",
       "      <td>1</td>\n",
       "      <td>1</td>\n",
       "      <td>1</td>\n",
       "      <td>1</td>\n",
       "      <td>1</td>\n",
       "      <td>1</td>\n",
       "      <td>1</td>\n",
       "      <td>1</td>\n",
       "      <td>...</td>\n",
       "      <td>3</td>\n",
       "      <td>4</td>\n",
       "      <td>4</td>\n",
       "      <td>1</td>\n",
       "      <td>1</td>\n",
       "      <td>2</td>\n",
       "      <td>2</td>\n",
       "      <td>3</td>\n",
       "      <td>3</td>\n",
       "      <td>4</td>\n",
       "    </tr>\n",
       "    <tr>\n",
       "      <th>1</th>\n",
       "      <td>hemi</td>\n",
       "      <td>lh</td>\n",
       "      <td>rh</td>\n",
       "      <td>lh</td>\n",
       "      <td>rh</td>\n",
       "      <td>lh</td>\n",
       "      <td>rh</td>\n",
       "      <td>lh</td>\n",
       "      <td>rh</td>\n",
       "      <td>lh</td>\n",
       "      <td>...</td>\n",
       "      <td>rh</td>\n",
       "      <td>lh</td>\n",
       "      <td>rh</td>\n",
       "      <td>lh</td>\n",
       "      <td>rh</td>\n",
       "      <td>lh</td>\n",
       "      <td>rh</td>\n",
       "      <td>lh</td>\n",
       "      <td>rh</td>\n",
       "      <td>lh</td>\n",
       "    </tr>\n",
       "    <tr>\n",
       "      <th>2</th>\n",
       "      <td>NaN</td>\n",
       "      <td>NaN</td>\n",
       "      <td>NaN</td>\n",
       "      <td>NaN</td>\n",
       "      <td>NaN</td>\n",
       "      <td>NaN</td>\n",
       "      <td>NaN</td>\n",
       "      <td>NaN</td>\n",
       "      <td>NaN</td>\n",
       "      <td>NaN</td>\n",
       "      <td>...</td>\n",
       "      <td>NaN</td>\n",
       "      <td>NaN</td>\n",
       "      <td>NaN</td>\n",
       "      <td>NaN</td>\n",
       "      <td>NaN</td>\n",
       "      <td>NaN</td>\n",
       "      <td>NaN</td>\n",
       "      <td>NaN</td>\n",
       "      <td>NaN</td>\n",
       "      <td>NaN</td>\n",
       "    </tr>\n",
       "    <tr>\n",
       "      <th>3</th>\n",
       "      <td>0</td>\n",
       "      <td>56.05574417114258</td>\n",
       "      <td>92.03103637695312</td>\n",
       "      <td>3.391575574874878</td>\n",
       "      <td>38.65968322753906</td>\n",
       "      <td>26.203819274902344</td>\n",
       "      <td>-49.71556854248047</td>\n",
       "      <td>47.4610366821289</td>\n",
       "      <td>26.746612548828125</td>\n",
       "      <td>-35.898860931396484</td>\n",
       "      <td>...</td>\n",
       "      <td>0.6079040169715881</td>\n",
       "      <td>-70.27054595947266</td>\n",
       "      <td>77.36577606201172</td>\n",
       "      <td>-21.73455047607422</td>\n",
       "      <td>1.0282527208328247</td>\n",
       "      <td>7.7917842864990225</td>\n",
       "      <td>68.90372467041016</td>\n",
       "      <td>-10.520872116088867</td>\n",
       "      <td>120.49046325683594</td>\n",
       "      <td>-39.686431884765625</td>\n",
       "    </tr>\n",
       "    <tr>\n",
       "      <th>4</th>\n",
       "      <td>1</td>\n",
       "      <td>55.5472526550293</td>\n",
       "      <td>43.6900749206543</td>\n",
       "      <td>-65.49598693847656</td>\n",
       "      <td>-13.974522590637207</td>\n",
       "      <td>-28.27496337890625</td>\n",
       "      <td>-39.05012893676758</td>\n",
       "      <td>-1.2106596231460571</td>\n",
       "      <td>-19.012897491455078</td>\n",
       "      <td>19.568010330200195</td>\n",
       "      <td>...</td>\n",
       "      <td>57.49507141113281</td>\n",
       "      <td>-76.39321899414062</td>\n",
       "      <td>127.26136016845705</td>\n",
       "      <td>-13.035799026489258</td>\n",
       "      <td>46.3818244934082</td>\n",
       "      <td>-15.752449989318848</td>\n",
       "      <td>31.00033187866211</td>\n",
       "      <td>-39.607521057128906</td>\n",
       "      <td>24.76401138305664</td>\n",
       "      <td>-36.7710075378418</td>\n",
       "    </tr>\n",
       "    <tr>\n",
       "      <th>...</th>\n",
       "      <td>...</td>\n",
       "      <td>...</td>\n",
       "      <td>...</td>\n",
       "      <td>...</td>\n",
       "      <td>...</td>\n",
       "      <td>...</td>\n",
       "      <td>...</td>\n",
       "      <td>...</td>\n",
       "      <td>...</td>\n",
       "      <td>...</td>\n",
       "      <td>...</td>\n",
       "      <td>...</td>\n",
       "      <td>...</td>\n",
       "      <td>...</td>\n",
       "      <td>...</td>\n",
       "      <td>...</td>\n",
       "      <td>...</td>\n",
       "      <td>...</td>\n",
       "      <td>...</td>\n",
       "      <td>...</td>\n",
       "      <td>...</td>\n",
       "    </tr>\n",
       "    <tr>\n",
       "      <th>918</th>\n",
       "      <td>915</td>\n",
       "      <td>-7.4295125007629395</td>\n",
       "      <td>-4.81321907043457</td>\n",
       "      <td>-3.670536518096924</td>\n",
       "      <td>1.4422610998153689</td>\n",
       "      <td>-19.6804313659668</td>\n",
       "      <td>-29.109355926513672</td>\n",
       "      <td>-3.3765623569488525</td>\n",
       "      <td>-8.764892578125</td>\n",
       "      <td>0.017911728471517563</td>\n",
       "      <td>...</td>\n",
       "      <td>58.28579330444336</td>\n",
       "      <td>68.55741119384766</td>\n",
       "      <td>22.83304786682129</td>\n",
       "      <td>76.17948913574219</td>\n",
       "      <td>51.9346694946289</td>\n",
       "      <td>-6.614512920379639</td>\n",
       "      <td>-6.690762042999268</td>\n",
       "      <td>22.893030166625977</td>\n",
       "      <td>48.27437973022461</td>\n",
       "      <td>76.22845458984375</td>\n",
       "    </tr>\n",
       "    <tr>\n",
       "      <th>919</th>\n",
       "      <td>916</td>\n",
       "      <td>-33.55413818359375</td>\n",
       "      <td>-38.60562133789063</td>\n",
       "      <td>-25.66480255126953</td>\n",
       "      <td>-30.252351760864254</td>\n",
       "      <td>5.5627851486206055</td>\n",
       "      <td>20.182186126708984</td>\n",
       "      <td>17.91124725341797</td>\n",
       "      <td>24.65358161926269</td>\n",
       "      <td>-32.93561172485352</td>\n",
       "      <td>...</td>\n",
       "      <td>59.86481857299805</td>\n",
       "      <td>23.00457763671875</td>\n",
       "      <td>7.6574625968933105</td>\n",
       "      <td>50.96239852905274</td>\n",
       "      <td>13.696922302246096</td>\n",
       "      <td>63.50361633300781</td>\n",
       "      <td>57.40117645263672</td>\n",
       "      <td>24.97454833984375</td>\n",
       "      <td>51.97215270996094</td>\n",
       "      <td>64.53878784179689</td>\n",
       "    </tr>\n",
       "    <tr>\n",
       "      <th>920</th>\n",
       "      <td>917</td>\n",
       "      <td>-78.53956604003906</td>\n",
       "      <td>-74.19718933105469</td>\n",
       "      <td>-54.04159545898438</td>\n",
       "      <td>-39.97029113769531</td>\n",
       "      <td>-14.277058601379395</td>\n",
       "      <td>-30.606460571289066</td>\n",
       "      <td>60.62852096557617</td>\n",
       "      <td>62.02702331542969</td>\n",
       "      <td>-32.80055618286133</td>\n",
       "      <td>...</td>\n",
       "      <td>68.76786804199219</td>\n",
       "      <td>49.66401672363281</td>\n",
       "      <td>64.55149841308594</td>\n",
       "      <td>43.80074691772461</td>\n",
       "      <td>8.144479751586914</td>\n",
       "      <td>47.28145980834961</td>\n",
       "      <td>70.49964904785156</td>\n",
       "      <td>66.99440002441406</td>\n",
       "      <td>81.53924560546875</td>\n",
       "      <td>64.96977233886719</td>\n",
       "    </tr>\n",
       "    <tr>\n",
       "      <th>921</th>\n",
       "      <td>918</td>\n",
       "      <td>-103.23582458496094</td>\n",
       "      <td>-98.7442855834961</td>\n",
       "      <td>-40.10954284667969</td>\n",
       "      <td>-44.90773391723633</td>\n",
       "      <td>12.109148025512695</td>\n",
       "      <td>1.6213401556015017</td>\n",
       "      <td>33.765560150146484</td>\n",
       "      <td>55.35607147216797</td>\n",
       "      <td>-14.330512046813965</td>\n",
       "      <td>...</td>\n",
       "      <td>103.1552505493164</td>\n",
       "      <td>106.45484924316406</td>\n",
       "      <td>9.04682731628418</td>\n",
       "      <td>46.67441940307617</td>\n",
       "      <td>40.95479583740234</td>\n",
       "      <td>0.8771800398826599</td>\n",
       "      <td>37.57715225219727</td>\n",
       "      <td>20.517745971679688</td>\n",
       "      <td>3.124434232711792</td>\n",
       "      <td>56.71838760375977</td>\n",
       "    </tr>\n",
       "    <tr>\n",
       "      <th>922</th>\n",
       "      <td>919</td>\n",
       "      <td>-36.28886795043945</td>\n",
       "      <td>-10.762069702148438</td>\n",
       "      <td>-30.35626220703125</td>\n",
       "      <td>-23.31950378417969</td>\n",
       "      <td>14.252187728881836</td>\n",
       "      <td>-27.55986022949219</td>\n",
       "      <td>17.279512405395508</td>\n",
       "      <td>-19.060152053833008</td>\n",
       "      <td>26.55877685546875</td>\n",
       "      <td>...</td>\n",
       "      <td>102.0863037109375</td>\n",
       "      <td>80.05113983154297</td>\n",
       "      <td>-2.6426103115081787</td>\n",
       "      <td>-12.229619979858398</td>\n",
       "      <td>-6.596726417541504</td>\n",
       "      <td>17.665163040161133</td>\n",
       "      <td>16.153173446655273</td>\n",
       "      <td>8.300398826599121</td>\n",
       "      <td>33.687530517578125</td>\n",
       "      <td>17.960655212402344</td>\n",
       "    </tr>\n",
       "  </tbody>\n",
       "</table>\n",
       "<p>923 rows × 63 columns</p>\n",
       "</div>"
      ],
      "text/plain": [
       "    network                    1                  1.1                   2  \\\n",
       "0      node                    1                    1                   1   \n",
       "1      hemi                   lh                   rh                  lh   \n",
       "2       NaN                  NaN                  NaN                 NaN   \n",
       "3         0    56.05574417114258    92.03103637695312   3.391575574874878   \n",
       "4         1     55.5472526550293     43.6900749206543  -65.49598693847656   \n",
       "..      ...                  ...                  ...                 ...   \n",
       "918     915  -7.4295125007629395    -4.81321907043457  -3.670536518096924   \n",
       "919     916   -33.55413818359375   -38.60562133789063  -25.66480255126953   \n",
       "920     917   -78.53956604003906   -74.19718933105469  -54.04159545898438   \n",
       "921     918  -103.23582458496094    -98.7442855834961  -40.10954284667969   \n",
       "922     919   -36.28886795043945  -10.762069702148438  -30.35626220703125   \n",
       "\n",
       "                     2.1                    3                  3.1  \\\n",
       "0                      1                    1                    1   \n",
       "1                     rh                   lh                   rh   \n",
       "2                    NaN                  NaN                  NaN   \n",
       "3      38.65968322753906   26.203819274902344   -49.71556854248047   \n",
       "4    -13.974522590637207   -28.27496337890625   -39.05012893676758   \n",
       "..                   ...                  ...                  ...   \n",
       "918   1.4422610998153689    -19.6804313659668  -29.109355926513672   \n",
       "919  -30.252351760864254   5.5627851486206055   20.182186126708984   \n",
       "920   -39.97029113769531  -14.277058601379395  -30.606460571289066   \n",
       "921   -44.90773391723633   12.109148025512695   1.6213401556015017   \n",
       "922   -23.31950378417969   14.252187728881836   -27.55986022949219   \n",
       "\n",
       "                       4                  4.1                     5  ...  \\\n",
       "0                      1                    1                     1  ...   \n",
       "1                     lh                   rh                    lh  ...   \n",
       "2                    NaN                  NaN                   NaN  ...   \n",
       "3       47.4610366821289   26.746612548828125   -35.898860931396484  ...   \n",
       "4    -1.2106596231460571  -19.012897491455078    19.568010330200195  ...   \n",
       "..                   ...                  ...                   ...  ...   \n",
       "918  -3.3765623569488525      -8.764892578125  0.017911728471517563  ...   \n",
       "919    17.91124725341797    24.65358161926269    -32.93561172485352  ...   \n",
       "920    60.62852096557617    62.02702331542969    -32.80055618286133  ...   \n",
       "921   33.765560150146484    55.35607147216797   -14.330512046813965  ...   \n",
       "922   17.279512405395508  -19.060152053833008     26.55877685546875  ...   \n",
       "\n",
       "                   16.5                16.6                 16.7  \\\n",
       "0                     3                   4                    4   \n",
       "1                    rh                  lh                   rh   \n",
       "2                   NaN                 NaN                  NaN   \n",
       "3    0.6079040169715881  -70.27054595947266    77.36577606201172   \n",
       "4     57.49507141113281  -76.39321899414062   127.26136016845705   \n",
       "..                  ...                 ...                  ...   \n",
       "918   58.28579330444336   68.55741119384766    22.83304786682129   \n",
       "919   59.86481857299805   23.00457763671875   7.6574625968933105   \n",
       "920   68.76786804199219   49.66401672363281    64.55149841308594   \n",
       "921   103.1552505493164  106.45484924316406     9.04682731628418   \n",
       "922   102.0863037109375   80.05113983154297  -2.6426103115081787   \n",
       "\n",
       "                      17                17.1                 17.2  \\\n",
       "0                      1                   1                    2   \n",
       "1                     lh                  rh                   lh   \n",
       "2                    NaN                 NaN                  NaN   \n",
       "3     -21.73455047607422  1.0282527208328247   7.7917842864990225   \n",
       "4    -13.035799026489258    46.3818244934082  -15.752449989318848   \n",
       "..                   ...                 ...                  ...   \n",
       "918    76.17948913574219    51.9346694946289   -6.614512920379639   \n",
       "919    50.96239852905274  13.696922302246096    63.50361633300781   \n",
       "920    43.80074691772461   8.144479751586914    47.28145980834961   \n",
       "921    46.67441940307617   40.95479583740234   0.8771800398826599   \n",
       "922  -12.229619979858398  -6.596726417541504   17.665163040161133   \n",
       "\n",
       "                   17.3                 17.4                17.5  \\\n",
       "0                     2                    3                   3   \n",
       "1                    rh                   lh                  rh   \n",
       "2                   NaN                  NaN                 NaN   \n",
       "3     68.90372467041016  -10.520872116088867  120.49046325683594   \n",
       "4     31.00033187866211  -39.607521057128906   24.76401138305664   \n",
       "..                  ...                  ...                 ...   \n",
       "918  -6.690762042999268   22.893030166625977   48.27437973022461   \n",
       "919   57.40117645263672    24.97454833984375   51.97215270996094   \n",
       "920   70.49964904785156    66.99440002441406   81.53924560546875   \n",
       "921   37.57715225219727   20.517745971679688   3.124434232711792   \n",
       "922  16.153173446655273    8.300398826599121  33.687530517578125   \n",
       "\n",
       "                    17.6  \n",
       "0                      4  \n",
       "1                     lh  \n",
       "2                    NaN  \n",
       "3    -39.686431884765625  \n",
       "4      -36.7710075378418  \n",
       "..                   ...  \n",
       "918    76.22845458984375  \n",
       "919    64.53878784179689  \n",
       "920    64.96977233886719  \n",
       "921    56.71838760375977  \n",
       "922   17.960655212402344  \n",
       "\n",
       "[923 rows x 63 columns]"
      ]
     },
     "execution_count": 156,
     "metadata": {},
     "output_type": "execute_result"
    }
   ],
   "source": [
    "df3"
   ]
  },
  {
   "cell_type": "code",
   "execution_count": 158,
   "metadata": {},
   "outputs": [
    {
     "ename": "ValueError",
     "evalue": "Length mismatch: Expected axis has 923 elements, new values have 5 elements",
     "output_type": "error",
     "traceback": [
      "\u001b[1;31m---------------------------------------------------------------------------\u001b[0m",
      "\u001b[1;31mValueError\u001b[0m                                Traceback (most recent call last)",
      "\u001b[1;32m~\\AppData\\Local\\Temp/ipykernel_12852/4050977027.py\u001b[0m in \u001b[0;36m<module>\u001b[1;34m\u001b[0m\n\u001b[1;32m----> 1\u001b[1;33m \u001b[0mdf3\u001b[0m\u001b[1;33m.\u001b[0m\u001b[0mindex\u001b[0m\u001b[1;33m=\u001b[0m\u001b[1;34m'a b c d e'\u001b[0m\u001b[1;33m.\u001b[0m\u001b[0msplit\u001b[0m\u001b[1;33m(\u001b[0m\u001b[1;33m)\u001b[0m\u001b[1;33m\u001b[0m\u001b[1;33m\u001b[0m\u001b[0m\n\u001b[0m\u001b[0;32m      2\u001b[0m \u001b[0mdf3\u001b[0m\u001b[1;33m\u001b[0m\u001b[1;33m\u001b[0m\u001b[0m\n",
      "\u001b[1;32m~\\anaconda3\\envs\\my-env\\lib\\site-packages\\pandas\\core\\generic.py\u001b[0m in \u001b[0;36m__setattr__\u001b[1;34m(self, name, value)\u001b[0m\n\u001b[0;32m   5498\u001b[0m         \u001b[1;32mtry\u001b[0m\u001b[1;33m:\u001b[0m\u001b[1;33m\u001b[0m\u001b[1;33m\u001b[0m\u001b[0m\n\u001b[0;32m   5499\u001b[0m             \u001b[0mobject\u001b[0m\u001b[1;33m.\u001b[0m\u001b[0m__getattribute__\u001b[0m\u001b[1;33m(\u001b[0m\u001b[0mself\u001b[0m\u001b[1;33m,\u001b[0m \u001b[0mname\u001b[0m\u001b[1;33m)\u001b[0m\u001b[1;33m\u001b[0m\u001b[1;33m\u001b[0m\u001b[0m\n\u001b[1;32m-> 5500\u001b[1;33m             \u001b[1;32mreturn\u001b[0m \u001b[0mobject\u001b[0m\u001b[1;33m.\u001b[0m\u001b[0m__setattr__\u001b[0m\u001b[1;33m(\u001b[0m\u001b[0mself\u001b[0m\u001b[1;33m,\u001b[0m \u001b[0mname\u001b[0m\u001b[1;33m,\u001b[0m \u001b[0mvalue\u001b[0m\u001b[1;33m)\u001b[0m\u001b[1;33m\u001b[0m\u001b[1;33m\u001b[0m\u001b[0m\n\u001b[0m\u001b[0;32m   5501\u001b[0m         \u001b[1;32mexcept\u001b[0m \u001b[0mAttributeError\u001b[0m\u001b[1;33m:\u001b[0m\u001b[1;33m\u001b[0m\u001b[1;33m\u001b[0m\u001b[0m\n\u001b[0;32m   5502\u001b[0m             \u001b[1;32mpass\u001b[0m\u001b[1;33m\u001b[0m\u001b[1;33m\u001b[0m\u001b[0m\n",
      "\u001b[1;32m~\\anaconda3\\envs\\my-env\\lib\\site-packages\\pandas\\_libs\\properties.pyx\u001b[0m in \u001b[0;36mpandas._libs.properties.AxisProperty.__set__\u001b[1;34m()\u001b[0m\n",
      "\u001b[1;32m~\\anaconda3\\envs\\my-env\\lib\\site-packages\\pandas\\core\\generic.py\u001b[0m in \u001b[0;36m_set_axis\u001b[1;34m(self, axis, labels)\u001b[0m\n\u001b[0;32m    764\u001b[0m     \u001b[1;32mdef\u001b[0m \u001b[0m_set_axis\u001b[0m\u001b[1;33m(\u001b[0m\u001b[0mself\u001b[0m\u001b[1;33m,\u001b[0m \u001b[0maxis\u001b[0m\u001b[1;33m:\u001b[0m \u001b[0mint\u001b[0m\u001b[1;33m,\u001b[0m \u001b[0mlabels\u001b[0m\u001b[1;33m:\u001b[0m \u001b[0mIndex\u001b[0m\u001b[1;33m)\u001b[0m \u001b[1;33m->\u001b[0m \u001b[1;32mNone\u001b[0m\u001b[1;33m:\u001b[0m\u001b[1;33m\u001b[0m\u001b[1;33m\u001b[0m\u001b[0m\n\u001b[0;32m    765\u001b[0m         \u001b[0mlabels\u001b[0m \u001b[1;33m=\u001b[0m \u001b[0mensure_index\u001b[0m\u001b[1;33m(\u001b[0m\u001b[0mlabels\u001b[0m\u001b[1;33m)\u001b[0m\u001b[1;33m\u001b[0m\u001b[1;33m\u001b[0m\u001b[0m\n\u001b[1;32m--> 766\u001b[1;33m         \u001b[0mself\u001b[0m\u001b[1;33m.\u001b[0m\u001b[0m_mgr\u001b[0m\u001b[1;33m.\u001b[0m\u001b[0mset_axis\u001b[0m\u001b[1;33m(\u001b[0m\u001b[0maxis\u001b[0m\u001b[1;33m,\u001b[0m \u001b[0mlabels\u001b[0m\u001b[1;33m)\u001b[0m\u001b[1;33m\u001b[0m\u001b[1;33m\u001b[0m\u001b[0m\n\u001b[0m\u001b[0;32m    767\u001b[0m         \u001b[0mself\u001b[0m\u001b[1;33m.\u001b[0m\u001b[0m_clear_item_cache\u001b[0m\u001b[1;33m(\u001b[0m\u001b[1;33m)\u001b[0m\u001b[1;33m\u001b[0m\u001b[1;33m\u001b[0m\u001b[0m\n\u001b[0;32m    768\u001b[0m \u001b[1;33m\u001b[0m\u001b[0m\n",
      "\u001b[1;32m~\\anaconda3\\envs\\my-env\\lib\\site-packages\\pandas\\core\\internals\\managers.py\u001b[0m in \u001b[0;36mset_axis\u001b[1;34m(self, axis, new_labels)\u001b[0m\n\u001b[0;32m    214\u001b[0m     \u001b[1;32mdef\u001b[0m \u001b[0mset_axis\u001b[0m\u001b[1;33m(\u001b[0m\u001b[0mself\u001b[0m\u001b[1;33m,\u001b[0m \u001b[0maxis\u001b[0m\u001b[1;33m:\u001b[0m \u001b[0mint\u001b[0m\u001b[1;33m,\u001b[0m \u001b[0mnew_labels\u001b[0m\u001b[1;33m:\u001b[0m \u001b[0mIndex\u001b[0m\u001b[1;33m)\u001b[0m \u001b[1;33m->\u001b[0m \u001b[1;32mNone\u001b[0m\u001b[1;33m:\u001b[0m\u001b[1;33m\u001b[0m\u001b[1;33m\u001b[0m\u001b[0m\n\u001b[0;32m    215\u001b[0m         \u001b[1;31m# Caller is responsible for ensuring we have an Index object.\u001b[0m\u001b[1;33m\u001b[0m\u001b[1;33m\u001b[0m\u001b[1;33m\u001b[0m\u001b[0m\n\u001b[1;32m--> 216\u001b[1;33m         \u001b[0mself\u001b[0m\u001b[1;33m.\u001b[0m\u001b[0m_validate_set_axis\u001b[0m\u001b[1;33m(\u001b[0m\u001b[0maxis\u001b[0m\u001b[1;33m,\u001b[0m \u001b[0mnew_labels\u001b[0m\u001b[1;33m)\u001b[0m\u001b[1;33m\u001b[0m\u001b[1;33m\u001b[0m\u001b[0m\n\u001b[0m\u001b[0;32m    217\u001b[0m         \u001b[0mself\u001b[0m\u001b[1;33m.\u001b[0m\u001b[0maxes\u001b[0m\u001b[1;33m[\u001b[0m\u001b[0maxis\u001b[0m\u001b[1;33m]\u001b[0m \u001b[1;33m=\u001b[0m \u001b[0mnew_labels\u001b[0m\u001b[1;33m\u001b[0m\u001b[1;33m\u001b[0m\u001b[0m\n\u001b[0;32m    218\u001b[0m \u001b[1;33m\u001b[0m\u001b[0m\n",
      "\u001b[1;32m~\\anaconda3\\envs\\my-env\\lib\\site-packages\\pandas\\core\\internals\\base.py\u001b[0m in \u001b[0;36m_validate_set_axis\u001b[1;34m(self, axis, new_labels)\u001b[0m\n\u001b[0;32m     55\u001b[0m \u001b[1;33m\u001b[0m\u001b[0m\n\u001b[0;32m     56\u001b[0m         \u001b[1;32melif\u001b[0m \u001b[0mnew_len\u001b[0m \u001b[1;33m!=\u001b[0m \u001b[0mold_len\u001b[0m\u001b[1;33m:\u001b[0m\u001b[1;33m\u001b[0m\u001b[1;33m\u001b[0m\u001b[0m\n\u001b[1;32m---> 57\u001b[1;33m             raise ValueError(\n\u001b[0m\u001b[0;32m     58\u001b[0m                 \u001b[1;34mf\"Length mismatch: Expected axis has {old_len} elements, new \"\u001b[0m\u001b[1;33m\u001b[0m\u001b[1;33m\u001b[0m\u001b[0m\n\u001b[0;32m     59\u001b[0m                 \u001b[1;34mf\"values have {new_len} elements\"\u001b[0m\u001b[1;33m\u001b[0m\u001b[1;33m\u001b[0m\u001b[0m\n",
      "\u001b[1;31mValueError\u001b[0m: Length mismatch: Expected axis has 923 elements, new values have 5 elements"
     ]
    }
   ],
   "source": [
    "df3.index='a b c d e'.split()\n",
    "df3"
   ]
  },
  {
   "cell_type": "markdown",
   "metadata": {},
   "source": [
    "Tablonun tüm değerlerini liste şeklinde görme"
   ]
  },
  {
   "cell_type": "code",
   "execution_count": null,
   "metadata": {},
   "outputs": [],
   "source": [
    "list(df3.items())"
   ]
  },
  {
   "cell_type": "markdown",
   "metadata": {},
   "source": [
    "İndexi görme"
   ]
  },
  {
   "cell_type": "code",
   "execution_count": 159,
   "metadata": {},
   "outputs": [
    {
     "data": {
      "text/plain": [
       "RangeIndex(start=0, stop=923, step=1)"
      ]
     },
     "execution_count": 159,
     "metadata": {},
     "output_type": "execute_result"
    }
   ],
   "source": [
    "df3.index"
   ]
  },
  {
   "cell_type": "markdown",
   "metadata": {},
   "source": [
    "## indexin değerlerini görme"
   ]
  },
  {
   "cell_type": "code",
   "execution_count": null,
   "metadata": {},
   "outputs": [],
   "source": [
    "df.index_adı.unique()"
   ]
  },
  {
   "cell_type": "code",
   "execution_count": null,
   "metadata": {},
   "outputs": [],
   "source": [
    "a= df.groupby(\"index_sütununun_adı\").sum().index\n",
    "a"
   ]
  },
  {
   "cell_type": "markdown",
   "metadata": {},
   "source": [
    "## indexe göre bir sütunun değerlerini görme"
   ]
  },
  {
   "cell_type": "code",
   "execution_count": null,
   "metadata": {},
   "outputs": [],
   "source": [
    "day_of_total_bill= list(tips.groupby(\"day\")[\"total_bill\"].sum())\n",
    "day_of_total_bill"
   ]
  },
  {
   "cell_type": "markdown",
   "metadata": {},
   "source": [
    "SÜTUN İSİMLERİNİ GÖRME"
   ]
  },
  {
   "cell_type": "code",
   "execution_count": 160,
   "metadata": {},
   "outputs": [
    {
     "data": {
      "text/plain": [
       "Index(['network', '1', '1.1', '2', '2.1', '3', '3.1', '4', '4.1', '5', '5.1',\n",
       "       '6', '6.1', '6.2', '6.3', '7', '7.1', '7.2', '7.3', '7.4', '7.5', '8',\n",
       "       '8.1', '8.2', '8.3', '8.4', '8.5', '9', '9.1', '10', '10.1', '11',\n",
       "       '11.1', '12', '12.1', '12.2', '12.3', '12.4', '13', '13.1', '13.2',\n",
       "       '13.3', '13.4', '13.5', '14', '14.1', '15', '15.1', '16', '16.1',\n",
       "       '16.2', '16.3', '16.4', '16.5', '16.6', '16.7', '17', '17.1', '17.2',\n",
       "       '17.3', '17.4', '17.5', '17.6'],\n",
       "      dtype='object')"
      ]
     },
     "execution_count": 160,
     "metadata": {},
     "output_type": "execute_result"
    }
   ],
   "source": [
    "df3.keys()"
   ]
  },
  {
   "cell_type": "code",
   "execution_count": null,
   "metadata": {},
   "outputs": [],
   "source": [
    "# GARİP OLDU\n",
    "df3[\"W\":\"X\"]"
   ]
  },
  {
   "cell_type": "markdown",
   "metadata": {},
   "source": [
    "TABLONUN DEĞERLERİNİ GÖRME"
   ]
  },
  {
   "cell_type": "code",
   "execution_count": 161,
   "metadata": {},
   "outputs": [
    {
     "data": {
      "text/plain": [
       "array([['node', '1', '1', ..., '3', '3', '4'],\n",
       "       ['hemi', 'lh', 'rh', ..., 'lh', 'rh', 'lh'],\n",
       "       [nan, nan, nan, ..., nan, nan, nan],\n",
       "       ...,\n",
       "       ['917', '-78.53956604003906', '-74.19718933105469', ...,\n",
       "        '66.99440002441406', '81.53924560546875', '64.96977233886719'],\n",
       "       ['918', '-103.23582458496094', '-98.7442855834961', ...,\n",
       "        '20.517745971679688', '3.124434232711792', '56.71838760375977'],\n",
       "       ['919', '-36.28886795043945', '-10.762069702148438', ...,\n",
       "        '8.300398826599121', '33.687530517578125', '17.960655212402344']],\n",
       "      dtype=object)"
      ]
     },
     "execution_count": 161,
     "metadata": {},
     "output_type": "execute_result"
    }
   ],
   "source": [
    "df3.values"
   ]
  },
  {
   "cell_type": "code",
   "execution_count": null,
   "metadata": {},
   "outputs": [],
   "source": [
    "#values() ile göstermiyor.\n",
    "df3.values()"
   ]
  },
  {
   "cell_type": "markdown",
   "metadata": {},
   "source": [
    "TABLONUN DEĞERLERİNİ İNDİSE GÖRE GÖRME"
   ]
  },
  {
   "cell_type": "code",
   "execution_count": null,
   "metadata": {},
   "outputs": [],
   "source": [
    "#1.SATIRADKİ DEĞERELERİ GÖSTERİYOR.\n",
    "df3.values[1]"
   ]
  },
  {
   "cell_type": "markdown",
   "metadata": {},
   "source": [
    "INDEXLERİ SIRALAMA"
   ]
  },
  {
   "cell_type": "code",
   "execution_count": 167,
   "metadata": {},
   "outputs": [
    {
     "data": {
      "text/html": [
       "<div>\n",
       "<style scoped>\n",
       "    .dataframe tbody tr th:only-of-type {\n",
       "        vertical-align: middle;\n",
       "    }\n",
       "\n",
       "    .dataframe tbody tr th {\n",
       "        vertical-align: top;\n",
       "    }\n",
       "\n",
       "    .dataframe thead th {\n",
       "        text-align: right;\n",
       "    }\n",
       "</style>\n",
       "<table border=\"1\" class=\"dataframe\">\n",
       "  <thead>\n",
       "    <tr style=\"text-align: right;\">\n",
       "      <th></th>\n",
       "      <th>network</th>\n",
       "      <th>1</th>\n",
       "      <th>1.1</th>\n",
       "      <th>2</th>\n",
       "      <th>2.1</th>\n",
       "      <th>3</th>\n",
       "      <th>3.1</th>\n",
       "      <th>4</th>\n",
       "      <th>4.1</th>\n",
       "      <th>5</th>\n",
       "      <th>...</th>\n",
       "      <th>16.5</th>\n",
       "      <th>16.6</th>\n",
       "      <th>16.7</th>\n",
       "      <th>17</th>\n",
       "      <th>17.1</th>\n",
       "      <th>17.2</th>\n",
       "      <th>17.3</th>\n",
       "      <th>17.4</th>\n",
       "      <th>17.5</th>\n",
       "      <th>17.6</th>\n",
       "    </tr>\n",
       "  </thead>\n",
       "  <tbody>\n",
       "    <tr>\n",
       "      <th>0</th>\n",
       "      <td>node</td>\n",
       "      <td>1</td>\n",
       "      <td>1</td>\n",
       "      <td>1</td>\n",
       "      <td>1</td>\n",
       "      <td>1</td>\n",
       "      <td>1</td>\n",
       "      <td>1</td>\n",
       "      <td>1</td>\n",
       "      <td>1</td>\n",
       "      <td>...</td>\n",
       "      <td>3</td>\n",
       "      <td>4</td>\n",
       "      <td>4</td>\n",
       "      <td>1</td>\n",
       "      <td>1</td>\n",
       "      <td>2</td>\n",
       "      <td>2</td>\n",
       "      <td>3</td>\n",
       "      <td>3</td>\n",
       "      <td>4</td>\n",
       "    </tr>\n",
       "    <tr>\n",
       "      <th>1</th>\n",
       "      <td>hemi</td>\n",
       "      <td>lh</td>\n",
       "      <td>rh</td>\n",
       "      <td>lh</td>\n",
       "      <td>rh</td>\n",
       "      <td>lh</td>\n",
       "      <td>rh</td>\n",
       "      <td>lh</td>\n",
       "      <td>rh</td>\n",
       "      <td>lh</td>\n",
       "      <td>...</td>\n",
       "      <td>rh</td>\n",
       "      <td>lh</td>\n",
       "      <td>rh</td>\n",
       "      <td>lh</td>\n",
       "      <td>rh</td>\n",
       "      <td>lh</td>\n",
       "      <td>rh</td>\n",
       "      <td>lh</td>\n",
       "      <td>rh</td>\n",
       "      <td>lh</td>\n",
       "    </tr>\n",
       "    <tr>\n",
       "      <th>2</th>\n",
       "      <td>NaN</td>\n",
       "      <td>NaN</td>\n",
       "      <td>NaN</td>\n",
       "      <td>NaN</td>\n",
       "      <td>NaN</td>\n",
       "      <td>NaN</td>\n",
       "      <td>NaN</td>\n",
       "      <td>NaN</td>\n",
       "      <td>NaN</td>\n",
       "      <td>NaN</td>\n",
       "      <td>...</td>\n",
       "      <td>NaN</td>\n",
       "      <td>NaN</td>\n",
       "      <td>NaN</td>\n",
       "      <td>NaN</td>\n",
       "      <td>NaN</td>\n",
       "      <td>NaN</td>\n",
       "      <td>NaN</td>\n",
       "      <td>NaN</td>\n",
       "      <td>NaN</td>\n",
       "      <td>NaN</td>\n",
       "    </tr>\n",
       "    <tr>\n",
       "      <th>3</th>\n",
       "      <td>0</td>\n",
       "      <td>56.05574417114258</td>\n",
       "      <td>92.03103637695312</td>\n",
       "      <td>3.391575574874878</td>\n",
       "      <td>38.65968322753906</td>\n",
       "      <td>26.203819274902344</td>\n",
       "      <td>-49.71556854248047</td>\n",
       "      <td>47.4610366821289</td>\n",
       "      <td>26.746612548828125</td>\n",
       "      <td>-35.898860931396484</td>\n",
       "      <td>...</td>\n",
       "      <td>0.6079040169715881</td>\n",
       "      <td>-70.27054595947266</td>\n",
       "      <td>77.36577606201172</td>\n",
       "      <td>-21.73455047607422</td>\n",
       "      <td>1.0282527208328247</td>\n",
       "      <td>7.7917842864990225</td>\n",
       "      <td>68.90372467041016</td>\n",
       "      <td>-10.520872116088867</td>\n",
       "      <td>120.49046325683594</td>\n",
       "      <td>-39.686431884765625</td>\n",
       "    </tr>\n",
       "    <tr>\n",
       "      <th>4</th>\n",
       "      <td>1</td>\n",
       "      <td>55.5472526550293</td>\n",
       "      <td>43.6900749206543</td>\n",
       "      <td>-65.49598693847656</td>\n",
       "      <td>-13.974522590637207</td>\n",
       "      <td>-28.27496337890625</td>\n",
       "      <td>-39.05012893676758</td>\n",
       "      <td>-1.2106596231460571</td>\n",
       "      <td>-19.012897491455078</td>\n",
       "      <td>19.568010330200195</td>\n",
       "      <td>...</td>\n",
       "      <td>57.49507141113281</td>\n",
       "      <td>-76.39321899414062</td>\n",
       "      <td>127.26136016845705</td>\n",
       "      <td>-13.035799026489258</td>\n",
       "      <td>46.3818244934082</td>\n",
       "      <td>-15.752449989318848</td>\n",
       "      <td>31.00033187866211</td>\n",
       "      <td>-39.607521057128906</td>\n",
       "      <td>24.76401138305664</td>\n",
       "      <td>-36.7710075378418</td>\n",
       "    </tr>\n",
       "    <tr>\n",
       "      <th>...</th>\n",
       "      <td>...</td>\n",
       "      <td>...</td>\n",
       "      <td>...</td>\n",
       "      <td>...</td>\n",
       "      <td>...</td>\n",
       "      <td>...</td>\n",
       "      <td>...</td>\n",
       "      <td>...</td>\n",
       "      <td>...</td>\n",
       "      <td>...</td>\n",
       "      <td>...</td>\n",
       "      <td>...</td>\n",
       "      <td>...</td>\n",
       "      <td>...</td>\n",
       "      <td>...</td>\n",
       "      <td>...</td>\n",
       "      <td>...</td>\n",
       "      <td>...</td>\n",
       "      <td>...</td>\n",
       "      <td>...</td>\n",
       "      <td>...</td>\n",
       "    </tr>\n",
       "    <tr>\n",
       "      <th>918</th>\n",
       "      <td>915</td>\n",
       "      <td>-7.4295125007629395</td>\n",
       "      <td>-4.81321907043457</td>\n",
       "      <td>-3.670536518096924</td>\n",
       "      <td>1.4422610998153689</td>\n",
       "      <td>-19.6804313659668</td>\n",
       "      <td>-29.109355926513672</td>\n",
       "      <td>-3.3765623569488525</td>\n",
       "      <td>-8.764892578125</td>\n",
       "      <td>0.017911728471517563</td>\n",
       "      <td>...</td>\n",
       "      <td>58.28579330444336</td>\n",
       "      <td>68.55741119384766</td>\n",
       "      <td>22.83304786682129</td>\n",
       "      <td>76.17948913574219</td>\n",
       "      <td>51.9346694946289</td>\n",
       "      <td>-6.614512920379639</td>\n",
       "      <td>-6.690762042999268</td>\n",
       "      <td>22.893030166625977</td>\n",
       "      <td>48.27437973022461</td>\n",
       "      <td>76.22845458984375</td>\n",
       "    </tr>\n",
       "    <tr>\n",
       "      <th>919</th>\n",
       "      <td>916</td>\n",
       "      <td>-33.55413818359375</td>\n",
       "      <td>-38.60562133789063</td>\n",
       "      <td>-25.66480255126953</td>\n",
       "      <td>-30.252351760864254</td>\n",
       "      <td>5.5627851486206055</td>\n",
       "      <td>20.182186126708984</td>\n",
       "      <td>17.91124725341797</td>\n",
       "      <td>24.65358161926269</td>\n",
       "      <td>-32.93561172485352</td>\n",
       "      <td>...</td>\n",
       "      <td>59.86481857299805</td>\n",
       "      <td>23.00457763671875</td>\n",
       "      <td>7.6574625968933105</td>\n",
       "      <td>50.96239852905274</td>\n",
       "      <td>13.696922302246096</td>\n",
       "      <td>63.50361633300781</td>\n",
       "      <td>57.40117645263672</td>\n",
       "      <td>24.97454833984375</td>\n",
       "      <td>51.97215270996094</td>\n",
       "      <td>64.53878784179689</td>\n",
       "    </tr>\n",
       "    <tr>\n",
       "      <th>920</th>\n",
       "      <td>917</td>\n",
       "      <td>-78.53956604003906</td>\n",
       "      <td>-74.19718933105469</td>\n",
       "      <td>-54.04159545898438</td>\n",
       "      <td>-39.97029113769531</td>\n",
       "      <td>-14.277058601379395</td>\n",
       "      <td>-30.606460571289066</td>\n",
       "      <td>60.62852096557617</td>\n",
       "      <td>62.02702331542969</td>\n",
       "      <td>-32.80055618286133</td>\n",
       "      <td>...</td>\n",
       "      <td>68.76786804199219</td>\n",
       "      <td>49.66401672363281</td>\n",
       "      <td>64.55149841308594</td>\n",
       "      <td>43.80074691772461</td>\n",
       "      <td>8.144479751586914</td>\n",
       "      <td>47.28145980834961</td>\n",
       "      <td>70.49964904785156</td>\n",
       "      <td>66.99440002441406</td>\n",
       "      <td>81.53924560546875</td>\n",
       "      <td>64.96977233886719</td>\n",
       "    </tr>\n",
       "    <tr>\n",
       "      <th>921</th>\n",
       "      <td>918</td>\n",
       "      <td>-103.23582458496094</td>\n",
       "      <td>-98.7442855834961</td>\n",
       "      <td>-40.10954284667969</td>\n",
       "      <td>-44.90773391723633</td>\n",
       "      <td>12.109148025512695</td>\n",
       "      <td>1.6213401556015017</td>\n",
       "      <td>33.765560150146484</td>\n",
       "      <td>55.35607147216797</td>\n",
       "      <td>-14.330512046813965</td>\n",
       "      <td>...</td>\n",
       "      <td>103.1552505493164</td>\n",
       "      <td>106.45484924316406</td>\n",
       "      <td>9.04682731628418</td>\n",
       "      <td>46.67441940307617</td>\n",
       "      <td>40.95479583740234</td>\n",
       "      <td>0.8771800398826599</td>\n",
       "      <td>37.57715225219727</td>\n",
       "      <td>20.517745971679688</td>\n",
       "      <td>3.124434232711792</td>\n",
       "      <td>56.71838760375977</td>\n",
       "    </tr>\n",
       "    <tr>\n",
       "      <th>922</th>\n",
       "      <td>919</td>\n",
       "      <td>-36.28886795043945</td>\n",
       "      <td>-10.762069702148438</td>\n",
       "      <td>-30.35626220703125</td>\n",
       "      <td>-23.31950378417969</td>\n",
       "      <td>14.252187728881836</td>\n",
       "      <td>-27.55986022949219</td>\n",
       "      <td>17.279512405395508</td>\n",
       "      <td>-19.060152053833008</td>\n",
       "      <td>26.55877685546875</td>\n",
       "      <td>...</td>\n",
       "      <td>102.0863037109375</td>\n",
       "      <td>80.05113983154297</td>\n",
       "      <td>-2.6426103115081787</td>\n",
       "      <td>-12.229619979858398</td>\n",
       "      <td>-6.596726417541504</td>\n",
       "      <td>17.665163040161133</td>\n",
       "      <td>16.153173446655273</td>\n",
       "      <td>8.300398826599121</td>\n",
       "      <td>33.687530517578125</td>\n",
       "      <td>17.960655212402344</td>\n",
       "    </tr>\n",
       "  </tbody>\n",
       "</table>\n",
       "<p>923 rows × 63 columns</p>\n",
       "</div>"
      ],
      "text/plain": [
       "    network                    1                  1.1                   2  \\\n",
       "0      node                    1                    1                   1   \n",
       "1      hemi                   lh                   rh                  lh   \n",
       "2       NaN                  NaN                  NaN                 NaN   \n",
       "3         0    56.05574417114258    92.03103637695312   3.391575574874878   \n",
       "4         1     55.5472526550293     43.6900749206543  -65.49598693847656   \n",
       "..      ...                  ...                  ...                 ...   \n",
       "918     915  -7.4295125007629395    -4.81321907043457  -3.670536518096924   \n",
       "919     916   -33.55413818359375   -38.60562133789063  -25.66480255126953   \n",
       "920     917   -78.53956604003906   -74.19718933105469  -54.04159545898438   \n",
       "921     918  -103.23582458496094    -98.7442855834961  -40.10954284667969   \n",
       "922     919   -36.28886795043945  -10.762069702148438  -30.35626220703125   \n",
       "\n",
       "                     2.1                    3                  3.1  \\\n",
       "0                      1                    1                    1   \n",
       "1                     rh                   lh                   rh   \n",
       "2                    NaN                  NaN                  NaN   \n",
       "3      38.65968322753906   26.203819274902344   -49.71556854248047   \n",
       "4    -13.974522590637207   -28.27496337890625   -39.05012893676758   \n",
       "..                   ...                  ...                  ...   \n",
       "918   1.4422610998153689    -19.6804313659668  -29.109355926513672   \n",
       "919  -30.252351760864254   5.5627851486206055   20.182186126708984   \n",
       "920   -39.97029113769531  -14.277058601379395  -30.606460571289066   \n",
       "921   -44.90773391723633   12.109148025512695   1.6213401556015017   \n",
       "922   -23.31950378417969   14.252187728881836   -27.55986022949219   \n",
       "\n",
       "                       4                  4.1                     5  ...  \\\n",
       "0                      1                    1                     1  ...   \n",
       "1                     lh                   rh                    lh  ...   \n",
       "2                    NaN                  NaN                   NaN  ...   \n",
       "3       47.4610366821289   26.746612548828125   -35.898860931396484  ...   \n",
       "4    -1.2106596231460571  -19.012897491455078    19.568010330200195  ...   \n",
       "..                   ...                  ...                   ...  ...   \n",
       "918  -3.3765623569488525      -8.764892578125  0.017911728471517563  ...   \n",
       "919    17.91124725341797    24.65358161926269    -32.93561172485352  ...   \n",
       "920    60.62852096557617    62.02702331542969    -32.80055618286133  ...   \n",
       "921   33.765560150146484    55.35607147216797   -14.330512046813965  ...   \n",
       "922   17.279512405395508  -19.060152053833008     26.55877685546875  ...   \n",
       "\n",
       "                   16.5                16.6                 16.7  \\\n",
       "0                     3                   4                    4   \n",
       "1                    rh                  lh                   rh   \n",
       "2                   NaN                 NaN                  NaN   \n",
       "3    0.6079040169715881  -70.27054595947266    77.36577606201172   \n",
       "4     57.49507141113281  -76.39321899414062   127.26136016845705   \n",
       "..                  ...                 ...                  ...   \n",
       "918   58.28579330444336   68.55741119384766    22.83304786682129   \n",
       "919   59.86481857299805   23.00457763671875   7.6574625968933105   \n",
       "920   68.76786804199219   49.66401672363281    64.55149841308594   \n",
       "921   103.1552505493164  106.45484924316406     9.04682731628418   \n",
       "922   102.0863037109375   80.05113983154297  -2.6426103115081787   \n",
       "\n",
       "                      17                17.1                 17.2  \\\n",
       "0                      1                   1                    2   \n",
       "1                     lh                  rh                   lh   \n",
       "2                    NaN                 NaN                  NaN   \n",
       "3     -21.73455047607422  1.0282527208328247   7.7917842864990225   \n",
       "4    -13.035799026489258    46.3818244934082  -15.752449989318848   \n",
       "..                   ...                 ...                  ...   \n",
       "918    76.17948913574219    51.9346694946289   -6.614512920379639   \n",
       "919    50.96239852905274  13.696922302246096    63.50361633300781   \n",
       "920    43.80074691772461   8.144479751586914    47.28145980834961   \n",
       "921    46.67441940307617   40.95479583740234   0.8771800398826599   \n",
       "922  -12.229619979858398  -6.596726417541504   17.665163040161133   \n",
       "\n",
       "                   17.3                 17.4                17.5  \\\n",
       "0                     2                    3                   3   \n",
       "1                    rh                   lh                  rh   \n",
       "2                   NaN                  NaN                 NaN   \n",
       "3     68.90372467041016  -10.520872116088867  120.49046325683594   \n",
       "4     31.00033187866211  -39.607521057128906   24.76401138305664   \n",
       "..                  ...                  ...                 ...   \n",
       "918  -6.690762042999268   22.893030166625977   48.27437973022461   \n",
       "919   57.40117645263672    24.97454833984375   51.97215270996094   \n",
       "920   70.49964904785156    66.99440002441406   81.53924560546875   \n",
       "921   37.57715225219727   20.517745971679688   3.124434232711792   \n",
       "922  16.153173446655273    8.300398826599121  33.687530517578125   \n",
       "\n",
       "                    17.6  \n",
       "0                      4  \n",
       "1                     lh  \n",
       "2                    NaN  \n",
       "3    -39.686431884765625  \n",
       "4      -36.7710075378418  \n",
       "..                   ...  \n",
       "918    76.22845458984375  \n",
       "919    64.53878784179689  \n",
       "920    64.96977233886719  \n",
       "921    56.71838760375977  \n",
       "922   17.960655212402344  \n",
       "\n",
       "[923 rows x 63 columns]"
      ]
     },
     "execution_count": 167,
     "metadata": {},
     "output_type": "execute_result"
    }
   ],
   "source": [
    "df3.sort_index()"
   ]
  },
  {
   "cell_type": "markdown",
   "metadata": {},
   "source": [
    "DEĞERELERİ SIRALAMA"
   ]
  },
  {
   "cell_type": "code",
   "execution_count": 168,
   "metadata": {},
   "outputs": [
    {
     "ename": "KeyError",
     "evalue": "    network                    1                  1.1                   2  \\\n0      node                    1                    1                   1   \n1      hemi                   lh                   rh                  lh   \n2       NaN                  NaN                  NaN                 NaN   \n3         0    56.05574417114258    92.03103637695312   3.391575574874878   \n4         1     55.5472526550293     43.6900749206543  -65.49598693847656   \n..      ...                  ...                  ...                 ...   \n918     915  -7.4295125007629395    -4.81321907043457  -3.670536518096924   \n919     916   -33.55413818359375   -38.60562133789063  -25.66480255126953   \n920     917   -78.53956604003906   -74.19718933105469  -54.04159545898438   \n921     918  -103.23582458496094    -98.7442855834961  -40.10954284667969   \n922     919   -36.28886795043945  -10.762069702148438  -30.35626220703125   \n\n                     2.1                    3                  3.1  \\\n0                      1                    1                    1   \n1                     rh                   lh                   rh   \n2                    NaN                  NaN                  NaN   \n3      38.65968322753906   26.203819274902344   -49.71556854248047   \n4    -13.974522590637207   -28.27496337890625   -39.05012893676758   \n..                   ...                  ...                  ...   \n918   1.4422610998153689    -19.6804313659668  -29.109355926513672   \n919  -30.252351760864254   5.5627851486206055   20.182186126708984   \n920   -39.97029113769531  -14.277058601379395  -30.606460571289066   \n921   -44.90773391723633   12.109148025512695   1.6213401556015017   \n922   -23.31950378417969   14.252187728881836   -27.55986022949219   \n\n                       4                  4.1                     5  ...  \\\n0                      1                    1                     1  ...   \n1                     lh                   rh                    lh  ...   \n2                    NaN                  NaN                   NaN  ...   \n3       47.4610366821289   26.746612548828125   -35.898860931396484  ...   \n4    -1.2106596231460571  -19.012897491455078    19.568010330200195  ...   \n..                   ...                  ...                   ...  ...   \n918  -3.3765623569488525      -8.764892578125  0.017911728471517563  ...   \n919    17.91124725341797    24.65358161926269    -32.93561172485352  ...   \n920    60.62852096557617    62.02702331542969    -32.80055618286133  ...   \n921   33.765560150146484    55.35607147216797   -14.330512046813965  ...   \n922   17.279512405395508  -19.060152053833008     26.55877685546875  ...   \n\n                   16.5                16.6                 16.7  \\\n0                     3                   4                    4   \n1                    rh                  lh                   rh   \n2                   NaN                 NaN                  NaN   \n3    0.6079040169715881  -70.27054595947266    77.36577606201172   \n4     57.49507141113281  -76.39321899414062   127.26136016845705   \n..                  ...                 ...                  ...   \n918   58.28579330444336   68.55741119384766    22.83304786682129   \n919   59.86481857299805   23.00457763671875   7.6574625968933105   \n920   68.76786804199219   49.66401672363281    64.55149841308594   \n921   103.1552505493164  106.45484924316406     9.04682731628418   \n922   102.0863037109375   80.05113983154297  -2.6426103115081787   \n\n                      17                17.1                 17.2  \\\n0                      1                   1                    2   \n1                     lh                  rh                   lh   \n2                    NaN                 NaN                  NaN   \n3     -21.73455047607422  1.0282527208328247   7.7917842864990225   \n4    -13.035799026489258    46.3818244934082  -15.752449989318848   \n..                   ...                 ...                  ...   \n918    76.17948913574219    51.9346694946289   -6.614512920379639   \n919    50.96239852905274  13.696922302246096    63.50361633300781   \n920    43.80074691772461   8.144479751586914    47.28145980834961   \n921    46.67441940307617   40.95479583740234   0.8771800398826599   \n922  -12.229619979858398  -6.596726417541504   17.665163040161133   \n\n                   17.3                 17.4                17.5  \\\n0                     2                    3                   3   \n1                    rh                   lh                  rh   \n2                   NaN                  NaN                 NaN   \n3     68.90372467041016  -10.520872116088867  120.49046325683594   \n4     31.00033187866211  -39.607521057128906   24.76401138305664   \n..                  ...                  ...                 ...   \n918  -6.690762042999268   22.893030166625977   48.27437973022461   \n919   57.40117645263672    24.97454833984375   51.97215270996094   \n920   70.49964904785156    66.99440002441406   81.53924560546875   \n921   37.57715225219727   20.517745971679688   3.124434232711792   \n922  16.153173446655273    8.300398826599121  33.687530517578125   \n\n                    17.6  \n0                      4  \n1                     lh  \n2                    NaN  \n3    -39.686431884765625  \n4      -36.7710075378418  \n..                   ...  \n918    76.22845458984375  \n919    64.53878784179689  \n920    64.96977233886719  \n921    56.71838760375977  \n922   17.960655212402344  \n\n[923 rows x 63 columns]",
     "output_type": "error",
     "traceback": [
      "\u001b[1;31m---------------------------------------------------------------------------\u001b[0m",
      "\u001b[1;31mKeyError\u001b[0m                                  Traceback (most recent call last)",
      "\u001b[1;32m~\\AppData\\Local\\Temp/ipykernel_12852/2929044080.py\u001b[0m in \u001b[0;36m<module>\u001b[1;34m\u001b[0m\n\u001b[1;32m----> 1\u001b[1;33m \u001b[0mdf3\u001b[0m\u001b[1;33m.\u001b[0m\u001b[0msort_values\u001b[0m\u001b[1;33m(\u001b[0m\u001b[0mby\u001b[0m\u001b[1;33m=\u001b[0m\u001b[0mdf3\u001b[0m\u001b[1;33m)\u001b[0m\u001b[1;33m\u001b[0m\u001b[1;33m\u001b[0m\u001b[0m\n\u001b[0m",
      "\u001b[1;32m~\\anaconda3\\envs\\my-env\\lib\\site-packages\\pandas\\util\\_decorators.py\u001b[0m in \u001b[0;36mwrapper\u001b[1;34m(*args, **kwargs)\u001b[0m\n\u001b[0;32m    309\u001b[0m                     \u001b[0mstacklevel\u001b[0m\u001b[1;33m=\u001b[0m\u001b[0mstacklevel\u001b[0m\u001b[1;33m,\u001b[0m\u001b[1;33m\u001b[0m\u001b[1;33m\u001b[0m\u001b[0m\n\u001b[0;32m    310\u001b[0m                 )\n\u001b[1;32m--> 311\u001b[1;33m             \u001b[1;32mreturn\u001b[0m \u001b[0mfunc\u001b[0m\u001b[1;33m(\u001b[0m\u001b[1;33m*\u001b[0m\u001b[0margs\u001b[0m\u001b[1;33m,\u001b[0m \u001b[1;33m**\u001b[0m\u001b[0mkwargs\u001b[0m\u001b[1;33m)\u001b[0m\u001b[1;33m\u001b[0m\u001b[1;33m\u001b[0m\u001b[0m\n\u001b[0m\u001b[0;32m    312\u001b[0m \u001b[1;33m\u001b[0m\u001b[0m\n\u001b[0;32m    313\u001b[0m         \u001b[1;32mreturn\u001b[0m \u001b[0mwrapper\u001b[0m\u001b[1;33m\u001b[0m\u001b[1;33m\u001b[0m\u001b[0m\n",
      "\u001b[1;32m~\\anaconda3\\envs\\my-env\\lib\\site-packages\\pandas\\core\\frame.py\u001b[0m in \u001b[0;36msort_values\u001b[1;34m(self, by, axis, ascending, inplace, kind, na_position, ignore_index, key)\u001b[0m\n\u001b[0;32m   6257\u001b[0m \u001b[1;33m\u001b[0m\u001b[0m\n\u001b[0;32m   6258\u001b[0m             \u001b[0mby\u001b[0m \u001b[1;33m=\u001b[0m \u001b[0mby\u001b[0m\u001b[1;33m[\u001b[0m\u001b[1;36m0\u001b[0m\u001b[1;33m]\u001b[0m\u001b[1;33m\u001b[0m\u001b[1;33m\u001b[0m\u001b[0m\n\u001b[1;32m-> 6259\u001b[1;33m             \u001b[0mk\u001b[0m \u001b[1;33m=\u001b[0m \u001b[0mself\u001b[0m\u001b[1;33m.\u001b[0m\u001b[0m_get_label_or_level_values\u001b[0m\u001b[1;33m(\u001b[0m\u001b[0mby\u001b[0m\u001b[1;33m,\u001b[0m \u001b[0maxis\u001b[0m\u001b[1;33m=\u001b[0m\u001b[0maxis\u001b[0m\u001b[1;33m)\u001b[0m\u001b[1;33m\u001b[0m\u001b[1;33m\u001b[0m\u001b[0m\n\u001b[0m\u001b[0;32m   6260\u001b[0m \u001b[1;33m\u001b[0m\u001b[0m\n\u001b[0;32m   6261\u001b[0m             \u001b[1;31m# need to rewrap column in Series to apply key function\u001b[0m\u001b[1;33m\u001b[0m\u001b[1;33m\u001b[0m\u001b[1;33m\u001b[0m\u001b[0m\n",
      "\u001b[1;32m~\\anaconda3\\envs\\my-env\\lib\\site-packages\\pandas\\core\\generic.py\u001b[0m in \u001b[0;36m_get_label_or_level_values\u001b[1;34m(self, key, axis)\u001b[0m\n\u001b[0;32m   1777\u001b[0m             \u001b[0mvalues\u001b[0m \u001b[1;33m=\u001b[0m \u001b[0mself\u001b[0m\u001b[1;33m.\u001b[0m\u001b[0maxes\u001b[0m\u001b[1;33m[\u001b[0m\u001b[0maxis\u001b[0m\u001b[1;33m]\u001b[0m\u001b[1;33m.\u001b[0m\u001b[0mget_level_values\u001b[0m\u001b[1;33m(\u001b[0m\u001b[0mkey\u001b[0m\u001b[1;33m)\u001b[0m\u001b[1;33m.\u001b[0m\u001b[0m_values\u001b[0m\u001b[1;33m\u001b[0m\u001b[1;33m\u001b[0m\u001b[0m\n\u001b[0;32m   1778\u001b[0m         \u001b[1;32melse\u001b[0m\u001b[1;33m:\u001b[0m\u001b[1;33m\u001b[0m\u001b[1;33m\u001b[0m\u001b[0m\n\u001b[1;32m-> 1779\u001b[1;33m             \u001b[1;32mraise\u001b[0m \u001b[0mKeyError\u001b[0m\u001b[1;33m(\u001b[0m\u001b[0mkey\u001b[0m\u001b[1;33m)\u001b[0m\u001b[1;33m\u001b[0m\u001b[1;33m\u001b[0m\u001b[0m\n\u001b[0m\u001b[0;32m   1780\u001b[0m \u001b[1;33m\u001b[0m\u001b[0m\n\u001b[0;32m   1781\u001b[0m         \u001b[1;31m# Check for duplicates\u001b[0m\u001b[1;33m\u001b[0m\u001b[1;33m\u001b[0m\u001b[1;33m\u001b[0m\u001b[0m\n",
      "\u001b[1;31mKeyError\u001b[0m:     network                    1                  1.1                   2  \\\n0      node                    1                    1                   1   \n1      hemi                   lh                   rh                  lh   \n2       NaN                  NaN                  NaN                 NaN   \n3         0    56.05574417114258    92.03103637695312   3.391575574874878   \n4         1     55.5472526550293     43.6900749206543  -65.49598693847656   \n..      ...                  ...                  ...                 ...   \n918     915  -7.4295125007629395    -4.81321907043457  -3.670536518096924   \n919     916   -33.55413818359375   -38.60562133789063  -25.66480255126953   \n920     917   -78.53956604003906   -74.19718933105469  -54.04159545898438   \n921     918  -103.23582458496094    -98.7442855834961  -40.10954284667969   \n922     919   -36.28886795043945  -10.762069702148438  -30.35626220703125   \n\n                     2.1                    3                  3.1  \\\n0                      1                    1                    1   \n1                     rh                   lh                   rh   \n2                    NaN                  NaN                  NaN   \n3      38.65968322753906   26.203819274902344   -49.71556854248047   \n4    -13.974522590637207   -28.27496337890625   -39.05012893676758   \n..                   ...                  ...                  ...   \n918   1.4422610998153689    -19.6804313659668  -29.109355926513672   \n919  -30.252351760864254   5.5627851486206055   20.182186126708984   \n920   -39.97029113769531  -14.277058601379395  -30.606460571289066   \n921   -44.90773391723633   12.109148025512695   1.6213401556015017   \n922   -23.31950378417969   14.252187728881836   -27.55986022949219   \n\n                       4                  4.1                     5  ...  \\\n0                      1                    1                     1  ...   \n1                     lh                   rh                    lh  ...   \n2                    NaN                  NaN                   NaN  ...   \n3       47.4610366821289   26.746612548828125   -35.898860931396484  ...   \n4    -1.2106596231460571  -19.012897491455078    19.568010330200195  ...   \n..                   ...                  ...                   ...  ...   \n918  -3.3765623569488525      -8.764892578125  0.017911728471517563  ...   \n919    17.91124725341797    24.65358161926269    -32.93561172485352  ...   \n920    60.62852096557617    62.02702331542969    -32.80055618286133  ...   \n921   33.765560150146484    55.35607147216797   -14.330512046813965  ...   \n922   17.279512405395508  -19.060152053833008     26.55877685546875  ...   \n\n                   16.5                16.6                 16.7  \\\n0                     3                   4                    4   \n1                    rh                  lh                   rh   \n2                   NaN                 NaN                  NaN   \n3    0.6079040169715881  -70.27054595947266    77.36577606201172   \n4     57.49507141113281  -76.39321899414062   127.26136016845705   \n..                  ...                 ...                  ...   \n918   58.28579330444336   68.55741119384766    22.83304786682129   \n919   59.86481857299805   23.00457763671875   7.6574625968933105   \n920   68.76786804199219   49.66401672363281    64.55149841308594   \n921   103.1552505493164  106.45484924316406     9.04682731628418   \n922   102.0863037109375   80.05113983154297  -2.6426103115081787   \n\n                      17                17.1                 17.2  \\\n0                      1                   1                    2   \n1                     lh                  rh                   lh   \n2                    NaN                 NaN                  NaN   \n3     -21.73455047607422  1.0282527208328247   7.7917842864990225   \n4    -13.035799026489258    46.3818244934082  -15.752449989318848   \n..                   ...                 ...                  ...   \n918    76.17948913574219    51.9346694946289   -6.614512920379639   \n919    50.96239852905274  13.696922302246096    63.50361633300781   \n920    43.80074691772461   8.144479751586914    47.28145980834961   \n921    46.67441940307617   40.95479583740234   0.8771800398826599   \n922  -12.229619979858398  -6.596726417541504   17.665163040161133   \n\n                   17.3                 17.4                17.5  \\\n0                     2                    3                   3   \n1                    rh                   lh                  rh   \n2                   NaN                  NaN                 NaN   \n3     68.90372467041016  -10.520872116088867  120.49046325683594   \n4     31.00033187866211  -39.607521057128906   24.76401138305664   \n..                  ...                  ...                 ...   \n918  -6.690762042999268   22.893030166625977   48.27437973022461   \n919   57.40117645263672    24.97454833984375   51.97215270996094   \n920   70.49964904785156    66.99440002441406   81.53924560546875   \n921   37.57715225219727   20.517745971679688   3.124434232711792   \n922  16.153173446655273    8.300398826599121  33.687530517578125   \n\n                    17.6  \n0                      4  \n1                     lh  \n2                    NaN  \n3    -39.686431884765625  \n4      -36.7710075378418  \n..                   ...  \n918    76.22845458984375  \n919    64.53878784179689  \n920    64.96977233886719  \n921    56.71838760375977  \n922   17.960655212402344  \n\n[923 rows x 63 columns]"
     ]
    }
   ],
   "source": [
    "df3.sort_values(by=df3)"
   ]
  },
  {
   "cell_type": "markdown",
   "metadata": {},
   "source": [
    "INDISE GÖRE DEĞERLERİ GÖRME"
   ]
  },
  {
   "cell_type": "code",
   "execution_count": null,
   "metadata": {},
   "outputs": [],
   "source": [
    "df3[\"W\"]"
   ]
  },
  {
   "cell_type": "code",
   "execution_count": 166,
   "metadata": {},
   "outputs": [
    {
     "ename": "KeyError",
     "evalue": "'X'",
     "output_type": "error",
     "traceback": [
      "\u001b[1;31m---------------------------------------------------------------------------\u001b[0m",
      "\u001b[1;31mKeyError\u001b[0m                                  Traceback (most recent call last)",
      "\u001b[1;32m~\\anaconda3\\envs\\my-env\\lib\\site-packages\\pandas\\core\\indexes\\base.py\u001b[0m in \u001b[0;36mget_loc\u001b[1;34m(self, key, method, tolerance)\u001b[0m\n\u001b[0;32m   3360\u001b[0m             \u001b[1;32mtry\u001b[0m\u001b[1;33m:\u001b[0m\u001b[1;33m\u001b[0m\u001b[1;33m\u001b[0m\u001b[0m\n\u001b[1;32m-> 3361\u001b[1;33m                 \u001b[1;32mreturn\u001b[0m \u001b[0mself\u001b[0m\u001b[1;33m.\u001b[0m\u001b[0m_engine\u001b[0m\u001b[1;33m.\u001b[0m\u001b[0mget_loc\u001b[0m\u001b[1;33m(\u001b[0m\u001b[0mcasted_key\u001b[0m\u001b[1;33m)\u001b[0m\u001b[1;33m\u001b[0m\u001b[1;33m\u001b[0m\u001b[0m\n\u001b[0m\u001b[0;32m   3362\u001b[0m             \u001b[1;32mexcept\u001b[0m \u001b[0mKeyError\u001b[0m \u001b[1;32mas\u001b[0m \u001b[0merr\u001b[0m\u001b[1;33m:\u001b[0m\u001b[1;33m\u001b[0m\u001b[1;33m\u001b[0m\u001b[0m\n",
      "\u001b[1;32m~\\anaconda3\\envs\\my-env\\lib\\site-packages\\pandas\\_libs\\index.pyx\u001b[0m in \u001b[0;36mpandas._libs.index.IndexEngine.get_loc\u001b[1;34m()\u001b[0m\n",
      "\u001b[1;32m~\\anaconda3\\envs\\my-env\\lib\\site-packages\\pandas\\_libs\\index.pyx\u001b[0m in \u001b[0;36mpandas._libs.index.IndexEngine.get_loc\u001b[1;34m()\u001b[0m\n",
      "\u001b[1;32mpandas\\_libs\\hashtable_class_helper.pxi\u001b[0m in \u001b[0;36mpandas._libs.hashtable.PyObjectHashTable.get_item\u001b[1;34m()\u001b[0m\n",
      "\u001b[1;32mpandas\\_libs\\hashtable_class_helper.pxi\u001b[0m in \u001b[0;36mpandas._libs.hashtable.PyObjectHashTable.get_item\u001b[1;34m()\u001b[0m\n",
      "\u001b[1;31mKeyError\u001b[0m: 'X'",
      "\nThe above exception was the direct cause of the following exception:\n",
      "\u001b[1;31mKeyError\u001b[0m                                  Traceback (most recent call last)",
      "\u001b[1;32m~\\AppData\\Local\\Temp/ipykernel_12852/1000800959.py\u001b[0m in \u001b[0;36m<module>\u001b[1;34m\u001b[0m\n\u001b[1;32m----> 1\u001b[1;33m \u001b[0mdf3\u001b[0m\u001b[1;33m[\u001b[0m\u001b[1;34m\"X\"\u001b[0m\u001b[1;33m]\u001b[0m\u001b[1;33m\u001b[0m\u001b[1;33m\u001b[0m\u001b[0m\n\u001b[0m",
      "\u001b[1;32m~\\anaconda3\\envs\\my-env\\lib\\site-packages\\pandas\\core\\frame.py\u001b[0m in \u001b[0;36m__getitem__\u001b[1;34m(self, key)\u001b[0m\n\u001b[0;32m   3456\u001b[0m             \u001b[1;32mif\u001b[0m \u001b[0mself\u001b[0m\u001b[1;33m.\u001b[0m\u001b[0mcolumns\u001b[0m\u001b[1;33m.\u001b[0m\u001b[0mnlevels\u001b[0m \u001b[1;33m>\u001b[0m \u001b[1;36m1\u001b[0m\u001b[1;33m:\u001b[0m\u001b[1;33m\u001b[0m\u001b[1;33m\u001b[0m\u001b[0m\n\u001b[0;32m   3457\u001b[0m                 \u001b[1;32mreturn\u001b[0m \u001b[0mself\u001b[0m\u001b[1;33m.\u001b[0m\u001b[0m_getitem_multilevel\u001b[0m\u001b[1;33m(\u001b[0m\u001b[0mkey\u001b[0m\u001b[1;33m)\u001b[0m\u001b[1;33m\u001b[0m\u001b[1;33m\u001b[0m\u001b[0m\n\u001b[1;32m-> 3458\u001b[1;33m             \u001b[0mindexer\u001b[0m \u001b[1;33m=\u001b[0m \u001b[0mself\u001b[0m\u001b[1;33m.\u001b[0m\u001b[0mcolumns\u001b[0m\u001b[1;33m.\u001b[0m\u001b[0mget_loc\u001b[0m\u001b[1;33m(\u001b[0m\u001b[0mkey\u001b[0m\u001b[1;33m)\u001b[0m\u001b[1;33m\u001b[0m\u001b[1;33m\u001b[0m\u001b[0m\n\u001b[0m\u001b[0;32m   3459\u001b[0m             \u001b[1;32mif\u001b[0m \u001b[0mis_integer\u001b[0m\u001b[1;33m(\u001b[0m\u001b[0mindexer\u001b[0m\u001b[1;33m)\u001b[0m\u001b[1;33m:\u001b[0m\u001b[1;33m\u001b[0m\u001b[1;33m\u001b[0m\u001b[0m\n\u001b[0;32m   3460\u001b[0m                 \u001b[0mindexer\u001b[0m \u001b[1;33m=\u001b[0m \u001b[1;33m[\u001b[0m\u001b[0mindexer\u001b[0m\u001b[1;33m]\u001b[0m\u001b[1;33m\u001b[0m\u001b[1;33m\u001b[0m\u001b[0m\n",
      "\u001b[1;32m~\\anaconda3\\envs\\my-env\\lib\\site-packages\\pandas\\core\\indexes\\base.py\u001b[0m in \u001b[0;36mget_loc\u001b[1;34m(self, key, method, tolerance)\u001b[0m\n\u001b[0;32m   3361\u001b[0m                 \u001b[1;32mreturn\u001b[0m \u001b[0mself\u001b[0m\u001b[1;33m.\u001b[0m\u001b[0m_engine\u001b[0m\u001b[1;33m.\u001b[0m\u001b[0mget_loc\u001b[0m\u001b[1;33m(\u001b[0m\u001b[0mcasted_key\u001b[0m\u001b[1;33m)\u001b[0m\u001b[1;33m\u001b[0m\u001b[1;33m\u001b[0m\u001b[0m\n\u001b[0;32m   3362\u001b[0m             \u001b[1;32mexcept\u001b[0m \u001b[0mKeyError\u001b[0m \u001b[1;32mas\u001b[0m \u001b[0merr\u001b[0m\u001b[1;33m:\u001b[0m\u001b[1;33m\u001b[0m\u001b[1;33m\u001b[0m\u001b[0m\n\u001b[1;32m-> 3363\u001b[1;33m                 \u001b[1;32mraise\u001b[0m \u001b[0mKeyError\u001b[0m\u001b[1;33m(\u001b[0m\u001b[0mkey\u001b[0m\u001b[1;33m)\u001b[0m \u001b[1;32mfrom\u001b[0m \u001b[0merr\u001b[0m\u001b[1;33m\u001b[0m\u001b[1;33m\u001b[0m\u001b[0m\n\u001b[0m\u001b[0;32m   3364\u001b[0m \u001b[1;33m\u001b[0m\u001b[0m\n\u001b[0;32m   3365\u001b[0m         \u001b[1;32mif\u001b[0m \u001b[0mis_scalar\u001b[0m\u001b[1;33m(\u001b[0m\u001b[0mkey\u001b[0m\u001b[1;33m)\u001b[0m \u001b[1;32mand\u001b[0m \u001b[0misna\u001b[0m\u001b[1;33m(\u001b[0m\u001b[0mkey\u001b[0m\u001b[1;33m)\u001b[0m \u001b[1;32mand\u001b[0m \u001b[1;32mnot\u001b[0m \u001b[0mself\u001b[0m\u001b[1;33m.\u001b[0m\u001b[0mhasnans\u001b[0m\u001b[1;33m:\u001b[0m\u001b[1;33m\u001b[0m\u001b[1;33m\u001b[0m\u001b[0m\n",
      "\u001b[1;31mKeyError\u001b[0m: 'X'"
     ]
    }
   ],
   "source": [
    "df3[\"X\"]"
   ]
  },
  {
   "cell_type": "code",
   "execution_count": null,
   "metadata": {},
   "outputs": [],
   "source": [
    "df3[\"Y\"]"
   ]
  },
  {
   "cell_type": "code",
   "execution_count": null,
   "metadata": {},
   "outputs": [],
   "source": [
    "df3.W"
   ]
  },
  {
   "cell_type": "code",
   "execution_count": null,
   "metadata": {},
   "outputs": [],
   "source": [
    "df3.X"
   ]
  },
  {
   "cell_type": "code",
   "execution_count": null,
   "metadata": {},
   "outputs": [],
   "source": [
    "df3[[\"W\",\"X\"]]"
   ]
  },
  {
   "cell_type": "code",
   "execution_count": null,
   "metadata": {},
   "outputs": [],
   "source": [
    "df3[1:4]"
   ]
  },
  {
   "cell_type": "markdown",
   "metadata": {},
   "source": [
    "# SEABORN"
   ]
  },
  {
   "cell_type": "markdown",
   "metadata": {},
   "source": [
    "# Seaborn plot types :1.Distribution Plots, 2.Categorical Plots,  3.Comparison Plots 4.Matrix Plots"
   ]
  },
  {
   "cell_type": "markdown",
   "metadata": {},
   "source": [
    "# Relational plots\n",
    "relplot\n",
    "\n",
    "Figure-level interface for drawing relational plots onto a FacetGrid.\n",
    "\n",
    "scatterplot\n",
    "\n",
    "Draw a scatter plot with possibility of several semantic groupings.\n",
    "\n",
    "lineplot\n",
    "\n",
    "Draw a line plot with possibility of several semantic groupings."
   ]
  },
  {
   "cell_type": "markdown",
   "metadata": {},
   "source": [
    "# Distribution plots\n",
    "displot\n",
    "\n",
    "Figure-level interface for drawing distribution plots onto a FacetGrid.\n",
    "\n",
    "histplot\n",
    "\n",
    "Plot univariate or bivariate histograms to show distributions of datasets.\n",
    "\n",
    "kdeplot\n",
    "\n",
    "Plot univariate or bivariate distributions using kernel density estimation.\n",
    "\n",
    "ecdfplot\n",
    "\n",
    "Plot empirical cumulative distribution functions.\n",
    "\n",
    "rugplot\n",
    "\n",
    "Plot marginal distributions by drawing ticks along the x and y axes.\n",
    "\n",
    "distplot\n",
    "\n",
    "DEPRECATED: Flexibly plot a univariate distribution of observations"
   ]
  },
  {
   "cell_type": "markdown",
   "metadata": {},
   "source": [
    "# Categorical plots\n",
    "catplot\n",
    "\n",
    "Figure-level interface for drawing categorical plots onto a FacetGrid.\n",
    "\n",
    "stripplot\n",
    "\n",
    "Draw a scatterplot where one variable is categorical.\n",
    "\n",
    "swarmplot\n",
    "\n",
    "Draw a categorical scatterplot with non-overlapping points.\n",
    "\n",
    "boxplot\n",
    "\n",
    "Draw a box plot to show distributions with respect to categories.\n",
    "\n",
    "violinplot\n",
    "\n",
    "Draw a combination of boxplot and kernel density estimate.\n",
    "\n",
    "boxenplot\n",
    "\n",
    "Draw an enhanced box plot for larger datasets.\n",
    "\n",
    "pointplot\n",
    "\n",
    "Show point estimates and confidence intervals using scatter plot glyphs.\n",
    "\n",
    "barplot\n",
    "\n",
    "Show point estimates and confidence intervals as rectangular bars.\n",
    "\n",
    "countplot\n",
    "\n",
    "Show the counts of observations in each categorical bin using bars."
   ]
  },
  {
   "cell_type": "markdown",
   "metadata": {},
   "source": [
    "# Regression plots\n",
    "lmplot\n",
    "\n",
    "Plot data and regression model fits across a FacetGrid.\n",
    "\n",
    "regplot\n",
    "\n",
    "Plot data and a linear regression model fit.\n",
    "\n",
    "residplot\n",
    "\n",
    "Plot the residuals of a linear regression.\n",
    "\n",
    "Matrix plots\n",
    "heatmap"
   ]
  },
  {
   "cell_type": "markdown",
   "metadata": {},
   "source": [
    "# Matrix plots¶\n",
    "heatmap\n",
    "\n",
    "Plot rectangular data as a color-encoded matrix.\n",
    "\n",
    "clustermap\n",
    "\n",
    "Plot a matrix dataset as a hierarchically-clustered heatmap.\n"
   ]
  },
  {
   "cell_type": "markdown",
   "metadata": {},
   "source": [
    "# Multi-plot grids\n",
    "Facet grids\n",
    "FacetGrid\n",
    "\n",
    "Multi-plot grid for plotting conditional relationships.\n",
    "\n",
    "Pair grids\n",
    "pairplot\n",
    "\n",
    "Plot pairwise relationships in a dataset.\n",
    "\n",
    "PairGrid\n",
    "\n",
    "Subplot grid for plotting pairwise relationships in a dataset.\n",
    "\n",
    "Joint grids\n",
    "jointplot\n",
    "\n",
    "Draw a plot of two variables with bivariate and univariate graphs.\n",
    "\n",
    "JointGrid\n",
    "\n",
    "Grid for drawing a bivariate plot with marginal univariate plots."
   ]
  },
  {
   "cell_type": "code",
   "execution_count": null,
   "metadata": {},
   "outputs": [],
   "source": [
    "df5"
   ]
  },
  {
   "cell_type": "code",
   "execution_count": null,
   "metadata": {},
   "outputs": [],
   "source": [
    "from matplotlib import pyplot as plt"
   ]
  },
  {
   "cell_type": "code",
   "execution_count": null,
   "metadata": {},
   "outputs": [],
   "source": [
    "type()"
   ]
  },
  {
   "cell_type": "code",
   "execution_count": null,
   "metadata": {},
   "outputs": [],
   "source": []
  },
  {
   "cell_type": "code",
   "execution_count": null,
   "metadata": {},
   "outputs": [],
   "source": [
    "plt.plot(df5.x,df5.y);"
   ]
  },
  {
   "cell_type": "code",
   "execution_count": null,
   "metadata": {
    "scrolled": true
   },
   "outputs": [],
   "source": [
    "plt.plot(df5.y, df5.z)"
   ]
  },
  {
   "cell_type": "code",
   "execution_count": null,
   "metadata": {},
   "outputs": [],
   "source": [
    "import seaborn as sns"
   ]
  },
  {
   "cell_type": "code",
   "execution_count": null,
   "metadata": {},
   "outputs": [],
   "source": [
    "sns.set()"
   ]
  },
  {
   "cell_type": "code",
   "execution_count": null,
   "metadata": {},
   "outputs": [],
   "source": [
    "plt.plot(df5.x,df5.y)"
   ]
  },
  {
   "cell_type": "code",
   "execution_count": null,
   "metadata": {},
   "outputs": [],
   "source": [
    "sns.set_style(\"white\")"
   ]
  },
  {
   "cell_type": "code",
   "execution_count": null,
   "metadata": {},
   "outputs": [],
   "source": [
    "plt.plot(df5.x,df5.y)"
   ]
  },
  {
   "cell_type": "code",
   "execution_count": null,
   "metadata": {},
   "outputs": [],
   "source": [
    "sns.__version__"
   ]
  },
  {
   "cell_type": "code",
   "execution_count": null,
   "metadata": {},
   "outputs": [],
   "source": [
    "import matplotlib\n",
    "matplotlib.__version__"
   ]
  },
  {
   "cell_type": "code",
   "execution_count": null,
   "metadata": {},
   "outputs": [],
   "source": [
    "df5.head()"
   ]
  },
  {
   "cell_type": "code",
   "execution_count": null,
   "metadata": {},
   "outputs": [],
   "source": [
    "sns.relplot(\n",
    "    x=df5.cut,\n",
    "    y=df5.depth,\n",
    "    hue='x',\n",
    "    size=(10,5),\n",
    "    style=None,\n",
    "    data=df5,\n",
    "    row=None,\n",
    "    col=df5.y,\n",
    "    col_wrap=None,\n",
    "    row_order=None,\n",
    "    col_order=None,\n",
    "    palette=None,\n",
    "    hue_order=None,\n",
    "    hue_norm=None,\n",
    "    sizes=None,\n",
    "    size_order=None,\n",
    "    size_norm=None,\n",
    "    markers=None,\n",
    "    dashes=None,\n",
    "    style_order=None,\n",
    "    legend='auto',\n",
    "    kind='scatter',\n",
    "    height=5,\n",
    "    aspect=1,\n",
    "    facet_kws=None,\n",
    "    units=None,\n",
    "    )"
   ]
  },
  {
   "cell_type": "markdown",
   "metadata": {},
   "source": [
    "# SCATTERPLOT"
   ]
  },
  {
   "cell_type": "code",
   "execution_count": null,
   "metadata": {},
   "outputs": [],
   "source": [
    "df5= df5[df5.cut.isin(['Premium','Good']) & df5.color.isin(['D','F','J'])].sample(n=100, random_state=22)\n",
    "df5"
   ]
  },
  {
   "cell_type": "code",
   "execution_count": null,
   "metadata": {},
   "outputs": [],
   "source": [
    "df5.shape"
   ]
  },
  {
   "cell_type": "code",
   "execution_count": null,
   "metadata": {},
   "outputs": [],
   "source": [
    "sns.set_style('dark')"
   ]
  },
  {
   "cell_type": "code",
   "execution_count": null,
   "metadata": {},
   "outputs": [],
   "source": [
    "sns.scatterplot(x=df5.carat,\n",
    "    y=df5.price,\n",
    "    hue=None,\n",
    "    style=None,\n",
    "    size=None,\n",
    "    data=df5,\n",
    "    palette=None,\n",
    "    hue_order=None,\n",
    "    hue_norm=None,\n",
    "    sizes=None,\n",
    "    size_order=None,\n",
    "    size_norm=None,\n",
    "    markers=True,\n",
    "    style_order=None,\n",
    "    x_bins=None,\n",
    "    y_bins=None,\n",
    "    units=None,\n",
    "    estimator=None,\n",
    "    ci=95,\n",
    "    n_boot=1000,\n",
    "    alpha=None,\n",
    "    x_jitter=None,\n",
    "    y_jitter=None,\n",
    "    legend='auto',\n",
    "    ax=None,\n",
    ")\n"
   ]
  },
  {
   "cell_type": "code",
   "execution_count": null,
   "metadata": {},
   "outputs": [],
   "source": [
    "sns.scatterplot(x='x', y='y', data=df5)"
   ]
  },
  {
   "cell_type": "code",
   "execution_count": null,
   "metadata": {},
   "outputs": [],
   "source": [
    "sns.scatterplot(x='x', y='y', data=df5, hue='cut')"
   ]
  },
  {
   "cell_type": "code",
   "execution_count": null,
   "metadata": {},
   "outputs": [],
   "source": [
    "sns.scatterplot(x='x', y='y', data=df5, hue='cut', palette=['purple','#55CCCC']);"
   ]
  },
  {
   "cell_type": "markdown",
   "metadata": {},
   "source": [
    "# CONTINIOUS VARIABLE"
   ]
  },
  {
   "cell_type": "code",
   "execution_count": null,
   "metadata": {},
   "outputs": [],
   "source": [
    "sns.scatterplot(x='carat', y='price', hue='depth', data=df5);"
   ]
  },
  {
   "cell_type": "markdown",
   "metadata": {},
   "source": [
    "# STYLE"
   ]
  },
  {
   "cell_type": "code",
   "execution_count": null,
   "metadata": {},
   "outputs": [],
   "source": [
    "sns.scatterplot(x='carat', y='price',data=df5, s=150);"
   ]
  },
  {
   "cell_type": "code",
   "execution_count": null,
   "metadata": {},
   "outputs": [],
   "source": [
    "sns.scatterplot(x='carat', y='price',data=df5, s=150,style='cut')\n"
   ]
  },
  {
   "cell_type": "code",
   "execution_count": null,
   "metadata": {},
   "outputs": [],
   "source": [
    "sns.scatterplot(x='carat', y='price',data=df5, s=200,style='cut', size='cut')\n"
   ]
  },
  {
   "cell_type": "code",
   "execution_count": null,
   "metadata": {},
   "outputs": [],
   "source": [
    "sns.scatterplot(x='carat', y='price',data=df5, s=200,style='cut', size='cut', sizes=[10,25])\n"
   ]
  },
  {
   "cell_type": "code",
   "execution_count": null,
   "metadata": {},
   "outputs": [],
   "source": [
    "sns.scatterplot(x='carat', y='price',hue='cut', style='color', data=df5, s=200, size='cut')\n"
   ]
  },
  {
   "cell_type": "code",
   "execution_count": null,
   "metadata": {},
   "outputs": [],
   "source": [
    "sns.scatterplot(x='carat', y='price',hue='cut', style='color', data=df5, s=200, size='cut', alpha=0.6)\n"
   ]
  },
  {
   "cell_type": "code",
   "execution_count": null,
   "metadata": {},
   "outputs": [],
   "source": [
    "sns.scatterplot(x='carat', y='price',hue='cut', style='color', data=df5, s=200, size='cut', alpha=0.6, marker='*')\n"
   ]
  },
  {
   "cell_type": "code",
   "execution_count": null,
   "metadata": {},
   "outputs": [],
   "source": [
    "sns.scatterplot(x='carat', y='price',hue='cut', style='color', data=df5, s=200, size='cut', alpha=0.6, marker='*', edgecolor='black')\n"
   ]
  },
  {
   "cell_type": "markdown",
   "metadata": {},
   "source": [
    "# Distribution Plots"
   ]
  },
  {
   "cell_type": "markdown",
   "metadata": {},
   "source": [
    "# histplot>            x=sayısal sütun ismi, veya (x=syısal sütun ismi, data=verinin adı"
   ]
  },
  {
   "cell_type": "code",
   "execution_count": null,
   "metadata": {},
   "outputs": [],
   "source": [
    "df5.head()"
   ]
  },
  {
   "cell_type": "code",
   "execution_count": null,
   "metadata": {},
   "outputs": [],
   "source": [
    "sns.histplot( data=None,\n",
    "    *,\n",
    "    x=None,\n",
    "    y=None,\n",
    "    hue=None,\n",
    "    weights=None,\n",
    "    stat='count',\n",
    "    bins='auto',\n",
    "    binwidth=None,\n",
    "    binrange=None,\n",
    "    discrete=None,\n",
    "    cumulative=False,\n",
    "    common_bins=True,\n",
    "    common_norm=True,\n",
    "    multiple='layer',\n",
    "    element='bars',\n",
    "    fill=True,\n",
    "    shrink=1,\n",
    "    kde=False,\n",
    "    kde_kws=None,\n",
    "    line_kws=None,\n",
    "    thresh=0,\n",
    "    pthresh=None,\n",
    "    pmax=None,\n",
    "    cbar=False,\n",
    "    cbar_ax=None,\n",
    "    cbar_kws=None,\n",
    "    palette=None,\n",
    "    hue_order=None,\n",
    "    hue_norm=None,\n",
    "    color=None,\n",
    "    log_scale=None,\n",
    "    legend=True,\n",
    "    ax=None,\n",
    "    **kwargs,\n",
    "))"
   ]
  },
  {
   "cell_type": "code",
   "execution_count": null,
   "metadata": {},
   "outputs": [],
   "source": [
    "sns.histplot(x=df5.color)"
   ]
  },
  {
   "cell_type": "code",
   "execution_count": null,
   "metadata": {},
   "outputs": [],
   "source": [
    "sns.histplot(x=df5.carat)"
   ]
  },
  {
   "cell_type": "code",
   "execution_count": null,
   "metadata": {},
   "outputs": [],
   "source": [
    "sns.histplot(x=df5.z)"
   ]
  },
  {
   "cell_type": "code",
   "execution_count": null,
   "metadata": {},
   "outputs": [],
   "source": [
    "sns.histplot(x=df5.z, data=df5)"
   ]
  },
  {
   "cell_type": "code",
   "execution_count": null,
   "metadata": {},
   "outputs": [],
   "source": [
    "sns.histplot(y=df5.z, data=df5)"
   ]
  },
  {
   "cell_type": "code",
   "execution_count": null,
   "metadata": {},
   "outputs": [],
   "source": [
    "sns.histplot(x=df5.y)"
   ]
  },
  {
   "cell_type": "code",
   "execution_count": null,
   "metadata": {},
   "outputs": [],
   "source": [
    "sns.histplot(x=df5.z, data=df5, kde=True)"
   ]
  },
  {
   "cell_type": "code",
   "execution_count": null,
   "metadata": {},
   "outputs": [],
   "source": [
    "sns.histplot(x=df5.z, data=df5, kde=True, bins=20) # bis, rakam kadar sütun oluşturur. bins, bin=[liste] de olabilir."
   ]
  },
  {
   "cell_type": "code",
   "execution_count": null,
   "metadata": {},
   "outputs": [],
   "source": [
    "sns.histplot(x=df5.z, data=df5, kde=True, bins=7, binwidth=0.5, binrange=(2.5, 5.5));  #bindwith: x değerinin rakamalrı arasındaki atlama miktaı,\n",
    "                                                                                       #binrange: x değerlerinin başalngıç ve bitiş rakmalrı "
   ]
  },
  {
   "cell_type": "code",
   "execution_count": null,
   "metadata": {},
   "outputs": [],
   "source": [
    "sns.histplot(x=df5.z, data=df5, stat='count') # stat değeri ................... işe yarar. y sütununda görünür. stat='count/density/probability\n",
    "                                               # density=area of histogram sums to one\n",
    "                                                # probability=height of histogram bars to one"
   ]
  },
  {
   "cell_type": "code",
   "execution_count": null,
   "metadata": {},
   "outputs": [],
   "source": [
    "sns.histplot(x=df5.z, data=df5,stat='probability', fill='False', element='step',cumulative=True) #element=step/bars/poly olabilir.\n",
    "                                                                                                    #cumultaive=True/False\n",
    "                                                                                                 #fill=True/False olabilir. Grafiğin içinin dolu/boş olma durumunu gösterir."
   ]
  },
  {
   "cell_type": "markdown",
   "metadata": {},
   "source": [
    "# Categorical Variables in histplot"
   ]
  },
  {
   "cell_type": "code",
   "execution_count": null,
   "metadata": {},
   "outputs": [],
   "source": [
    "sns.histplot(x=df5.z, data=df5,hue=df5.color)"
   ]
  },
  {
   "cell_type": "code",
   "execution_count": null,
   "metadata": {},
   "outputs": [],
   "source": [
    "sns.histplot(x=df5.z, data=df5,hue=df5.color, element='step')"
   ]
  },
  {
   "cell_type": "code",
   "execution_count": null,
   "metadata": {},
   "outputs": [],
   "source": [
    "sns.histplot(x=df5.z, data=df5,hue=df5.color, element='poly')"
   ]
  },
  {
   "cell_type": "code",
   "execution_count": null,
   "metadata": {},
   "outputs": [],
   "source": [
    "sns.histplot(x=df5.z, data=df5,hue=df5.color, multiple='layer') #multiple=layer/stack/fill/dodge  olabilir"
   ]
  },
  {
   "cell_type": "code",
   "execution_count": null,
   "metadata": {},
   "outputs": [],
   "source": [
    "sns.histplot(x=df5.z, data=df5,hue=df5.color, multiple='stack') #multiple=layer/stack/fill  olabilir"
   ]
  },
  {
   "cell_type": "code",
   "execution_count": null,
   "metadata": {},
   "outputs": [],
   "source": [
    "sns.histplot(x=df5.z, data=df5,hue=df5.color, multiple='fill') #multiple=layer/stack/fill  olabilir"
   ]
  },
  {
   "cell_type": "code",
   "execution_count": null,
   "metadata": {},
   "outputs": [],
   "source": [
    "sns.histplot(x=df5.z, data=df5,hue=df5.color, multiple='dodge') #multiple=layer/stack/fill/dodge  olabilir"
   ]
  },
  {
   "cell_type": "markdown",
   "metadata": {},
   "source": [
    "# Bivariate histplot in histplot"
   ]
  },
  {
   "cell_type": "code",
   "execution_count": null,
   "metadata": {},
   "outputs": [],
   "source": [
    "sns.histplot(x=df5.z, y=df5.price, data=df5)"
   ]
  },
  {
   "cell_type": "code",
   "execution_count": null,
   "metadata": {},
   "outputs": [],
   "source": [
    "sns.histplot(x=df5.z, y=df5.price, data=df5, cbar=True)  #cbar: grafiğin yanında ölçek barı oluşturur."
   ]
  },
  {
   "cell_type": "code",
   "execution_count": null,
   "metadata": {},
   "outputs": [],
   "source": [
    "sns.histplot(x=df5.z, y=df5.price, data=df5, hue=df5.color)  #cbar: grafiğin yanında ölçek barı oluşturur."
   ]
  },
  {
   "cell_type": "markdown",
   "metadata": {},
   "source": [
    "# Discreate color map in histplot"
   ]
  },
  {
   "cell_type": "code",
   "execution_count": null,
   "metadata": {},
   "outputs": [],
   "source": [
    "sns.histplot(x=df5.z, y=df5.color, data=df5, hue=df5.color)  #cbar: grafiğin yanında ölçek barı oluşturur."
   ]
  },
  {
   "cell_type": "markdown",
   "metadata": {},
   "source": [
    "# Styling in histplot"
   ]
  },
  {
   "cell_type": "markdown",
   "metadata": {},
   "source": [
    "#shrink"
   ]
  },
  {
   "cell_type": "code",
   "execution_count": null,
   "metadata": {},
   "outputs": [],
   "source": [
    "df5.head()"
   ]
  },
  {
   "cell_type": "code",
   "execution_count": null,
   "metadata": {},
   "outputs": [],
   "source": [
    "sns.histplot(x=df5.clarity, hue=df5.cut, data=df5)  #Sütunlar birbirine yapışık. Bunları birbirinden ayırmak için \"shrink\" kullan."
   ]
  },
  {
   "cell_type": "code",
   "execution_count": null,
   "metadata": {},
   "outputs": [],
   "source": [
    "sns.histplot(x=df5.clarity, hue=df5.cut, data=df5, shrink=0.8) #Sütunları birbirinden ayırmak için \"shrink\" kullanılır."
   ]
  },
  {
   "cell_type": "markdown",
   "metadata": {},
   "source": [
    "# color, palette in histogram"
   ]
  },
  {
   "cell_type": "code",
   "execution_count": null,
   "metadata": {},
   "outputs": [],
   "source": [
    "sns.histplot(x=df5.clarity, data=df5, color='indigo') #color:indigo olabilir"
   ]
  },
  {
   "cell_type": "code",
   "execution_count": null,
   "metadata": {},
   "outputs": [],
   "source": [
    "sns.histplot(x=df5.z, data=df5,hue=df5.color, multiple='dodge',palette='bone') #palette:bone olabilir"
   ]
  },
  {
   "cell_type": "markdown",
   "metadata": {},
   "source": [
    "# fill"
   ]
  },
  {
   "cell_type": "code",
   "execution_count": null,
   "metadata": {},
   "outputs": [],
   "source": [
    "sns.histplot(x=df5.z, data=df5, fill=False) #fill=True/False olabilir. True olursa grafiğin içi dolu, false olursa grafiğin içi boş olur."
   ]
  },
  {
   "cell_type": "code",
   "execution_count": null,
   "metadata": {},
   "outputs": [],
   "source": [
    "sns.histplot(df5.table)"
   ]
  },
  {
   "cell_type": "code",
   "execution_count": null,
   "metadata": {},
   "outputs": [],
   "source": [
    "sns.histplot(x=df5.price)"
   ]
  },
  {
   "cell_type": "code",
   "execution_count": null,
   "metadata": {},
   "outputs": [],
   "source": [
    "sns.histplot(x=df5.x)"
   ]
  },
  {
   "cell_type": "code",
   "execution_count": null,
   "metadata": {},
   "outputs": [],
   "source": [
    "sns.__version__"
   ]
  },
  {
   "cell_type": "code",
   "execution_count": null,
   "metadata": {},
   "outputs": [],
   "source": [
    "sns.histplot(x=df5.depth)"
   ]
  },
  {
   "cell_type": "code",
   "execution_count": null,
   "metadata": {},
   "outputs": [],
   "source": []
  },
  {
   "cell_type": "code",
   "execution_count": null,
   "metadata": {},
   "outputs": [],
   "source": []
  },
  {
   "cell_type": "code",
   "execution_count": null,
   "metadata": {},
   "outputs": [],
   "source": []
  },
  {
   "cell_type": "markdown",
   "metadata": {},
   "source": [
    "# Categorical Plots: barplot, countplot, violinplot, stripplot\n"
   ]
  },
  {
   "cell_type": "code",
   "execution_count": null,
   "metadata": {},
   "outputs": [],
   "source": [
    "df5.head()"
   ]
  },
  {
   "cell_type": "code",
   "execution_count": null,
   "metadata": {},
   "outputs": [],
   "source": []
  },
  {
   "cell_type": "markdown",
   "metadata": {},
   "source": [
    "# barplot\n",
    "\n",
    "# Not:ci=confidence intervel(güven aralığı"
   ]
  },
  {
   "cell_type": "code",
   "execution_count": null,
   "metadata": {},
   "outputs": [],
   "source": [
    "sns.barplot(x=df5.cut, y=df5.price, data=df5)  #x should be categorical data, y should be numeric data"
   ]
  },
  {
   "cell_type": "code",
   "execution_count": null,
   "metadata": {},
   "outputs": [],
   "source": [
    "sns.barplot(x=df5.cut, y=df5.price, data=df5, ci=95)  #x should be categorical data, y should be numeric data"
   ]
  },
  {
   "cell_type": "code",
   "execution_count": null,
   "metadata": {},
   "outputs": [],
   "source": [
    "sns.barplot(x=df5.cut, y=df5.price, data=df5, ci='sd')  #cd 95 ile aynı"
   ]
  },
  {
   "cell_type": "code",
   "execution_count": null,
   "metadata": {},
   "outputs": [],
   "source": [
    "sns.barplot(x=df5.cut, y=df5.price, data=df5, ci='sd', estimator=np.sum)  #estimator: mean,mediam, sum, max, min, count_nonzero olabilir."
   ]
  },
  {
   "cell_type": "code",
   "execution_count": null,
   "metadata": {},
   "outputs": [],
   "source": [
    "sns.barplot(x=df5.cut, y=df5.price, data=df5, ci='sd', estimator=np.median)  #estimator: mean,mediam, sum, max, min, count_nonzero olabilir."
   ]
  },
  {
   "cell_type": "code",
   "execution_count": null,
   "metadata": {},
   "outputs": [],
   "source": [
    "sns.barplot(x=df5.cut, y=df5.price, data=df5, ci='sd', estimator=np.count_nonzero)  #estimator: mean,mediam, sum, max, min, count_nonzero olabilir."
   ]
  },
  {
   "cell_type": "code",
   "execution_count": null,
   "metadata": {},
   "outputs": [],
   "source": []
  },
  {
   "cell_type": "code",
   "execution_count": null,
   "metadata": {},
   "outputs": [],
   "source": [
    "sns.barplot(x=df5.color, y=df5.x, data=df5)"
   ]
  },
  {
   "cell_type": "code",
   "execution_count": null,
   "metadata": {},
   "outputs": [],
   "source": [
    "sns.barplot(x=df5.clarity, y=df5.y, data=df5);"
   ]
  },
  {
   "cell_type": "code",
   "execution_count": null,
   "metadata": {},
   "outputs": [],
   "source": [
    "df5.groupby('cut').df5.price.mean()"
   ]
  },
  {
   "cell_type": "code",
   "execution_count": null,
   "metadata": {},
   "outputs": [],
   "source": [
    "sns.barplot(x=df5.y, y=df5.clarity, data=df5);   #x should be numeric data, y should be categorical data"
   ]
  },
  {
   "cell_type": "markdown",
   "metadata": {},
   "source": [
    "# countplot  #sadece x değeri yazılır, x'in kategorik veri olması gerekir.barplota benzer"
   ]
  },
  {
   "cell_type": "markdown",
   "metadata": {},
   "source": [
    "# countplot"
   ]
  },
  {
   "cell_type": "code",
   "execution_count": null,
   "metadata": {},
   "outputs": [],
   "source": [
    "sns.countplot(x=df5.cut, data=df5)"
   ]
  },
  {
   "cell_type": "code",
   "execution_count": null,
   "metadata": {},
   "outputs": [],
   "source": [
    "sns.countplot(x=df5.color, data=df5)"
   ]
  },
  {
   "cell_type": "code",
   "execution_count": null,
   "metadata": {},
   "outputs": [],
   "source": [
    "df5.color.value_counts(sort=False)"
   ]
  },
  {
   "cell_type": "code",
   "execution_count": null,
   "metadata": {},
   "outputs": [],
   "source": [
    "df5.color.value_counts(sort=False).index"
   ]
  },
  {
   "cell_type": "code",
   "execution_count": null,
   "metadata": {},
   "outputs": [],
   "source": [
    "sns.countplot(x=df5.color, data=df5, order=df5.color.value_counts().index)"
   ]
  },
  {
   "cell_type": "code",
   "execution_count": null,
   "metadata": {},
   "outputs": [],
   "source": [
    "sns.countplot(x=df5.color, data=df5, order=df5.color.value_counts().index)[::-1]"
   ]
  },
  {
   "cell_type": "code",
   "execution_count": null,
   "metadata": {},
   "outputs": [],
   "source": [
    "sns.countplot(y=df5.color, data=df5)"
   ]
  },
  {
   "cell_type": "code",
   "execution_count": null,
   "metadata": {},
   "outputs": [],
   "source": [
    "sns.countplot(x=df5.cut, data=df5, hue=df5.color)"
   ]
  },
  {
   "cell_type": "code",
   "execution_count": null,
   "metadata": {},
   "outputs": [],
   "source": [
    "sns.countplot(x=df5.cut, data=df5, hue=df5.color, hue_order=['D','E'])"
   ]
  },
  {
   "cell_type": "code",
   "execution_count": null,
   "metadata": {},
   "outputs": [],
   "source": [
    "ax=sns.countplot(x=df5.color, data=df5, hue=df5.cut)\n",
    "for p in ax.patches:\n",
    "    ax.annotate((p.get_height()), (p.get_x()+0.1, p.get_height()+1))\n",
    "    ax.text(p.get_x()+0.1, p.get_height()-3,str(round(p.get_height()/df5.color.count(),2)) )     # yüzdelik ekledik"
   ]
  },
  {
   "cell_type": "code",
   "execution_count": null,
   "metadata": {},
   "outputs": [],
   "source": [
    "df5.dtypes"
   ]
  },
  {
   "cell_type": "code",
   "execution_count": null,
   "metadata": {},
   "outputs": [],
   "source": [
    "df5.color.cat.categories"
   ]
  },
  {
   "cell_type": "code",
   "execution_count": null,
   "metadata": {},
   "outputs": [],
   "source": [
    "df5.cut.cat.categories"
   ]
  },
  {
   "cell_type": "code",
   "execution_count": null,
   "metadata": {},
   "outputs": [],
   "source": [
    "color_order=['D', 'E', 'F', 'G', 'H', 'I', 'J']\n",
    "sns.countplot(x=df5.color,data=df5,order=color_order);"
   ]
  },
  {
   "cell_type": "code",
   "execution_count": null,
   "metadata": {},
   "outputs": [],
   "source": [
    "df5.color.value_counts().index"
   ]
  },
  {
   "cell_type": "code",
   "execution_count": null,
   "metadata": {},
   "outputs": [],
   "source": [
    "df5.head()"
   ]
  },
  {
   "cell_type": "code",
   "execution_count": null,
   "metadata": {},
   "outputs": [],
   "source": [
    "sns.countplot(x=df5.cut, data=df5)"
   ]
  },
  {
   "cell_type": "code",
   "execution_count": null,
   "metadata": {},
   "outputs": [],
   "source": [
    "sns.countplot(x=df5.cut, hue=df5.color,data=df5)"
   ]
  },
  {
   "cell_type": "markdown",
   "metadata": {},
   "source": [
    "# BOXPLOT #kategorik değere göre numeric değer"
   ]
  },
  {
   "cell_type": "code",
   "execution_count": null,
   "metadata": {},
   "outputs": [],
   "source": [
    "sns.boxplot(y=df5.color, x=df5.price, data=df5, hue=df5.cut)\n",
    "plt.legend(bbox_to_anchor=(1.05, 1), loc=2, borderaxespad=0.)"
   ]
  },
  {
   "cell_type": "code",
   "execution_count": null,
   "metadata": {},
   "outputs": [],
   "source": [
    "sns.boxplot(y=df5.color, x=df5.price, data=df5, hue=df5.cut)\n"
   ]
  },
  {
   "cell_type": "code",
   "execution_count": null,
   "metadata": {},
   "outputs": [],
   "source": [
    "df5.color.value_counts(sort=False)"
   ]
  },
  {
   "cell_type": "code",
   "execution_count": null,
   "metadata": {},
   "outputs": [],
   "source": []
  },
  {
   "cell_type": "markdown",
   "metadata": {},
   "source": [
    "# vıolınplot =boxplot+KDEplot\n",
    ",catecorical distribution plot"
   ]
  },
  {
   "cell_type": "code",
   "execution_count": null,
   "metadata": {},
   "outputs": [],
   "source": [
    "sns.violinplot(x='color', y='price', data=df5)"
   ]
  },
  {
   "cell_type": "code",
   "execution_count": null,
   "metadata": {},
   "outputs": [],
   "source": [
    "sns.violinplot(x='cut', y='price', data=df5, hue=\"color\")"
   ]
  },
  {
   "cell_type": "code",
   "execution_count": null,
   "metadata": {},
   "outputs": [],
   "source": [
    "sns.violinplot(x='cut', y='price', data=df5, hue=\"color\", split=True)"
   ]
  },
  {
   "cell_type": "markdown",
   "metadata": {},
   "source": [
    "# swarmplot"
   ]
  },
  {
   "cell_type": "code",
   "execution_count": null,
   "metadata": {},
   "outputs": [],
   "source": [
    "sns.swarmplot(x=df5.color, y=df5.price, data=df5, hue=df5.cut)"
   ]
  },
  {
   "cell_type": "code",
   "execution_count": null,
   "metadata": {},
   "outputs": [],
   "source": []
  },
  {
   "cell_type": "markdown",
   "metadata": {},
   "source": [
    "# boxenplot: büyük veri setinde kullanılır"
   ]
  },
  {
   "cell_type": "code",
   "execution_count": null,
   "metadata": {},
   "outputs": [],
   "source": [
    "sns.boxenplot(x=df5.color, y=df5.price, data=df5, hue=df5.cut)"
   ]
  },
  {
   "cell_type": "code",
   "execution_count": null,
   "metadata": {},
   "outputs": [],
   "source": []
  },
  {
   "cell_type": "markdown",
   "metadata": {},
   "source": [
    "# lineplot"
   ]
  },
  {
   "cell_type": "code",
   "execution_count": null,
   "metadata": {},
   "outputs": [],
   "source": []
  },
  {
   "cell_type": "markdown",
   "metadata": {},
   "source": [
    "DEĞERELERİN TABLODA OLUP OLMADIĞINI KNTROL ETME"
   ]
  },
  {
   "cell_type": "code",
   "execution_count": null,
   "metadata": {},
   "outputs": [],
   "source": []
  },
  {
   "cell_type": "code",
   "execution_count": null,
   "metadata": {},
   "outputs": [],
   "source": []
  }
 ],
 "metadata": {
  "interpreter": {
   "hash": "176008327093c58d2a75474fbdc883dc533d24f056eea3c3df23244de1112b8f"
  },
  "kernelspec": {
   "display_name": "Python 3",
   "language": "python",
   "name": "python3"
  },
  "language_info": {
   "codemirror_mode": {
    "name": "ipython",
    "version": 3
   },
   "file_extension": ".py",
   "mimetype": "text/x-python",
   "name": "python",
   "nbconvert_exporter": "python",
   "pygments_lexer": "ipython3",
   "version": "3.8.8"
  }
 },
 "nbformat": 4,
 "nbformat_minor": 2
}
