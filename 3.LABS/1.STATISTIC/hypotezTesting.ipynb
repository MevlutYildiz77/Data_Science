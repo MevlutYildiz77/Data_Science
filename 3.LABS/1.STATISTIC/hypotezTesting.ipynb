{
 "cells": [
  {
   "cell_type": "code",
   "execution_count": 20,
   "id": "7a6f394a",
   "metadata": {},
   "outputs": [],
   "source": [
    "from scipy import stats\n",
    "import pandas as pd"
   ]
  },
  {
   "cell_type": "code",
   "execution_count": 2,
   "id": "59c6457b",
   "metadata": {},
   "outputs": [
    {
     "data": {
      "text/html": [
       "<div>\n",
       "<style scoped>\n",
       "    .dataframe tbody tr th:only-of-type {\n",
       "        vertical-align: middle;\n",
       "    }\n",
       "\n",
       "    .dataframe tbody tr th {\n",
       "        vertical-align: top;\n",
       "    }\n",
       "\n",
       "    .dataframe thead th {\n",
       "        text-align: right;\n",
       "    }\n",
       "</style>\n",
       "<table border=\"1\" class=\"dataframe\">\n",
       "  <thead>\n",
       "    <tr style=\"text-align: right;\">\n",
       "      <th></th>\n",
       "      <th>yield</th>\n",
       "      <th>group</th>\n",
       "    </tr>\n",
       "  </thead>\n",
       "  <tbody>\n",
       "    <tr>\n",
       "      <th>0</th>\n",
       "      <td>91.50</td>\n",
       "      <td>1</td>\n",
       "    </tr>\n",
       "    <tr>\n",
       "      <th>1</th>\n",
       "      <td>94.18</td>\n",
       "      <td>1</td>\n",
       "    </tr>\n",
       "    <tr>\n",
       "      <th>2</th>\n",
       "      <td>92.18</td>\n",
       "      <td>1</td>\n",
       "    </tr>\n",
       "    <tr>\n",
       "      <th>3</th>\n",
       "      <td>95.39</td>\n",
       "      <td>1</td>\n",
       "    </tr>\n",
       "    <tr>\n",
       "      <th>4</th>\n",
       "      <td>91.79</td>\n",
       "      <td>1</td>\n",
       "    </tr>\n",
       "    <tr>\n",
       "      <th>5</th>\n",
       "      <td>89.07</td>\n",
       "      <td>1</td>\n",
       "    </tr>\n",
       "    <tr>\n",
       "      <th>6</th>\n",
       "      <td>94.72</td>\n",
       "      <td>1</td>\n",
       "    </tr>\n",
       "    <tr>\n",
       "      <th>7</th>\n",
       "      <td>89.21</td>\n",
       "      <td>1</td>\n",
       "    </tr>\n",
       "    <tr>\n",
       "      <th>8</th>\n",
       "      <td>89.19</td>\n",
       "      <td>2</td>\n",
       "    </tr>\n",
       "    <tr>\n",
       "      <th>9</th>\n",
       "      <td>90.95</td>\n",
       "      <td>2</td>\n",
       "    </tr>\n",
       "    <tr>\n",
       "      <th>10</th>\n",
       "      <td>90.46</td>\n",
       "      <td>2</td>\n",
       "    </tr>\n",
       "    <tr>\n",
       "      <th>11</th>\n",
       "      <td>93.21</td>\n",
       "      <td>2</td>\n",
       "    </tr>\n",
       "    <tr>\n",
       "      <th>12</th>\n",
       "      <td>97.19</td>\n",
       "      <td>2</td>\n",
       "    </tr>\n",
       "    <tr>\n",
       "      <th>13</th>\n",
       "      <td>97.04</td>\n",
       "      <td>2</td>\n",
       "    </tr>\n",
       "    <tr>\n",
       "      <th>14</th>\n",
       "      <td>91.07</td>\n",
       "      <td>2</td>\n",
       "    </tr>\n",
       "    <tr>\n",
       "      <th>15</th>\n",
       "      <td>92.75</td>\n",
       "      <td>2</td>\n",
       "    </tr>\n",
       "  </tbody>\n",
       "</table>\n",
       "</div>"
      ],
      "text/plain": [
       "    yield  group\n",
       "0   91.50      1\n",
       "1   94.18      1\n",
       "2   92.18      1\n",
       "3   95.39      1\n",
       "4   91.79      1\n",
       "5   89.07      1\n",
       "6   94.72      1\n",
       "7   89.21      1\n",
       "8   89.19      2\n",
       "9   90.95      2\n",
       "10  90.46      2\n",
       "11  93.21      2\n",
       "12  97.19      2\n",
       "13  97.04      2\n",
       "14  91.07      2\n",
       "15  92.75      2"
      ]
     },
     "execution_count": 2,
     "metadata": {},
     "output_type": "execute_result"
    }
   ],
   "source": [
    "x = [91.50, 94.18, 92.18, 95.39, 91.79, 89.07, 94.72, 89.21, 89.19, 90.95, 90.46, 93.21, 97.19, 97.04, 91.07, 92.75]\n",
    "group = [1,1,1,1,1,1,1,1,2,2,2,2,2,2,2,2]\n",
    "df = pd.DataFrame({\"yield\":x, \"group\":group})\n",
    "df"
   ]
  },
  {
   "cell_type": "code",
   "execution_count": 4,
   "id": "1cc61e3a",
   "metadata": {},
   "outputs": [
    {
     "data": {
      "text/plain": [
       "Ttest_indResult(statistic=-0.3535908643461798, pvalue=0.7289136186068217)"
      ]
     },
     "execution_count": 4,
     "metadata": {},
     "output_type": "execute_result"
    }
   ],
   "source": [
    "stats.ttest_ind(df[df.group == 1][\"yield\"], df[df.group == 2][\"yield\"] )"
   ]
  },
  {
   "cell_type": "code",
   "execution_count": 5,
   "id": "b39ba075",
   "metadata": {},
   "outputs": [
    {
     "data": {
      "text/plain": [
       "Ttest_indResult(statistic=-0.3535908643461798, pvalue=0.7289136186068217)"
      ]
     },
     "execution_count": 5,
     "metadata": {},
     "output_type": "execute_result"
    }
   ],
   "source": [
    "ind_Test= stats.ttest_ind(df[df.group == 1][\"yield\"], df[df.group == 2][\"yield\"] )\n",
    "ind_Test"
   ]
  },
  {
   "cell_type": "code",
   "execution_count": 6,
   "id": "9444fdaa",
   "metadata": {},
   "outputs": [
    {
     "data": {
      "text/plain": [
       "-0.3535908643461798"
      ]
     },
     "execution_count": 6,
     "metadata": {},
     "output_type": "execute_result"
    }
   ],
   "source": [
    "ind_Test.statistic"
   ]
  },
  {
   "cell_type": "code",
   "execution_count": 7,
   "id": "9cc94198",
   "metadata": {},
   "outputs": [
    {
     "data": {
      "text/plain": [
       "0.7289136186068217"
      ]
     },
     "execution_count": 7,
     "metadata": {},
     "output_type": "execute_result"
    }
   ],
   "source": [
    "ind_Test.pvalue"
   ]
  },
  {
   "cell_type": "code",
   "execution_count": 9,
   "id": "db34504d",
   "metadata": {},
   "outputs": [
    {
     "name": "stdout",
     "output_type": "stream",
     "text": [
      "Fail to reject\n"
     ]
    }
   ],
   "source": [
    "# Decision\n",
    "alpha = 0.05\n",
    "if ind_Test.pvalue < alpha:\n",
    "    print(\"Reject the Null\")\n",
    "else:\n",
    "    print(\"Fail to reject\")"
   ]
  },
  {
   "cell_type": "code",
   "execution_count": null,
   "id": "28a0a928",
   "metadata": {},
   "outputs": [],
   "source": [
    "---------------------------------------------------------------------------------------------------------------------"
   ]
  },
  {
   "cell_type": "code",
   "execution_count": null,
   "id": "8b52f801",
   "metadata": {},
   "outputs": [],
   "source": []
  },
  {
   "cell_type": "code",
   "execution_count": 12,
   "id": "daf53985",
   "metadata": {},
   "outputs": [
    {
     "data": {
      "text/plain": [
       "Ttest_indResult(statistic=-0.10650035369186457, pvalue=0.9175266110944751)"
      ]
     },
     "execution_count": 12,
     "metadata": {},
     "output_type": "execute_result"
    }
   ],
   "source": [
    "stats.ttest_ind_from_stats(mean1=92.55, std1=2.39, nobs1= 8 , mean2=92.733, std2=2.98, nobs2=2.98)"
   ]
  },
  {
   "cell_type": "code",
   "execution_count": 16,
   "id": "790589a3",
   "metadata": {},
   "outputs": [
    {
     "data": {
      "text/plain": [
       "Ttest_indResult(statistic=-0.353922390875553, pvalue=0.7286705530970293)"
      ]
     },
     "execution_count": 16,
     "metadata": {},
     "output_type": "execute_result"
    }
   ],
   "source": [
    "indTest=stats.ttest_ind_from_stats(mean1=92.255, std1=2.39, nobs1= 8 , mean2=92.733, std2=2.98, nobs2=8)\n",
    "indTest"
   ]
  },
  {
   "cell_type": "code",
   "execution_count": null,
   "id": "127585f5",
   "metadata": {},
   "outputs": [],
   "source": []
  },
  {
   "cell_type": "code",
   "execution_count": 14,
   "id": "8f8e61f5",
   "metadata": {},
   "outputs": [
    {
     "data": {
      "text/plain": [
       "Ttest_indResult(statistic=-0.353922390875553, pvalue=0.7286705530970293)"
      ]
     },
     "execution_count": 14,
     "metadata": {},
     "output_type": "execute_result"
    }
   ],
   "source": [
    "indTest = stats.ttest_ind_from_stats(mean1=92.255, std1=2.39, nobs1=8,\n",
    "                           mean2=92.733, std2=2.98, nobs2=8)\n",
    "indTest"
   ]
  },
  {
   "cell_type": "code",
   "execution_count": 17,
   "id": "0ce5a258",
   "metadata": {},
   "outputs": [
    {
     "data": {
      "text/plain": [
       "-0.353922390875553"
      ]
     },
     "execution_count": 17,
     "metadata": {},
     "output_type": "execute_result"
    }
   ],
   "source": [
    "indTest.statistic"
   ]
  },
  {
   "cell_type": "code",
   "execution_count": 18,
   "id": "d58a2b87",
   "metadata": {},
   "outputs": [
    {
     "data": {
      "text/plain": [
       "0.7286705530970293"
      ]
     },
     "execution_count": 18,
     "metadata": {},
     "output_type": "execute_result"
    }
   ],
   "source": [
    "indTest.pvalue"
   ]
  },
  {
   "cell_type": "code",
   "execution_count": 19,
   "id": "7868763b",
   "metadata": {},
   "outputs": [
    {
     "name": "stdout",
     "output_type": "stream",
     "text": [
      "Fail to reject\n"
     ]
    }
   ],
   "source": [
    "# Decision\n",
    "alpha = 0.05\n",
    "if ind_Test.pvalue < alpha:\n",
    "    print(\"Reject the Null\")\n",
    "else:\n",
    "    print(\"Fail to reject\")"
   ]
  },
  {
   "cell_type": "code",
   "execution_count": null,
   "id": "6e6373db",
   "metadata": {},
   "outputs": [],
   "source": [
    "-----------------------------------------------------------------------------------------------------------------"
   ]
  },
  {
   "cell_type": "code",
   "execution_count": null,
   "id": "983f0d50",
   "metadata": {},
   "outputs": [],
   "source": []
  },
  {
   "cell_type": "code",
   "execution_count": 24,
   "id": "a54ecf6d",
   "metadata": {},
   "outputs": [
    {
     "data": {
      "text/plain": [
       "Ttest_indResult(statistic=10.4676374161062, pvalue=1.4200116519875262e-24)"
      ]
     },
     "execution_count": 24,
     "metadata": {},
     "output_type": "execute_result"
    }
   ],
   "source": [
    "stats.ttest_ind_from_stats(mean1=10.67, std1=3.895, nobs1=500, \n",
    "                           mean2=7.83, std2=4.224, nobs2=400, alternative='greater')"
   ]
  },
  {
   "cell_type": "code",
   "execution_count": 25,
   "id": "846a9f0f",
   "metadata": {},
   "outputs": [
    {
     "data": {
      "text/plain": [
       "Ttest_indResult(statistic=1.048112362171905, pvalue=0.16471063434733127)"
      ]
     },
     "execution_count": 25,
     "metadata": {},
     "output_type": "execute_result"
    }
   ],
   "source": [
    "stats.ttest_ind_from_stats(mean1=10.67, std1=3.895, nobs1=5, \n",
    "                           mean2=7.83, std2=4.224, nobs2=4, alternative='greater')"
   ]
  },
  {
   "cell_type": "code",
   "execution_count": null,
   "id": "3e0e0a80",
   "metadata": {},
   "outputs": [],
   "source": []
  },
  {
   "cell_type": "code",
   "execution_count": null,
   "id": "fb8572fc",
   "metadata": {},
   "outputs": [],
   "source": []
  },
  {
   "cell_type": "code",
   "execution_count": null,
   "id": "0d1904d6",
   "metadata": {},
   "outputs": [],
   "source": []
  },
  {
   "cell_type": "code",
   "execution_count": null,
   "id": "85f161e6",
   "metadata": {},
   "outputs": [],
   "source": []
  },
  {
   "cell_type": "code",
   "execution_count": null,
   "id": "d96d97f4",
   "metadata": {},
   "outputs": [],
   "source": []
  },
  {
   "cell_type": "code",
   "execution_count": null,
   "id": "b5329289",
   "metadata": {},
   "outputs": [],
   "source": []
  }
 ],
 "metadata": {
  "kernelspec": {
   "display_name": "Python 3",
   "language": "python",
   "name": "python3"
  },
  "language_info": {
   "codemirror_mode": {
    "name": "ipython",
    "version": 3
   },
   "file_extension": ".py",
   "mimetype": "text/x-python",
   "name": "python",
   "nbconvert_exporter": "python",
   "pygments_lexer": "ipython3",
   "version": "3.8.8"
  }
 },
 "nbformat": 4,
 "nbformat_minor": 5
}
