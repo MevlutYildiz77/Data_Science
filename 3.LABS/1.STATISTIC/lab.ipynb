{
 "cells": [
  {
   "cell_type": "code",
   "execution_count": 62,
   "id": "716627d0",
   "metadata": {},
   "outputs": [],
   "source": [
    "import scipy as stats\n",
    "import matplotlib.pyplot as plt\n",
    "import numpy as np\n",
    "import pandas as pd\n",
    "from scipy import stats"
   ]
  },
  {
   "cell_type": "markdown",
   "id": "4991e613",
   "metadata": {},
   "source": [
    "# The law of large numbers"
   ]
  },
  {
   "cell_type": "code",
   "execution_count": 18,
   "id": "66873d5e",
   "metadata": {},
   "outputs": [],
   "source": [
    "n=1000"
   ]
  },
  {
   "cell_type": "code",
   "execution_count": null,
   "id": "518ffd2b",
   "metadata": {},
   "outputs": [],
   "source": [
    "n=10000"
   ]
  },
  {
   "cell_type": "code",
   "execution_count": null,
   "id": "dafb3c12",
   "metadata": {},
   "outputs": [],
   "source": [
    "n=100000"
   ]
  },
  {
   "cell_type": "code",
   "execution_count": 38,
   "id": "6e7737b5",
   "metadata": {},
   "outputs": [],
   "source": [
    "n=1000000"
   ]
  },
  {
   "cell_type": "code",
   "execution_count": 39,
   "id": "511a1b50",
   "metadata": {},
   "outputs": [
    {
     "data": {
      "text/plain": [
       "array([2, 6, 1, ..., 6, 3, 4])"
      ]
     },
     "execution_count": 39,
     "metadata": {},
     "output_type": "execute_result"
    }
   ],
   "source": [
    "np.random.seed(51)\n",
    "die_1= np.random.randint(1,7, size=n)\n",
    "die_1"
   ]
  },
  {
   "cell_type": "code",
   "execution_count": 40,
   "id": "c666aac0",
   "metadata": {},
   "outputs": [
    {
     "data": {
      "text/plain": [
       "array([4, 2, 1, ..., 2, 3, 5])"
      ]
     },
     "execution_count": 40,
     "metadata": {},
     "output_type": "execute_result"
    }
   ],
   "source": [
    "np.random.seed(81)\n",
    "die_2= np.random.randint(1,7, size=n)\n",
    "die_2"
   ]
  },
  {
   "cell_type": "code",
   "execution_count": 41,
   "id": "68ed648f",
   "metadata": {},
   "outputs": [
    {
     "data": {
      "text/plain": [
       "array([6, 8, 2, ..., 8, 6, 9])"
      ]
     },
     "execution_count": 41,
     "metadata": {},
     "output_type": "execute_result"
    }
   ],
   "source": [
    "x=die_1 +die_2\n",
    "x"
   ]
  },
  {
   "cell_type": "code",
   "execution_count": 42,
   "id": "29149840",
   "metadata": {},
   "outputs": [
    {
     "data": {
      "text/html": [
       "<div>\n",
       "<style scoped>\n",
       "    .dataframe tbody tr th:only-of-type {\n",
       "        vertical-align: middle;\n",
       "    }\n",
       "\n",
       "    .dataframe tbody tr th {\n",
       "        vertical-align: top;\n",
       "    }\n",
       "\n",
       "    .dataframe thead th {\n",
       "        text-align: right;\n",
       "    }\n",
       "</style>\n",
       "<table border=\"1\" class=\"dataframe\">\n",
       "  <thead>\n",
       "    <tr style=\"text-align: right;\">\n",
       "      <th></th>\n",
       "      <th>die_1</th>\n",
       "      <th>die_2</th>\n",
       "      <th>x</th>\n",
       "    </tr>\n",
       "  </thead>\n",
       "  <tbody>\n",
       "    <tr>\n",
       "      <th>0</th>\n",
       "      <td>2</td>\n",
       "      <td>4</td>\n",
       "      <td>6</td>\n",
       "    </tr>\n",
       "    <tr>\n",
       "      <th>1</th>\n",
       "      <td>6</td>\n",
       "      <td>2</td>\n",
       "      <td>8</td>\n",
       "    </tr>\n",
       "    <tr>\n",
       "      <th>2</th>\n",
       "      <td>1</td>\n",
       "      <td>1</td>\n",
       "      <td>2</td>\n",
       "    </tr>\n",
       "    <tr>\n",
       "      <th>3</th>\n",
       "      <td>2</td>\n",
       "      <td>4</td>\n",
       "      <td>6</td>\n",
       "    </tr>\n",
       "    <tr>\n",
       "      <th>4</th>\n",
       "      <td>6</td>\n",
       "      <td>4</td>\n",
       "      <td>10</td>\n",
       "    </tr>\n",
       "    <tr>\n",
       "      <th>5</th>\n",
       "      <td>1</td>\n",
       "      <td>4</td>\n",
       "      <td>5</td>\n",
       "    </tr>\n",
       "    <tr>\n",
       "      <th>6</th>\n",
       "      <td>6</td>\n",
       "      <td>2</td>\n",
       "      <td>8</td>\n",
       "    </tr>\n",
       "    <tr>\n",
       "      <th>7</th>\n",
       "      <td>5</td>\n",
       "      <td>2</td>\n",
       "      <td>7</td>\n",
       "    </tr>\n",
       "    <tr>\n",
       "      <th>8</th>\n",
       "      <td>2</td>\n",
       "      <td>6</td>\n",
       "      <td>8</td>\n",
       "    </tr>\n",
       "    <tr>\n",
       "      <th>9</th>\n",
       "      <td>6</td>\n",
       "      <td>3</td>\n",
       "      <td>9</td>\n",
       "    </tr>\n",
       "  </tbody>\n",
       "</table>\n",
       "</div>"
      ],
      "text/plain": [
       "   die_1  die_2   x\n",
       "0      2      4   6\n",
       "1      6      2   8\n",
       "2      1      1   2\n",
       "3      2      4   6\n",
       "4      6      4  10\n",
       "5      1      4   5\n",
       "6      6      2   8\n",
       "7      5      2   7\n",
       "8      2      6   8\n",
       "9      6      3   9"
      ]
     },
     "execution_count": 42,
     "metadata": {},
     "output_type": "execute_result"
    }
   ],
   "source": [
    "df = pd.DataFrame({\"die_1\":die_1, \"die_2\":die_2, \"x\":x})\n",
    "df.head(10)"
   ]
  },
  {
   "cell_type": "code",
   "execution_count": 43,
   "id": "799e456a",
   "metadata": {},
   "outputs": [
    {
     "data": {
      "text/plain": [
       "83599"
      ]
     },
     "execution_count": 43,
     "metadata": {},
     "output_type": "execute_result"
    }
   ],
   "source": [
    "total_four =  df[df.x==4]\n",
    "len(total_four)"
   ]
  },
  {
   "cell_type": "code",
   "execution_count": 44,
   "id": "65089ce6",
   "metadata": {},
   "outputs": [
    {
     "data": {
      "text/plain": [
       "83599"
      ]
     },
     "execution_count": 44,
     "metadata": {},
     "output_type": "execute_result"
    }
   ],
   "source": [
    "total_four =  df[df.x==4]\n",
    "len(total_four)"
   ]
  },
  {
   "cell_type": "code",
   "execution_count": 45,
   "id": "684acbb7",
   "metadata": {},
   "outputs": [
    {
     "data": {
      "text/plain": [
       "0.083599"
      ]
     },
     "execution_count": 45,
     "metadata": {},
     "output_type": "execute_result"
    }
   ],
   "source": [
    "p= len(total_four)/n     #göreceli frekans\n",
    "p"
   ]
  },
  {
   "cell_type": "code",
   "execution_count": 46,
   "id": "a8cdeeb0",
   "metadata": {},
   "outputs": [
    {
     "data": {
      "text/plain": [
       "0.08333333333333333"
      ]
     },
     "execution_count": 46,
     "metadata": {},
     "output_type": "execute_result"
    }
   ],
   "source": [
    "1/12   #teorik frekans"
   ]
  },
  {
   "cell_type": "code",
   "execution_count": 47,
   "id": "04f17174",
   "metadata": {},
   "outputs": [
    {
     "data": {
      "text/plain": [
       "7     166815\n",
       "6     138767\n",
       "8     138540\n",
       "5     110974\n",
       "9     110934\n",
       "4      83599\n",
       "10     83337\n",
       "11     55840\n",
       "3      55805\n",
       "12     27760\n",
       "2      27629\n",
       "Name: x, dtype: int64"
      ]
     },
     "execution_count": 47,
     "metadata": {},
     "output_type": "execute_result"
    }
   ],
   "source": [
    "freq= df.x.value_counts()\n",
    "freq"
   ]
  },
  {
   "cell_type": "code",
   "execution_count": 48,
   "id": "f067d29c",
   "metadata": {},
   "outputs": [
    {
     "data": {
      "text/plain": [
       "<AxesSubplot:>"
      ]
     },
     "execution_count": 48,
     "metadata": {},
     "output_type": "execute_result"
    },
    {
     "data": {
      "image/png": "[encoded data removed]",
      "text/plain": [
       "<Figure size 432x288 with 1 Axes>"
      ]
     },
     "metadata": {
      "needs_background": "light"
     },
     "output_type": "display_data"
    }
   ],
   "source": [
    "%matplotlib inline\n",
    "freq.sort_index().plot(kind=\"bar\", grid=True)"
   ]
  },
  {
   "cell_type": "code",
   "execution_count": 49,
   "id": "df49ae61",
   "metadata": {},
   "outputs": [
    {
     "data": {
      "text/plain": [
       "7     0.166815\n",
       "6     0.138767\n",
       "8     0.138540\n",
       "5     0.110974\n",
       "9     0.110934\n",
       "4     0.083599\n",
       "10    0.083337\n",
       "11    0.055840\n",
       "3     0.055805\n",
       "12    0.027760\n",
       "2     0.027629\n",
       "Name: x, dtype: float64"
      ]
     },
     "execution_count": 49,
     "metadata": {},
     "output_type": "execute_result"
    }
   ],
   "source": [
    "prob= df.x.value_counts()/n\n",
    "prob"
   ]
  },
  {
   "cell_type": "code",
   "execution_count": 50,
   "id": "60166508",
   "metadata": {},
   "outputs": [
    {
     "data": {
      "text/plain": [
       "<AxesSubplot:>"
      ]
     },
     "execution_count": 50,
     "metadata": {},
     "output_type": "execute_result"
    },
    {
     "data": {
      "image/png": "[encoded data removed]",
      "text/plain": [
       "<Figure size 432x288 with 1 Axes>"
      ]
     },
     "metadata": {
      "needs_background": "light"
     },
     "output_type": "display_data"
    }
   ],
   "source": [
    "%matplotlib inline\n",
    "freq.sort_index().plot(kind=\"bar\", grid=True)"
   ]
  },
  {
   "cell_type": "code",
   "execution_count": 59,
   "id": "6c644cc1",
   "metadata": {},
   "outputs": [],
   "source": []
  },
  {
   "cell_type": "code",
   "execution_count": null,
   "id": "3abefa2d",
   "metadata": {},
   "outputs": [],
   "source": [
    "P(x=14)"
   ]
  },
  {
   "cell_type": "code",
   "execution_count": 63,
   "id": "570cd53a",
   "metadata": {},
   "outputs": [],
   "source": [
    "n = 20\n",
    "p = 0.8\n",
    "x = 14"
   ]
  },
  {
   "cell_type": "code",
   "execution_count": 64,
   "id": "2bb6d011",
   "metadata": {},
   "outputs": [
    {
     "data": {
      "text/plain": [
       "0.10909970097304983"
      ]
     },
     "execution_count": 64,
     "metadata": {},
     "output_type": "execute_result"
    }
   ],
   "source": [
    "stats.binom.pmf(x,n,p)"
   ]
  },
  {
   "cell_type": "code",
   "execution_count": null,
   "id": "4263c7a7",
   "metadata": {},
   "outputs": [],
   "source": [
    "b. at least 10 recover?  # cdf kullanılır. cdf 1'den başlar"
   ]
  },
  {
   "cell_type": "code",
   "execution_count": 66,
   "id": "77b41eec",
   "metadata": {},
   "outputs": [],
   "source": [
    "x=10"
   ]
  },
  {
   "cell_type": "code",
   "execution_count": 67,
   "id": "136c17dc",
   "metadata": {},
   "outputs": [
    {
     "data": {
      "text/plain": [
       "0.0025948274006740136"
      ]
     },
     "execution_count": 67,
     "metadata": {},
     "output_type": "execute_result"
    }
   ],
   "source": [
    "stats.binom.cdf(x,n,p)"
   ]
  },
  {
   "cell_type": "code",
   "execution_count": 68,
   "id": "4962ed3c",
   "metadata": {},
   "outputs": [
    {
     "data": {
      "text/plain": [
       "0.9994365863023398"
      ]
     },
     "execution_count": 68,
     "metadata": {},
     "output_type": "execute_result"
    }
   ],
   "source": [
    "1-stats.binom.cdf(x-1,n,p) "
   ]
  },
  {
   "cell_type": "code",
   "execution_count": null,
   "id": "d34105ba",
   "metadata": {},
   "outputs": [],
   "source": [
    "c. at least 14 but not more than 18recover?"
   ]
  },
  {
   "cell_type": "code",
   "execution_count": 69,
   "id": "c763e2a9",
   "metadata": {},
   "outputs": [],
   "source": [
    "x1= 14\n",
    "x2= 18"
   ]
  },
  {
   "cell_type": "code",
   "execution_count": null,
   "id": "da42b5e3",
   "metadata": {},
   "outputs": [],
   "source": [
    "#önce 18'e kadar olan cdf i bul, sonra 13'e kadar ki cdf'i bul. sonrqa birbirinden çıkar"
   ]
  },
  {
   "cell_type": "code",
   "execution_count": 70,
   "id": "0bfa0686",
   "metadata": {},
   "outputs": [
    {
     "data": {
      "text/plain": [
       "0.9308247097235891"
      ]
     },
     "execution_count": 70,
     "metadata": {},
     "output_type": "execute_result"
    }
   ],
   "source": [
    "stats.binom.cdf(x2,n,p) "
   ]
  },
  {
   "cell_type": "code",
   "execution_count": 71,
   "id": "d0626b72",
   "metadata": {},
   "outputs": [
    {
     "data": {
      "text/plain": [
       "0.08669251356740021"
      ]
     },
     "execution_count": 71,
     "metadata": {},
     "output_type": "execute_result"
    }
   ],
   "source": [
    "stats.binom.cdf(x1-1,n,p) "
   ]
  },
  {
   "cell_type": "code",
   "execution_count": 72,
   "id": "b364e61d",
   "metadata": {},
   "outputs": [
    {
     "data": {
      "text/plain": [
       "0.844132196156189"
      ]
     },
     "execution_count": 72,
     "metadata": {},
     "output_type": "execute_result"
    }
   ],
   "source": [
    "stats.binom.cdf(x2,n,p) - stats.binom.cdf(x1-1,n,p) "
   ]
  },
  {
   "cell_type": "code",
   "execution_count": 73,
   "id": "2818990d",
   "metadata": {},
   "outputs": [
    {
     "data": {
      "text/plain": [
       "0.8441321961561871"
      ]
     },
     "execution_count": 73,
     "metadata": {},
     "output_type": "execute_result"
    }
   ],
   "source": [
    "stats.binom.pmf(14, n,p) + stats.binom.pmf(15, n,p)+stats.binom.pmf(16, n,p)+stats.binom.pmf(17, n,p)+stats.binom.pmf(18, n,p)"
   ]
  },
  {
   "cell_type": "code",
   "execution_count": null,
   "id": "557d8e0d",
   "metadata": {},
   "outputs": [],
   "source": [
    "d. at most 16 recover?"
   ]
  },
  {
   "cell_type": "code",
   "execution_count": 74,
   "id": "8ae04081",
   "metadata": {},
   "outputs": [],
   "source": [
    "x=16"
   ]
  },
  {
   "cell_type": "code",
   "execution_count": 75,
   "id": "54587a07",
   "metadata": {},
   "outputs": [
    {
     "data": {
      "text/plain": [
       "0.5885511380434305"
      ]
     },
     "execution_count": 75,
     "metadata": {},
     "output_type": "execute_result"
    }
   ],
   "source": [
    "stats.binom.cdf(x,n,p) "
   ]
  },
  {
   "cell_type": "code",
   "execution_count": null,
   "id": "242ad12e",
   "metadata": {},
   "outputs": [],
   "source": [
    "e. construct discrete probability disribution table and draw a graph"
   ]
  },
  {
   "cell_type": "code",
   "execution_count": 83,
   "id": "339f660b",
   "metadata": {},
   "outputs": [
    {
     "name": "stdout",
     "output_type": "stream",
     "text": [
      "0\t1.048576000000001e-14\n",
      "1\t8.388607999999975e-13\n",
      "2\t3.187671040000001e-11\n",
      "3\t7.650410495999974e-10\n",
      "4\t1.3005697843199945e-08\n",
      "5\t1.6647293239295892e-07\n",
      "6\t1.664729323929588e-06\n",
      "7\t1.3317834591436803e-05\n",
      "8\t8.656592484433902e-05\n",
      "9\t0.000461684932503141\n",
      "10\t0.002031413703013826\n",
      "11\t0.007386958920050259\n",
      "12\t0.022160876760150803\n",
      "13\t0.0545498504865252\n",
      "14\t0.10909970097304983\n",
      "15\t0.17455952155687976\n",
      "16\t0.21819940194610007\n",
      "17\t0.2053641430080944\n",
      "18\t0.13690942867206304\n",
      "19\t0.05764607523034236\n",
      "20\t0.011529215046068481\n"
     ]
    }
   ],
   "source": [
    "dist = []\n",
    "for i in range(n+1):\n",
    "    dist.append(stats.binom.pmf(i,n,p))\n",
    "    print(str(i) + \"\\t\" + str(stats.binom.pmf(i,n,p)))"
   ]
  },
  {
   "cell_type": "code",
   "execution_count": 84,
   "id": "fa84769c",
   "metadata": {},
   "outputs": [
    {
     "data": {
      "image/png": "[encoded data removed]",
      "text/plain": [
       "<Figure size 432x288 with 1 Axes>"
      ]
     },
     "metadata": {
      "needs_background": "light"
     },
     "output_type": "display_data"
    }
   ],
   "source": [
    "plt.bar(list(range(n+1)), dist)\n",
    "plt.show;"
   ]
  },
  {
   "cell_type": "code",
   "execution_count": null,
   "id": "b01ba857",
   "metadata": {},
   "outputs": [],
   "source": [
    "soru:"
   ]
  },
  {
   "cell_type": "code",
   "execution_count": 85,
   "id": "3a86b68e",
   "metadata": {},
   "outputs": [],
   "source": [
    "mu=1"
   ]
  },
  {
   "cell_type": "code",
   "execution_count": 86,
   "id": "7124fb84",
   "metadata": {},
   "outputs": [
    {
     "data": {
      "text/plain": [
       "0.36787944117144233"
      ]
     },
     "execution_count": 86,
     "metadata": {},
     "output_type": "execute_result"
    }
   ],
   "source": [
    "stats.poisson.pmf(0, mu)"
   ]
  },
  {
   "cell_type": "code",
   "execution_count": 87,
   "id": "f557c01d",
   "metadata": {},
   "outputs": [],
   "source": [
    "y=1"
   ]
  },
  {
   "cell_type": "code",
   "execution_count": 88,
   "id": "54704d4c",
   "metadata": {},
   "outputs": [
    {
     "data": {
      "text/plain": [
       "0.36787944117144233"
      ]
     },
     "execution_count": 88,
     "metadata": {},
     "output_type": "execute_result"
    }
   ],
   "source": [
    "stats.poisson.pmf(1, mu)"
   ]
  },
  {
   "cell_type": "code",
   "execution_count": null,
   "id": "01ec4873",
   "metadata": {},
   "outputs": [],
   "source": [
    "y=2"
   ]
  },
  {
   "cell_type": "code",
   "execution_count": 89,
   "id": "d6a698b4",
   "metadata": {},
   "outputs": [
    {
     "data": {
      "text/plain": [
       "0.18393972058572114"
      ]
     },
     "execution_count": 89,
     "metadata": {},
     "output_type": "execute_result"
    }
   ],
   "source": [
    "stats.poisson.pmf(2, mu)"
   ]
  },
  {
   "cell_type": "code",
   "execution_count": null,
   "id": "c3b80d92",
   "metadata": {},
   "outputs": [],
   "source": [
    "y>=1"
   ]
  },
  {
   "cell_type": "code",
   "execution_count": 90,
   "id": "c8544e5f",
   "metadata": {},
   "outputs": [
    {
     "data": {
      "text/plain": [
       "0.6321205588285576"
      ]
     },
     "execution_count": 90,
     "metadata": {},
     "output_type": "execute_result"
    }
   ],
   "source": [
    "1-stats.poisson.cdf(0, mu)"
   ]
  },
  {
   "cell_type": "code",
   "execution_count": 91,
   "id": "7994250e",
   "metadata": {},
   "outputs": [
    {
     "data": {
      "text/plain": [
       "0.6321205588285577"
      ]
     },
     "execution_count": 91,
     "metadata": {},
     "output_type": "execute_result"
    }
   ],
   "source": [
    "1-stats.poisson.pmf(0, mu)"
   ]
  },
  {
   "cell_type": "code",
   "execution_count": null,
   "id": "6dfbddd3",
   "metadata": {},
   "outputs": [],
   "source": [
    "### y=>3\n"
   ]
  },
  {
   "cell_type": "code",
   "execution_count": 92,
   "id": "7e1e7e23",
   "metadata": {},
   "outputs": [
    {
     "data": {
      "text/plain": [
       "0.08030139707139416"
      ]
     },
     "execution_count": 92,
     "metadata": {},
     "output_type": "execute_result"
    }
   ],
   "source": [
    "1-stats.poisson.cdf(2, mu)"
   ]
  },
  {
   "cell_type": "code",
   "execution_count": null,
   "id": "b7f4f27f",
   "metadata": {},
   "outputs": [],
   "source": []
  },
  {
   "cell_type": "code",
   "execution_count": null,
   "id": "b6a159e1",
   "metadata": {},
   "outputs": [],
   "source": []
  },
  {
   "cell_type": "code",
   "execution_count": null,
   "id": "745b7025",
   "metadata": {},
   "outputs": [],
   "source": []
  },
  {
   "cell_type": "code",
   "execution_count": null,
   "id": "353467a0",
   "metadata": {},
   "outputs": [],
   "source": []
  }
 ],
 "metadata": {
  "kernelspec": {
   "display_name": "Python 3",
   "language": "python",
   "name": "python3"
  },
  "language_info": {
   "codemirror_mode": {
    "name": "ipython",
    "version": 3
   },
   "file_extension": ".py",
   "mimetype": "text/x-python",
   "name": "python",
   "nbconvert_exporter": "python",
   "pygments_lexer": "ipython3",
   "version": "3.8.8"
  }
 },
 "nbformat": 4,
 "nbformat_minor": 5
}
