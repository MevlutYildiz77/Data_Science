import numpy as np
import pandas as pd
import seaborn as sns
import matplotlib.pyplot as plt
from pandas.plotting import register_matplotlib_converters
from pylab import rcParams
sns.set_style("darkgrid")
import json
import requests
from pandas.io.json import json_normalize


import warnings
warnings.filterwarnings("ignore")
warnings.warn("This will not show")

%matplotlib inline

#pd.set_option('display.max_columns', 150)
#pd.set_option('display.max_rows',100)
#pd.set_option('display.max_info_rows', 10)
#pd.set_option('display.max_colwidth', 100)
#pd.set_option('display.max_info_columns', 5000)
#pd.set_option('display.expand_frame_repr', True)
#pd.set_option('display.width', 10)




