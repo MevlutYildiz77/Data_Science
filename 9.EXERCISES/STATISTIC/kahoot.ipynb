{
 "cells": [
  {
   "cell_type": "code",
   "execution_count": 1,
   "id": "e3d07268",
   "metadata": {},
   "outputs": [],
   "source": [
    "from scipy import stats\n",
    "import numpy as np"
   ]
  },
  {
   "cell_type": "code",
   "execution_count": 2,
   "id": "f2868569",
   "metadata": {},
   "outputs": [],
   "source": [
    "n=5  # trial number\n",
    "p=1/6 # probability\n",
    "x=2  # unsuccess number"
   ]
  },
  {
   "cell_type": "code",
   "execution_count": 3,
   "id": "ea4fde97",
   "metadata": {},
   "outputs": [
    {
     "data": {
      "text/plain": [
       "0.16075102880658435"
      ]
     },
     "execution_count": 3,
     "metadata": {},
     "output_type": "execute_result"
    }
   ],
   "source": [
    "stats.binom.pmf(x,n,p)"
   ]
  },
  {
   "cell_type": "code",
   "execution_count": 4,
   "id": "2f4c2534",
   "metadata": {},
   "outputs": [
    {
     "data": {
      "text/plain": [
       "0.9645061728395062"
      ]
     },
     "execution_count": 4,
     "metadata": {},
     "output_type": "execute_result"
    }
   ],
   "source": [
    "stats.binom.cdf(x,n,p)"
   ]
  },
  {
   "cell_type": "code",
   "execution_count": 5,
   "id": "771c03da",
   "metadata": {},
   "outputs": [
    {
     "data": {
      "text/plain": [
       "0.03549382716049376"
      ]
     },
     "execution_count": 5,
     "metadata": {},
     "output_type": "execute_result"
    }
   ],
   "source": [
    "1 - stats.binom.cdf(x,n,p)"
   ]
  },
  {
   "cell_type": "code",
   "execution_count": 6,
   "id": "131760a7",
   "metadata": {},
   "outputs": [],
   "source": [
    "mu=850\n",
    "std =100\n",
    "x=940"
   ]
  },
  {
   "cell_type": "code",
   "execution_count": 7,
   "id": "261af619",
   "metadata": {},
   "outputs": [
    {
     "data": {
      "text/plain": [
       "0.18406012534675953"
      ]
     },
     "execution_count": 7,
     "metadata": {},
     "output_type": "execute_result"
    }
   ],
   "source": [
    "1- stats.norm.cdf(x, mu, std)"
   ]
  },
  {
   "cell_type": "code",
   "execution_count": 8,
   "id": "65a6049f",
   "metadata": {},
   "outputs": [],
   "source": [
    "lamda=12"
   ]
  },
  {
   "cell_type": "code",
   "execution_count": 9,
   "id": "b928b124",
   "metadata": {},
   "outputs": [
    {
     "data": {
      "text/plain": [
       "0.090488900183298"
      ]
     },
     "execution_count": 9,
     "metadata": {},
     "output_type": "execute_result"
    }
   ],
   "source": [
    "stats.poisson.pmf(14, lamda)"
   ]
  },
  {
   "cell_type": "code",
   "execution_count": null,
   "id": "427ddefb",
   "metadata": {},
   "outputs": [],
   "source": []
  },
  {
   "cell_type": "code",
   "execution_count": null,
   "id": "ae35aa94",
   "metadata": {},
   "outputs": [],
   "source": []
  },
  {
   "cell_type": "code",
   "execution_count": null,
   "id": "da319930",
   "metadata": {},
   "outputs": [],
   "source": []
  },
  {
   "cell_type": "code",
   "execution_count": null,
   "id": "59940b86",
   "metadata": {},
   "outputs": [],
   "source": []
  }
 ],
 "metadata": {
  "kernelspec": {
   "display_name": "Python 3",
   "language": "python",
   "name": "python3"
  },
  "language_info": {
   "codemirror_mode": {
    "name": "ipython",
    "version": 3
   },
   "file_extension": ".py",
   "mimetype": "text/x-python",
   "name": "python",
   "nbconvert_exporter": "python",
   "pygments_lexer": "ipython3",
   "version": "3.8.8"
  }
 },
 "nbformat": 4,
 "nbformat_minor": 5
}
