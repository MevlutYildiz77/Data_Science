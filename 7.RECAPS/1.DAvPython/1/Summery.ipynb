{
 "cells": [
  {
   "cell_type": "markdown",
   "id": "03c70279",
   "metadata": {},
   "source": [
    "# GENERAL"
   ]
  },
  {
   "cell_type": "code",
   "execution_count": 5,
   "id": "b79e7be0",
   "metadata": {},
   "outputs": [],
   "source": [
    "import numpy as np"
   ]
  },
  {
   "cell_type": "markdown",
   "id": "126850e0",
   "metadata": {},
   "source": [
    "# 1.Creating NumPy Arrays           > np.array(my_list)"
   ]
  },
  {
   "cell_type": "code",
   "execution_count": 6,
   "id": "a52d7779",
   "metadata": {},
   "outputs": [
    {
     "data": {
      "text/plain": [
       "array([1, 2, 3])"
      ]
     },
     "execution_count": 6,
     "metadata": {},
     "output_type": "execute_result"
    }
   ],
   "source": [
    "my_list = [1,2,3]\n",
    "my_list\n",
    "np.array(my_list)"
   ]
  },
  {
   "cell_type": "markdown",
   "id": "6e23b955",
   "metadata": {},
   "source": [
    "## create np.array    >  np.array'den sonra ([    ]) açılarak içine liste yerleştirilir."
   ]
  },
  {
   "cell_type": "code",
   "execution_count": 7,
   "id": "fbb5ff5f",
   "metadata": {},
   "outputs": [
    {
     "data": {
      "text/plain": [
       "array([1, 2, 3, 4])"
      ]
     },
     "execution_count": 7,
     "metadata": {},
     "output_type": "execute_result"
    }
   ],
   "source": [
    "a1 = np.array([1,2,3,4])   \n",
    "a1"
   ]
  },
  {
   "cell_type": "markdown",
   "id": "6e90df6f",
   "metadata": {},
   "source": [
    "# 2. multiply-additian- subtraction-division"
   ]
  },
  {
   "cell_type": "code",
   "execution_count": 14,
   "id": "34b48b3a",
   "metadata": {},
   "outputs": [],
   "source": [
    "a1 = np.array([[1,2,3,4],[1,2,3,4],[2,3,4,5]])\n",
    "b1 = np.array([[2,3,4,5],[1,2,4,5],[1,2,3,4]])\n"
   ]
  },
  {
   "cell_type": "code",
   "execution_count": 13,
   "id": "82de52f8",
   "metadata": {},
   "outputs": [
    {
     "data": {
      "text/plain": [
       "array([[ 2,  6, 12, 20],\n",
       "       [ 1,  4, 12, 20],\n",
       "       [ 2,  6, 12, 20]])"
      ]
     },
     "execution_count": 13,
     "metadata": {},
     "output_type": "execute_result"
    }
   ],
   "source": [
    "a1*b1"
   ]
  },
  {
   "cell_type": "code",
   "execution_count": 9,
   "id": "4162bd84",
   "metadata": {},
   "outputs": [
    {
     "data": {
      "text/plain": [
       "array([[3, 5, 7, 9],\n",
       "       [2, 4, 7, 9],\n",
       "       [3, 5, 7, 9]])"
      ]
     },
     "execution_count": 9,
     "metadata": {},
     "output_type": "execute_result"
    }
   ],
   "source": [
    "a1+b1"
   ]
  },
  {
   "cell_type": "code",
   "execution_count": 11,
   "id": "ce5e775a",
   "metadata": {},
   "outputs": [
    {
     "data": {
      "text/plain": [
       "array([[-1, -1, -1, -1],\n",
       "       [ 0,  0, -1, -1],\n",
       "       [ 1,  1,  1,  1]])"
      ]
     },
     "execution_count": 11,
     "metadata": {},
     "output_type": "execute_result"
    }
   ],
   "source": [
    "a1-b1"
   ]
  },
  {
   "cell_type": "code",
   "execution_count": 12,
   "id": "b061646f",
   "metadata": {},
   "outputs": [
    {
     "data": {
      "text/plain": [
       "array([[0.5       , 0.66666667, 0.75      , 0.8       ],\n",
       "       [1.        , 1.        , 0.75      , 0.8       ],\n",
       "       [2.        , 1.5       , 1.33333333, 1.25      ]])"
      ]
     },
     "execution_count": 12,
     "metadata": {},
     "output_type": "execute_result"
    }
   ],
   "source": [
    "a1/b1"
   ]
  },
  {
   "cell_type": "markdown",
   "id": "b1688525",
   "metadata": {},
   "source": [
    "# 3.Built-in Methods  > arange, zeros, ones, full, linspace, eye, Random(rand,randn,randint)"
   ]
  },
  {
   "cell_type": "code",
   "execution_count": null,
   "id": "bedad0ab",
   "metadata": {},
   "outputs": [],
   "source": []
  },
  {
   "cell_type": "markdown",
   "id": "cb01d6c0",
   "metadata": {},
   "source": [
    "# 4.Array Attributes and Methods > Reshape, shape, dtype,ndim,size"
   ]
  },
  {
   "cell_type": "code",
   "execution_count": null,
   "id": "7fb56ab7",
   "metadata": {},
   "outputs": [],
   "source": []
  },
  {
   "cell_type": "markdown",
   "id": "7567ffc6",
   "metadata": {},
   "source": [
    "# 5.Concatenation of the Arrays"
   ]
  },
  {
   "cell_type": "markdown",
   "id": "392e94dc",
   "metadata": {},
   "source": [
    "## concatenate(birleştirme) için np.concatenate ([     ]) açılarak içine değişkenler tırnak işareti olmadan yazılır.\n"
   ]
  },
  {
   "cell_type": "code",
   "execution_count": 17,
   "id": "43e058b7",
   "metadata": {},
   "outputs": [],
   "source": [
    "x = np.array([1, 2, 3])\n",
    "y = np.array([4, 5, 6])"
   ]
  },
  {
   "cell_type": "code",
   "execution_count": 18,
   "id": "1be710db",
   "metadata": {},
   "outputs": [
    {
     "data": {
      "text/plain": [
       "array([1, 2, 3, 4, 5, 6])"
      ]
     },
     "execution_count": 18,
     "metadata": {},
     "output_type": "execute_result"
    }
   ],
   "source": [
    "np.concatenate([x, y])"
   ]
  },
  {
   "cell_type": "markdown",
   "id": "f56b6a0e",
   "metadata": {},
   "source": [
    "## 2d matrix  > komutun içine  axis=1 yazarsak sütunlara(vertical) birleştirir."
   ]
  },
  {
   "cell_type": "code",
   "execution_count": 20,
   "id": "5e04ab55",
   "metadata": {},
   "outputs": [
    {
     "data": {
      "text/plain": [
       "array([[1, 2, 3],\n",
       "       [4, 5, 6]])"
      ]
     },
     "execution_count": 20,
     "metadata": {},
     "output_type": "execute_result"
    }
   ],
   "source": [
    "a = np.array([[1,2,3], \n",
    "              [4,5,6]])\n",
    "\n",
    "a"
   ]
  },
  {
   "cell_type": "code",
   "execution_count": 21,
   "id": "ac4502ec",
   "metadata": {},
   "outputs": [
    {
     "data": {
      "text/plain": [
       "array([[1, 2, 3, 1, 2, 3],\n",
       "       [4, 5, 6, 4, 5, 6]])"
      ]
     },
     "execution_count": 21,
     "metadata": {},
     "output_type": "execute_result"
    }
   ],
   "source": [
    "np.concatenate([a, a], axis=1)  "
   ]
  },
  {
   "cell_type": "markdown",
   "id": "93fde0b4",
   "metadata": {},
   "source": [
    "# 6.Splitting of the Arrays ? İNCELENECEK?????"
   ]
  },
  {
   "cell_type": "code",
   "execution_count": 70,
   "id": "94ec21be",
   "metadata": {},
   "outputs": [
    {
     "data": {
      "text/plain": [
       "array([ 1,  2,  3, 55, 99,  3,  2,  1])"
      ]
     },
     "execution_count": 70,
     "metadata": {},
     "output_type": "execute_result"
    }
   ],
   "source": [
    "x = np.array([1, 2, 3, 55, 99, 3, 2, 1])\n",
    "x"
   ]
  },
  {
   "cell_type": "code",
   "execution_count": 23,
   "id": "df5bbf73",
   "metadata": {},
   "outputs": [
    {
     "data": {
      "text/plain": [
       "[array([1, 2, 3]), array([99, 99]), array([3, 2, 1])]"
      ]
     },
     "execution_count": 23,
     "metadata": {},
     "output_type": "execute_result"
    }
   ],
   "source": [
    "np.split(x, [3, 5])"
   ]
  },
  {
   "cell_type": "code",
   "execution_count": 24,
   "id": "1b624674",
   "metadata": {},
   "outputs": [
    {
     "data": {
      "text/plain": [
       "[array([1, 2]), array([ 3, 99]), array([99,  3]), array([2, 1])]"
      ]
     },
     "execution_count": 24,
     "metadata": {},
     "output_type": "execute_result"
    }
   ],
   "source": [
    "np.split(x, 4)"
   ]
  },
  {
   "cell_type": "markdown",
   "id": "29e767c9",
   "metadata": {},
   "source": [
    "## 2d matrix"
   ]
  },
  {
   "cell_type": "code",
   "execution_count": 26,
   "id": "4add491d",
   "metadata": {},
   "outputs": [
    {
     "data": {
      "text/plain": [
       "array([[ 0,  1,  2,  3],\n",
       "       [ 4,  5,  6,  7],\n",
       "       [ 8,  9, 10, 11],\n",
       "       [12, 13, 14, 15],\n",
       "       [16, 17, 18, 19]])"
      ]
     },
     "execution_count": 26,
     "metadata": {},
     "output_type": "execute_result"
    }
   ],
   "source": [
    "m = np.arange(20).reshape(5, 4)\n",
    "m"
   ]
  },
  {
   "cell_type": "code",
   "execution_count": 27,
   "id": "d971a629",
   "metadata": {},
   "outputs": [
    {
     "data": {
      "text/plain": [
       "[array([[0, 1, 2, 3]]),\n",
       " array([[ 4,  5,  6,  7],\n",
       "        [ 8,  9, 10, 11]]),\n",
       " array([[12, 13, 14, 15],\n",
       "        [16, 17, 18, 19]])]"
      ]
     },
     "execution_count": 27,
     "metadata": {},
     "output_type": "execute_result"
    }
   ],
   "source": [
    "np.vsplit(m, [1, 3])"
   ]
  },
  {
   "cell_type": "code",
   "execution_count": 28,
   "id": "9bc5cbc3",
   "metadata": {},
   "outputs": [],
   "source": [
    "upper, lower = np.vsplit(m, [3])"
   ]
  },
  {
   "cell_type": "code",
   "execution_count": 30,
   "id": "b96b3667",
   "metadata": {},
   "outputs": [
    {
     "data": {
      "text/plain": [
       "array([[ 0,  1,  2,  3],\n",
       "       [ 4,  5,  6,  7],\n",
       "       [ 8,  9, 10, 11]])"
      ]
     },
     "execution_count": 30,
     "metadata": {},
     "output_type": "execute_result"
    }
   ],
   "source": [
    "upper"
   ]
  },
  {
   "cell_type": "code",
   "execution_count": 29,
   "id": "40958595",
   "metadata": {},
   "outputs": [
    {
     "data": {
      "text/plain": [
       "array([[12, 13, 14, 15],\n",
       "       [16, 17, 18, 19]])"
      ]
     },
     "execution_count": 29,
     "metadata": {},
     "output_type": "execute_result"
    }
   ],
   "source": [
    "lower"
   ]
  },
  {
   "cell_type": "markdown",
   "id": "a463150c",
   "metadata": {},
   "source": [
    "### 5 ve 2 sayıları köşeli parantezli olsa da olmasa da aynı sonucu veriyor."
   ]
  },
  {
   "cell_type": "code",
   "execution_count": 35,
   "id": "48255c02",
   "metadata": {},
   "outputs": [
    {
     "data": {
      "text/plain": [
       "[array([[0, 1, 2, 3]]),\n",
       " array([[4, 5, 6, 7]]),\n",
       " array([[ 8,  9, 10, 11]]),\n",
       " array([[12, 13, 14, 15]]),\n",
       " array([[16, 17, 18, 19]])]"
      ]
     },
     "execution_count": 35,
     "metadata": {},
     "output_type": "execute_result"
    }
   ],
   "source": [
    "np.vsplit(m, 5) "
   ]
  },
  {
   "cell_type": "code",
   "execution_count": 34,
   "id": "f176fd32",
   "metadata": {},
   "outputs": [
    {
     "data": {
      "text/plain": [
       "[array([[ 0,  1,  2,  3],\n",
       "        [ 4,  5,  6,  7],\n",
       "        [ 8,  9, 10, 11],\n",
       "        [12, 13, 14, 15],\n",
       "        [16, 17, 18, 19]]),\n",
       " array([], shape=(0, 4), dtype=int32)]"
      ]
     },
     "execution_count": 34,
     "metadata": {},
     "output_type": "execute_result"
    }
   ],
   "source": [
    "np.vsplit(m, [5])"
   ]
  },
  {
   "cell_type": "code",
   "execution_count": 32,
   "id": "7cfe44da",
   "metadata": {},
   "outputs": [
    {
     "data": {
      "text/plain": [
       "[array([[ 0,  1],\n",
       "        [ 4,  5],\n",
       "        [ 8,  9],\n",
       "        [12, 13],\n",
       "        [16, 17]]),\n",
       " array([[ 2,  3],\n",
       "        [ 6,  7],\n",
       "        [10, 11],\n",
       "        [14, 15],\n",
       "        [18, 19]])]"
      ]
     },
     "execution_count": 32,
     "metadata": {},
     "output_type": "execute_result"
    }
   ],
   "source": [
    "np.hsplit(m, [2])"
   ]
  },
  {
   "cell_type": "code",
   "execution_count": 33,
   "id": "2e1af513",
   "metadata": {},
   "outputs": [
    {
     "data": {
      "text/plain": [
       "[array([[ 0,  1],\n",
       "        [ 4,  5],\n",
       "        [ 8,  9],\n",
       "        [12, 13],\n",
       "        [16, 17]]),\n",
       " array([[ 2,  3],\n",
       "        [ 6,  7],\n",
       "        [10, 11],\n",
       "        [14, 15],\n",
       "        [18, 19]])]"
      ]
     },
     "execution_count": 33,
     "metadata": {},
     "output_type": "execute_result"
    }
   ],
   "source": [
    "np.hsplit(m, 2)"
   ]
  },
  {
   "cell_type": "markdown",
   "id": "67e9f146",
   "metadata": {},
   "source": [
    "# 7. Sorting of the Arrays"
   ]
  },
  {
   "cell_type": "code",
   "execution_count": 73,
   "id": "5ca12bc7",
   "metadata": {},
   "outputs": [
    {
     "data": {
      "text/plain": [
       "array([ 1,  2,  3, 55, 99,  3,  2,  1])"
      ]
     },
     "execution_count": 73,
     "metadata": {},
     "output_type": "execute_result"
    }
   ],
   "source": [
    "x = np.array([1, 2, 3, 55, 99, 3, 2, 1])\n",
    "x"
   ]
  },
  {
   "cell_type": "markdown",
   "id": "d1296ede",
   "metadata": {},
   "source": [
    "### np.sort(x) ile x.sort() komutları aynı sonucu veriyor."
   ]
  },
  {
   "cell_type": "code",
   "execution_count": 74,
   "id": "4511307c",
   "metadata": {},
   "outputs": [
    {
     "data": {
      "text/plain": [
       "array([ 1,  1,  2,  2,  3,  3, 55, 99])"
      ]
     },
     "execution_count": 74,
     "metadata": {},
     "output_type": "execute_result"
    }
   ],
   "source": [
    "np.sort(x)"
   ]
  },
  {
   "cell_type": "code",
   "execution_count": 75,
   "id": "44a9e111",
   "metadata": {},
   "outputs": [
    {
     "data": {
      "text/plain": [
       "array([ 1,  1,  2,  2,  3,  3, 55, 99])"
      ]
     },
     "execution_count": 75,
     "metadata": {},
     "output_type": "execute_result"
    }
   ],
   "source": [
    "x.sort()\n",
    "x"
   ]
  },
  {
   "cell_type": "markdown",
   "id": "f75915e9",
   "metadata": {},
   "source": [
    "## 2d matrix"
   ]
  },
  {
   "cell_type": "code",
   "execution_count": 48,
   "id": "b9e2e31e",
   "metadata": {},
   "outputs": [
    {
     "data": {
      "text/plain": [
       "array([[ 0,  1,  2,  3],\n",
       "       [ 4,  5,  6,  7],\n",
       "       [ 8,  9, 10, 11],\n",
       "       [12, 13, 14, 15],\n",
       "       [16, 17, 18, 19]])"
      ]
     },
     "execution_count": 48,
     "metadata": {},
     "output_type": "execute_result"
    }
   ],
   "source": [
    "mn= np.arange(20).reshape(5, 4)\n",
    "mn"
   ]
  },
  {
   "cell_type": "code",
   "execution_count": 49,
   "id": "2b236700",
   "metadata": {},
   "outputs": [
    {
     "data": {
      "text/plain": [
       "array([[ 0,  1,  2,  3],\n",
       "       [ 4,  5,  6,  7],\n",
       "       [ 8,  9, 10, 11],\n",
       "       [12, 13, 14, 15],\n",
       "       [16, 17, 18, 19]])"
      ]
     },
     "execution_count": 49,
     "metadata": {},
     "output_type": "execute_result"
    }
   ],
   "source": [
    "np.sort(mn, axis=0)  # the rows are sorted from upper to lower and column by column"
   ]
  },
  {
   "cell_type": "code",
   "execution_count": 51,
   "id": "1410d2ab",
   "metadata": {},
   "outputs": [
    {
     "data": {
      "text/plain": [
       "array([[ 0,  1,  2,  3],\n",
       "       [ 4,  5,  6,  7],\n",
       "       [ 8,  9, 10, 11],\n",
       "       [12, 13, 14, 15],\n",
       "       [16, 17, 18, 19]])"
      ]
     },
     "execution_count": 51,
     "metadata": {},
     "output_type": "execute_result"
    }
   ],
   "source": [
    "np.sort(mn, axis=1)  # the columns are sorted from left to right and row by row"
   ]
  },
  {
   "cell_type": "markdown",
   "id": "41635a3e",
   "metadata": {},
   "source": [
    "# 8.indexing"
   ]
  },
  {
   "cell_type": "code",
   "execution_count": 76,
   "id": "f9fb3b82",
   "metadata": {},
   "outputs": [
    {
     "data": {
      "text/plain": [
       "array([ 1,  2,  3, 55, 99,  3,  2,  1])"
      ]
     },
     "execution_count": 76,
     "metadata": {},
     "output_type": "execute_result"
    }
   ],
   "source": [
    "x = np.array([1, 2, 3, 55, 99, 3, 2, 1])\n",
    "x"
   ]
  },
  {
   "cell_type": "code",
   "execution_count": 77,
   "id": "459a94f7",
   "metadata": {},
   "outputs": [
    {
     "data": {
      "text/plain": [
       "3"
      ]
     },
     "execution_count": 77,
     "metadata": {},
     "output_type": "execute_result"
    }
   ],
   "source": [
    "x[2]"
   ]
  },
  {
   "cell_type": "code",
   "execution_count": 78,
   "id": "b114103c",
   "metadata": {},
   "outputs": [
    {
     "data": {
      "text/plain": [
       "1"
      ]
     },
     "execution_count": 78,
     "metadata": {},
     "output_type": "execute_result"
    }
   ],
   "source": [
    "x[-1]"
   ]
  },
  {
   "cell_type": "code",
   "execution_count": 80,
   "id": "61816063",
   "metadata": {},
   "outputs": [
    {
     "data": {
      "text/plain": [
       "array([ 1,  3, 99,  2])"
      ]
     },
     "execution_count": 80,
     "metadata": {},
     "output_type": "execute_result"
    }
   ],
   "source": [
    "x[0::2]"
   ]
  },
  {
   "cell_type": "markdown",
   "id": "9a90a492",
   "metadata": {},
   "source": [
    "### a1 arrayindeki 2'nci sıradaki rakamın değerini değiştirme > değişken [    ] kullanarak eşitliğin sağına istediğimiz değeri veriyoruz."
   ]
  },
  {
   "cell_type": "code",
   "execution_count": 81,
   "id": "74cbadcb",
   "metadata": {},
   "outputs": [
    {
     "data": {
      "text/plain": [
       "array([  1,   2, 777,  55,  99,   3,   2,   1])"
      ]
     },
     "execution_count": 81,
     "metadata": {},
     "output_type": "execute_result"
    }
   ],
   "source": [
    "x[2]= 777\n",
    "x"
   ]
  },
  {
   "cell_type": "markdown",
   "id": "ee771a9b",
   "metadata": {},
   "source": [
    "### a1 arrayinin uzunluğunun 1 eksiği kadar olan rakamların sayısını 777 olarak değiştirme"
   ]
  },
  {
   "cell_type": "code",
   "execution_count": 82,
   "id": "26b460fa",
   "metadata": {},
   "outputs": [
    {
     "data": {
      "text/plain": [
       "array([777, 777, 777,  55,  99,   3,   2,   1])"
      ]
     },
     "execution_count": 82,
     "metadata": {},
     "output_type": "execute_result"
    }
   ],
   "source": [
    "for _ in range(len(a1)-1):\n",
    "    x[_ ]  = 777\n",
    "x"
   ]
  },
  {
   "cell_type": "markdown",
   "id": "53f2bc85",
   "metadata": {},
   "source": [
    "### 2D matriste 0'ıncı satır, 0'ıncı sütunun rakam değerini değiştirme"
   ]
  },
  {
   "cell_type": "code",
   "execution_count": 68,
   "id": "352e78a1",
   "metadata": {},
   "outputs": [
    {
     "data": {
      "text/plain": [
       "array([[ 0,  1,  2,  3],\n",
       "       [ 4,  5,  6,  7],\n",
       "       [ 8,  9, 10, 11],\n",
       "       [12, 13, 14, 15],\n",
       "       [16, 17, 18, 19]])"
      ]
     },
     "execution_count": 68,
     "metadata": {},
     "output_type": "execute_result"
    }
   ],
   "source": [
    "mn= np.arange(20).reshape(5, 4)\n",
    "mn"
   ]
  },
  {
   "cell_type": "code",
   "execution_count": 69,
   "id": "ca6fd045",
   "metadata": {},
   "outputs": [
    {
     "data": {
      "text/plain": [
       "array([[555,   1,   2,   3],\n",
       "       [  4,   5,   6,   7],\n",
       "       [  8,   9,  10,  11],\n",
       "       [ 12,  13,  14,  15],\n",
       "       [ 16,  17,  18,  19]])"
      ]
     },
     "execution_count": 69,
     "metadata": {},
     "output_type": "execute_result"
    }
   ],
   "source": [
    "mn[0,0]=555\n",
    "mn"
   ]
  },
  {
   "cell_type": "markdown",
   "id": "df482393",
   "metadata": {},
   "source": [
    "### base konusu anlaşılmadı"
   ]
  },
  {
   "cell_type": "code",
   "execution_count": 83,
   "id": "972319ad",
   "metadata": {},
   "outputs": [
    {
     "data": {
      "text/plain": [
       "array([777, 777, 777,  55,  99,   3,   2,   1])"
      ]
     },
     "execution_count": 83,
     "metadata": {},
     "output_type": "execute_result"
    }
   ],
   "source": [
    "x.base\n",
    "x"
   ]
  },
  {
   "cell_type": "markdown",
   "id": "98e85aee",
   "metadata": {},
   "source": [
    "### indis değerleri  verilen rakamları bulma > hangi indisdeğerelrindeki rakamalrı bulmak istiyorsak onları [  ] içinde belirleyip bir değişkene atıyaruz ve \"liste_değişken_adı[ index listesi değişkeni  ]\" olarak yazıyoruz."
   ]
  },
  {
   "cell_type": "code",
   "execution_count": 87,
   "id": "5cfb7640",
   "metadata": {},
   "outputs": [
    {
     "data": {
      "text/plain": [
       "array([ 3, 99,  2])"
      ]
     },
     "execution_count": 87,
     "metadata": {},
     "output_type": "execute_result"
    }
   ],
   "source": [
    "index_list= [5,4,6]\n",
    "x[ index_list ]"
   ]
  },
  {
   "cell_type": "markdown",
   "id": "99560234",
   "metadata": {},
   "source": [
    "### matrisin herbir satırını aynı sayılardan oluşturma"
   ]
  },
  {
   "cell_type": "code",
   "execution_count": 100,
   "id": "0455ac69",
   "metadata": {},
   "outputs": [
    {
     "data": {
      "text/plain": [
       "array([[ 0,  1,  2,  3],\n",
       "       [ 4,  5,  6,  7],\n",
       "       [ 8,  9, 10, 11],\n",
       "       [12, 13, 14, 15],\n",
       "       [16, 17, 18, 19]])"
      ]
     },
     "execution_count": 100,
     "metadata": {},
     "output_type": "execute_result"
    }
   ],
   "source": [
    "mn= np.arange(20).reshape(5, 4)\n",
    "mn"
   ]
  },
  {
   "cell_type": "code",
   "execution_count": 101,
   "id": "6c1ec10d",
   "metadata": {},
   "outputs": [],
   "source": [
    "rows, columns = mn.shape"
   ]
  },
  {
   "cell_type": "code",
   "execution_count": 102,
   "id": "58e67853",
   "metadata": {},
   "outputs": [
    {
     "data": {
      "text/plain": [
       "5"
      ]
     },
     "execution_count": 102,
     "metadata": {},
     "output_type": "execute_result"
    }
   ],
   "source": [
    "rows"
   ]
  },
  {
   "cell_type": "code",
   "execution_count": 103,
   "id": "9080d960",
   "metadata": {},
   "outputs": [
    {
     "data": {
      "text/plain": [
       "4"
      ]
     },
     "execution_count": 103,
     "metadata": {},
     "output_type": "execute_result"
    }
   ],
   "source": [
    "columns"
   ]
  },
  {
   "cell_type": "code",
   "execution_count": 104,
   "id": "a11a6101",
   "metadata": {},
   "outputs": [
    {
     "data": {
      "text/plain": [
       "array([0, 1, 2, 3])"
      ]
     },
     "execution_count": 104,
     "metadata": {},
     "output_type": "execute_result"
    }
   ],
   "source": [
    "mn[0]"
   ]
  },
  {
   "cell_type": "code",
   "execution_count": 105,
   "id": "1fe29c5d",
   "metadata": {},
   "outputs": [
    {
     "data": {
      "text/plain": [
       "array([[ 0,  1,  2,  3],\n",
       "       [ 4,  5,  6,  7],\n",
       "       [ 8,  9, 10, 11],\n",
       "       [12, 13, 14, 15],\n",
       "       [16, 17, 18, 19]])"
      ]
     },
     "execution_count": 105,
     "metadata": {},
     "output_type": "execute_result"
    }
   ],
   "source": [
    "mn"
   ]
  },
  {
   "cell_type": "code",
   "execution_count": 107,
   "id": "ef0d1dc9",
   "metadata": {},
   "outputs": [],
   "source": [
    "for i in range(rows):\n",
    "    mn[i] = i"
   ]
  },
  {
   "cell_type": "code",
   "execution_count": 108,
   "id": "ee8929e3",
   "metadata": {},
   "outputs": [
    {
     "data": {
      "text/plain": [
       "array([[0, 0, 0, 0],\n",
       "       [1, 1, 1, 1],\n",
       "       [2, 2, 2, 2],\n",
       "       [3, 3, 3, 3],\n",
       "       [4, 4, 4, 4]])"
      ]
     },
     "execution_count": 108,
     "metadata": {},
     "output_type": "execute_result"
    }
   ],
   "source": [
    "mn"
   ]
  },
  {
   "cell_type": "markdown",
   "id": "827155ef",
   "metadata": {},
   "source": [
    "### matrisin herbir satırını istediğin rakamlardan oluşturma  > değişken_adı [ [ a,b, c,d,e ] ]                                          : 2 taneköşeli parantez içine satır mikraı kadar istedğimiz rakamalrı yazıyoruz ve bu rakamlar arraydeki sayıların içinden olmalı veya bu sayıları aşmamalı(sayılar 0-4 aralığında olmalı ve 4'ü aşmamalı)"
   ]
  },
  {
   "cell_type": "code",
   "execution_count": 119,
   "id": "81688c3b",
   "metadata": {},
   "outputs": [
    {
     "data": {
      "text/plain": [
       "array([[2, 2, 2, 2],\n",
       "       [4, 4, 4, 4],\n",
       "       [3, 3, 3, 3],\n",
       "       [1, 1, 1, 1],\n",
       "       [0, 0, 0, 0]])"
      ]
     },
     "execution_count": 119,
     "metadata": {},
     "output_type": "execute_result"
    }
   ],
   "source": [
    "mn[ [2,4,3,1,0] ]    "
   ]
  },
  {
   "cell_type": "markdown",
   "id": "4674bb55",
   "metadata": {},
   "source": [
    "## ???????"
   ]
  },
  {
   "cell_type": "code",
   "execution_count": 113,
   "id": "94c6612b",
   "metadata": {},
   "outputs": [
    {
     "data": {
      "text/plain": [
       "array([0, 4, 2])"
      ]
     },
     "execution_count": 113,
     "metadata": {},
     "output_type": "execute_result"
    }
   ],
   "source": [
    "mn[[0,4,2], [1,0,3]]"
   ]
  },
  {
   "cell_type": "markdown",
   "id": "81dd579d",
   "metadata": {},
   "source": [
    "## ????????????"
   ]
  },
  {
   "cell_type": "code",
   "execution_count": 118,
   "id": "e8d2595d",
   "metadata": {},
   "outputs": [
    {
     "data": {
      "text/plain": [
       "array([[0, 0, 0, 0],\n",
       "       [1, 1, 1, 1],\n",
       "       [2, 2, 2, 2],\n",
       "       [3, 3, 3, 3],\n",
       "       [4, 4, 4, 4]])"
      ]
     },
     "execution_count": 118,
     "metadata": {},
     "output_type": "execute_result"
    }
   ],
   "source": [
    "mn"
   ]
  },
  {
   "cell_type": "code",
   "execution_count": 117,
   "id": "32404523",
   "metadata": {},
   "outputs": [
    {
     "data": {
      "text/plain": [
       "array([2, 2])"
      ]
     },
     "execution_count": 117,
     "metadata": {},
     "output_type": "execute_result"
    }
   ],
   "source": [
    "mn[2, [1,3]]"
   ]
  },
  {
   "cell_type": "markdown",
   "id": "ffbd8ac0",
   "metadata": {},
   "source": [
    "## -----------                    # >  ==  >=   <="
   ]
  },
  {
   "cell_type": "code",
   "execution_count": 120,
   "id": "8c1795d2",
   "metadata": {},
   "outputs": [
    {
     "data": {
      "text/plain": [
       "array([[False, False, False, False],\n",
       "       [False, False, False, False],\n",
       "       [False, False, False, False],\n",
       "       [ True,  True,  True,  True],\n",
       "       [ True,  True,  True,  True]])"
      ]
     },
     "execution_count": 120,
     "metadata": {},
     "output_type": "execute_result"
    }
   ],
   "source": [
    "mn>2"
   ]
  },
  {
   "cell_type": "markdown",
   "id": "13d6bc8d",
   "metadata": {},
   "source": [
    "## hataları görmezden gelmek için komut"
   ]
  },
  {
   "cell_type": "code",
   "execution_count": null,
   "id": "68607435",
   "metadata": {},
   "outputs": [],
   "source": [
    "import warnings\n",
    "warnings.filterwarnings('ignore')"
   ]
  },
  {
   "cell_type": "markdown",
   "id": "54120c9d",
   "metadata": {},
   "source": [
    "## karekök"
   ]
  },
  {
   "cell_type": "code",
   "execution_count": 122,
   "id": "4d8fd13d",
   "metadata": {},
   "outputs": [
    {
     "data": {
      "text/plain": [
       "array([[0, 0, 0, 0],\n",
       "       [1, 1, 1, 1],\n",
       "       [2, 2, 2, 2],\n",
       "       [3, 3, 3, 3],\n",
       "       [4, 4, 4, 4]])"
      ]
     },
     "execution_count": 122,
     "metadata": {},
     "output_type": "execute_result"
    }
   ],
   "source": [
    "mn"
   ]
  },
  {
   "cell_type": "code",
   "execution_count": 121,
   "id": "70326007",
   "metadata": {},
   "outputs": [
    {
     "data": {
      "text/plain": [
       "array([[0.        , 0.        , 0.        , 0.        ],\n",
       "       [1.        , 1.        , 1.        , 1.        ],\n",
       "       [1.41421356, 1.41421356, 1.41421356, 1.41421356],\n",
       "       [1.73205081, 1.73205081, 1.73205081, 1.73205081],\n",
       "       [2.        , 2.        , 2.        , 2.        ]])"
      ]
     },
     "execution_count": 121,
     "metadata": {},
     "output_type": "execute_result"
    }
   ],
   "source": [
    "np.sqrt(mn)"
   ]
  },
  {
   "cell_type": "markdown",
   "id": "5703e81a",
   "metadata": {},
   "source": [
    "## üs alma"
   ]
  },
  {
   "cell_type": "code",
   "execution_count": null,
   "id": "cfb5ec3a",
   "metadata": {},
   "outputs": [],
   "source": [
    "np.exp(arr)"
   ]
  },
  {
   "cell_type": "markdown",
   "id": "c5407aa8",
   "metadata": {},
   "source": [
    "## sinüs fonksiyonu"
   ]
  },
  {
   "cell_type": "code",
   "execution_count": 124,
   "id": "c022f6f3",
   "metadata": {},
   "outputs": [
    {
     "data": {
      "text/plain": [
       "array([[ 0.        ,  0.        ,  0.        ,  0.        ],\n",
       "       [ 0.84147098,  0.84147098,  0.84147098,  0.84147098],\n",
       "       [ 0.90929743,  0.90929743,  0.90929743,  0.90929743],\n",
       "       [ 0.14112001,  0.14112001,  0.14112001,  0.14112001],\n",
       "       [-0.7568025 , -0.7568025 , -0.7568025 , -0.7568025 ]])"
      ]
     },
     "execution_count": 124,
     "metadata": {},
     "output_type": "execute_result"
    }
   ],
   "source": [
    "np.sin(mn)"
   ]
  },
  {
   "cell_type": "markdown",
   "id": "e3ec75f5",
   "metadata": {},
   "source": [
    "## tanjant fonksiyonu"
   ]
  },
  {
   "cell_type": "code",
   "execution_count": 125,
   "id": "d4003158",
   "metadata": {},
   "outputs": [
    {
     "data": {
      "text/plain": [
       "0.9999999999999999"
      ]
     },
     "execution_count": 125,
     "metadata": {},
     "output_type": "execute_result"
    }
   ],
   "source": [
    "np.tan(np.pi/4)"
   ]
  },
  {
   "cell_type": "markdown",
   "id": "c7de7159",
   "metadata": {},
   "source": [
    "## logaritma fonksiyonu"
   ]
  },
  {
   "cell_type": "code",
   "execution_count": 126,
   "id": "39e08058",
   "metadata": {},
   "outputs": [
    {
     "name": "stderr",
     "output_type": "stream",
     "text": [
      "<ipython-input-126-2c0c53f587eb>:1: RuntimeWarning: divide by zero encountered in log\n",
      "  np.log(mn)\n"
     ]
    },
    {
     "data": {
      "text/plain": [
       "array([[      -inf,       -inf,       -inf,       -inf],\n",
       "       [0.        , 0.        , 0.        , 0.        ],\n",
       "       [0.69314718, 0.69314718, 0.69314718, 0.69314718],\n",
       "       [1.09861229, 1.09861229, 1.09861229, 1.09861229],\n",
       "       [1.38629436, 1.38629436, 1.38629436, 1.38629436]])"
      ]
     },
     "execution_count": 126,
     "metadata": {},
     "output_type": "execute_result"
    }
   ],
   "source": [
    "np.log(mn)"
   ]
  },
  {
   "cell_type": "code",
   "execution_count": 127,
   "id": "354e9189",
   "metadata": {},
   "outputs": [
    {
     "data": {
      "text/plain": [
       "1.0"
      ]
     },
     "execution_count": 127,
     "metadata": {},
     "output_type": "execute_result"
    }
   ],
   "source": [
    "np.log10(10)"
   ]
  },
  {
   "cell_type": "markdown",
   "id": "37e584c5",
   "metadata": {},
   "source": [
    "## mean = ortalama"
   ]
  },
  {
   "cell_type": "code",
   "execution_count": 128,
   "id": "e48b02d1",
   "metadata": {},
   "outputs": [
    {
     "data": {
      "text/plain": [
       "2.0"
      ]
     },
     "execution_count": 128,
     "metadata": {},
     "output_type": "execute_result"
    }
   ],
   "source": [
    "np.mean(mn)\n"
   ]
  },
  {
   "cell_type": "code",
   "execution_count": 149,
   "id": "a489c602",
   "metadata": {},
   "outputs": [
    {
     "data": {
      "text/plain": [
       "array([2., 2., 2., 2.])"
      ]
     },
     "execution_count": 149,
     "metadata": {},
     "output_type": "execute_result"
    }
   ],
   "source": [
    "np.mean(mn, axis=0)"
   ]
  },
  {
   "cell_type": "markdown",
   "id": "df457974",
   "metadata": {},
   "source": [
    "## sum"
   ]
  },
  {
   "cell_type": "code",
   "execution_count": 150,
   "id": "76f1a433",
   "metadata": {},
   "outputs": [
    {
     "data": {
      "text/plain": [
       "40"
      ]
     },
     "execution_count": 150,
     "metadata": {},
     "output_type": "execute_result"
    }
   ],
   "source": [
    "mn.sum()"
   ]
  },
  {
   "cell_type": "markdown",
   "id": "64bc808b",
   "metadata": {},
   "source": [
    "## median"
   ]
  },
  {
   "cell_type": "code",
   "execution_count": 129,
   "id": "04a9902d",
   "metadata": {},
   "outputs": [
    {
     "data": {
      "text/plain": [
       "2.0"
      ]
     },
     "execution_count": 129,
     "metadata": {},
     "output_type": "execute_result"
    }
   ],
   "source": [
    "np.median(mn)"
   ]
  },
  {
   "cell_type": "markdown",
   "id": "21bd381e",
   "metadata": {},
   "source": [
    "## max"
   ]
  },
  {
   "cell_type": "code",
   "execution_count": 130,
   "id": "0c9a7a8c",
   "metadata": {},
   "outputs": [
    {
     "data": {
      "text/plain": [
       "4"
      ]
     },
     "execution_count": 130,
     "metadata": {},
     "output_type": "execute_result"
    }
   ],
   "source": [
    "mn.max()"
   ]
  },
  {
   "cell_type": "code",
   "execution_count": 131,
   "id": "beae20f4",
   "metadata": {},
   "outputs": [
    {
     "data": {
      "text/plain": [
       "array([0, 1, 2, 3, 4])"
      ]
     },
     "execution_count": 131,
     "metadata": {},
     "output_type": "execute_result"
    }
   ],
   "source": [
    "mn.max(axis=1)"
   ]
  },
  {
   "cell_type": "code",
   "execution_count": 152,
   "id": "30fe4611",
   "metadata": {},
   "outputs": [
    {
     "data": {
      "text/plain": [
       "array([4, 4, 4, 4])"
      ]
     },
     "execution_count": 152,
     "metadata": {},
     "output_type": "execute_result"
    }
   ],
   "source": [
    "mn.max(axis=0)"
   ]
  },
  {
   "cell_type": "markdown",
   "id": "3bcf802b",
   "metadata": {},
   "source": [
    "## min"
   ]
  },
  {
   "cell_type": "code",
   "execution_count": 151,
   "id": "db8d99f3",
   "metadata": {},
   "outputs": [
    {
     "data": {
      "text/plain": [
       "0"
      ]
     },
     "execution_count": 151,
     "metadata": {},
     "output_type": "execute_result"
    }
   ],
   "source": [
    "mn.min()"
   ]
  },
  {
   "cell_type": "markdown",
   "id": "3b743b6b",
   "metadata": {},
   "source": [
    "## var = varyans"
   ]
  },
  {
   "cell_type": "code",
   "execution_count": 153,
   "id": "c7ae8a51",
   "metadata": {},
   "outputs": [
    {
     "data": {
      "text/plain": [
       "2.0"
      ]
     },
     "execution_count": 153,
     "metadata": {},
     "output_type": "execute_result"
    }
   ],
   "source": [
    "np.var(mn)"
   ]
  },
  {
   "cell_type": "markdown",
   "id": "3409430b",
   "metadata": {},
   "source": [
    "## standart sapma"
   ]
  },
  {
   "cell_type": "code",
   "execution_count": 132,
   "id": "457d2983",
   "metadata": {},
   "outputs": [
    {
     "data": {
      "text/plain": [
       "array([1.41421356, 1.41421356, 1.41421356, 1.41421356])"
      ]
     },
     "execution_count": 132,
     "metadata": {},
     "output_type": "execute_result"
    }
   ],
   "source": [
    "np.std(mn, axis=0)  # satıra göre"
   ]
  },
  {
   "cell_type": "code",
   "execution_count": 154,
   "id": "7720c193",
   "metadata": {},
   "outputs": [
    {
     "data": {
      "text/plain": [
       "array([0., 0., 0., 0., 0.])"
      ]
     },
     "execution_count": 154,
     "metadata": {},
     "output_type": "execute_result"
    }
   ],
   "source": [
    "np.std(mn, axis=1)  # satıra göre"
   ]
  },
  {
   "cell_type": "code",
   "execution_count": 133,
   "id": "02a8fb07",
   "metadata": {},
   "outputs": [
    {
     "data": {
      "text/plain": [
       "1.4142135623730951"
      ]
     },
     "execution_count": 133,
     "metadata": {},
     "output_type": "execute_result"
    }
   ],
   "source": [
    "np.std(mn)"
   ]
  },
  {
   "cell_type": "markdown",
   "id": "2e88dc8d",
   "metadata": {},
   "source": [
    "## değişkenin istatistiksel verileri"
   ]
  },
  {
   "cell_type": "code",
   "execution_count": 135,
   "id": "9108c05f",
   "metadata": {},
   "outputs": [
    {
     "data": {
      "text/plain": [
       "DescribeResult(nobs=5, minmax=(array([0, 0, 0, 0]), array([4, 4, 4, 4])), mean=array([2., 2., 2., 2.]), variance=array([2.5, 2.5, 2.5, 2.5]), skewness=array([0., 0., 0., 0.]), kurtosis=array([-1.3, -1.3, -1.3, -1.3]))"
      ]
     },
     "execution_count": 135,
     "metadata": {},
     "output_type": "execute_result"
    }
   ],
   "source": [
    "from scipy import stats\n",
    "stats.describe(mn)"
   ]
  },
  {
   "cell_type": "markdown",
   "id": "66a66af9",
   "metadata": {},
   "source": [
    "## korelasyon katsayısı"
   ]
  },
  {
   "cell_type": "code",
   "execution_count": 136,
   "id": "0a16137b",
   "metadata": {},
   "outputs": [
    {
     "name": "stderr",
     "output_type": "stream",
     "text": [
      "C:\\Users\\TOSHIBA\\anaconda3\\lib\\site-packages\\numpy\\lib\\function_base.py:2642: RuntimeWarning: invalid value encountered in true_divide\n",
      "  c /= stddev[:, None]\n"
     ]
    },
    {
     "data": {
      "text/plain": [
       "array([[nan, nan, nan, nan, nan],\n",
       "       [nan, nan, nan, nan, nan],\n",
       "       [nan, nan, nan, nan, nan],\n",
       "       [nan, nan, nan, nan, nan],\n",
       "       [nan, nan, nan, nan, nan]])"
      ]
     },
     "execution_count": 136,
     "metadata": {},
     "output_type": "execute_result"
    }
   ],
   "source": [
    "np.corrcoef(mn)"
   ]
  },
  {
   "cell_type": "markdown",
   "id": "7b8b6869",
   "metadata": {},
   "source": [
    "## ??????????"
   ]
  },
  {
   "cell_type": "code",
   "execution_count": 137,
   "id": "1b9a661c",
   "metadata": {},
   "outputs": [
    {
     "data": {
      "text/plain": [
       "<module 'numpy.ma' from 'C:\\\\Users\\\\TOSHIBA\\\\anaconda3\\\\lib\\\\site-packages\\\\numpy\\\\ma\\\\__init__.py'>"
      ]
     },
     "execution_count": 137,
     "metadata": {},
     "output_type": "execute_result"
    }
   ],
   "source": [
    "np.ma"
   ]
  },
  {
   "cell_type": "code",
   "execution_count": 138,
   "id": "5774e263",
   "metadata": {},
   "outputs": [
    {
     "data": {
      "text/plain": [
       "numpy.ma.core.MaskedArray"
      ]
     },
     "execution_count": 138,
     "metadata": {},
     "output_type": "execute_result"
    }
   ],
   "source": [
    "np.ma.masked_array"
   ]
  },
  {
   "cell_type": "markdown",
   "id": "92b2f014",
   "metadata": {},
   "source": [
    "## ravel    > Düzleştirilmiş bir dizi döndürme"
   ]
  },
  {
   "cell_type": "code",
   "execution_count": 139,
   "id": "49487785",
   "metadata": {},
   "outputs": [
    {
     "data": {
      "text/plain": [
       "array([0, 0, 0, 0, 1, 1, 1, 1, 2, 2, 2, 2, 3, 3, 3, 3, 4, 4, 4, 4])"
      ]
     },
     "execution_count": 139,
     "metadata": {},
     "output_type": "execute_result"
    }
   ],
   "source": [
    "mn.ravel()"
   ]
  },
  {
   "cell_type": "markdown",
   "id": "cad6062d",
   "metadata": {},
   "source": [
    "## flat  > Dizi üzerinde 1 boyutlu bir yineleyici."
   ]
  },
  {
   "cell_type": "code",
   "execution_count": 140,
   "id": "395ec87b",
   "metadata": {},
   "outputs": [
    {
     "data": {
      "text/plain": [
       "<numpy.flatiter at 0x21d63727890>"
      ]
     },
     "execution_count": 140,
     "metadata": {},
     "output_type": "execute_result"
    }
   ],
   "source": [
    "mn.flat"
   ]
  },
  {
   "cell_type": "code",
   "execution_count": 142,
   "id": "02d31dbe",
   "metadata": {},
   "outputs": [
    {
     "data": {
      "text/plain": [
       "0"
      ]
     },
     "execution_count": 142,
     "metadata": {},
     "output_type": "execute_result"
    }
   ],
   "source": [
    "it = mn.flat\n",
    "next(it)"
   ]
  },
  {
   "cell_type": "code",
   "execution_count": 148,
   "id": "e374860f",
   "metadata": {},
   "outputs": [
    {
     "data": {
      "text/plain": [
       "array([0, 0, 0, 0, 1, 1, 1, 1, 2, 2, 2, 2, 3, 3, 3, 3, 4, 4, 4, 4])"
      ]
     },
     "execution_count": 148,
     "metadata": {},
     "output_type": "execute_result"
    }
   ],
   "source": [
    "np.fromiter(mn.flat, dtype=int)"
   ]
  },
  {
   "cell_type": "markdown",
   "id": "68771efd",
   "metadata": {},
   "source": [
    "## fromiter  > Create a new 1-dimensional array from an iterable object. (Yinelenebilir bir nesneden yeni bir 1 boyutlu dizi oluşturma)"
   ]
  },
  {
   "cell_type": "code",
   "execution_count": 143,
   "id": "20c5595d",
   "metadata": {},
   "outputs": [
    {
     "data": {
      "text/plain": [
       "<function numpy.fromiter>"
      ]
     },
     "execution_count": 143,
     "metadata": {},
     "output_type": "execute_result"
    }
   ],
   "source": [
    "np.fromiter"
   ]
  },
  {
   "cell_type": "code",
   "execution_count": 145,
   "id": "44db0ffe",
   "metadata": {},
   "outputs": [
    {
     "data": {
      "text/plain": [
       "array([ 0,  1,  2,  3,  4,  5,  6,  7,  8,  9, 10, 11, 12, 13, 14, 15, 16,\n",
       "       17, 18, 19, 20, 21, 22, 23, 24, 25, 26, 27, 28, 29, 30, 31, 32, 33,\n",
       "       34, 35, 36, 37, 38, 39, 40, 41, 42, 43, 44, 45, 46, 47, 48, 49, 50,\n",
       "       51, 52, 53, 54, 55, 56, 57, 58, 59, 60, 61, 62, 63, 64, 65, 66, 67,\n",
       "       68, 69, 70, 71, 72, 73, 74, 75, 76, 77, 78, 79, 80, 81, 82, 83, 84,\n",
       "       85, 86, 87, 88, 89, 90, 91, 92, 93, 94, 95, 96, 97, 98, 99])"
      ]
     },
     "execution_count": 145,
     "metadata": {},
     "output_type": "execute_result"
    }
   ],
   "source": [
    "np.fromiter([i for i in range(100)], dtype=int)"
   ]
  },
  {
   "cell_type": "code",
   "execution_count": 146,
   "id": "7813379b",
   "metadata": {},
   "outputs": [
    {
     "data": {
      "text/plain": [
       "array([ 0,  1,  2,  3,  4,  5,  6,  7,  8,  9, 10, 11, 12, 13, 14, 15, 16,\n",
       "       17, 18, 19, 20, 21, 22, 23, 24, 25, 26, 27, 28, 29, 30, 31, 32, 33,\n",
       "       34, 35, 36, 37, 38, 39, 40, 41, 42, 43, 44, 45, 46, 47, 48, 49, 50,\n",
       "       51, 52, 53, 54, 55, 56, 57, 58, 59, 60, 61, 62, 63, 64, 65, 66, 67,\n",
       "       68, 69, 70, 71, 72, 73, 74, 75, 76, 77, 78, 79, 80, 81, 82, 83, 84,\n",
       "       85, 86, 87, 88, 89, 90, 91, 92, 93, 94, 95, 96, 97, 98, 99])"
      ]
     },
     "execution_count": 146,
     "metadata": {},
     "output_type": "execute_result"
    }
   ],
   "source": [
    "np.fromiter(range(100), dtype=int)"
   ]
  },
  {
   "cell_type": "markdown",
   "id": "e74e3e21",
   "metadata": {},
   "source": [
    "## histogram grafiği"
   ]
  },
  {
   "cell_type": "code",
   "execution_count": 161,
   "id": "3a30c96b",
   "metadata": {},
   "outputs": [],
   "source": [
    "import numpy as np\n",
    "import pandas as pd\n",
    "import matplotlib.pyplot as plt\n",
    "import seaborn as sns\n",
    "%matplotlib inline"
   ]
  },
  {
   "cell_type": "code",
   "execution_count": 168,
   "id": "c124c126",
   "metadata": {},
   "outputs": [
    {
     "data": {
      "text/plain": [
       "(array([3., 1., 1., 0., 0., 0., 0., 0., 0., 0., 0., 0., 0., 0., 0., 0., 0.,\n",
       "        0., 0., 3.]),\n",
       " array([  1. ,  39.8,  78.6, 117.4, 156.2, 195. , 233.8, 272.6, 311.4,\n",
       "        350.2, 389. , 427.8, 466.6, 505.4, 544.2, 583. , 621.8, 660.6,\n",
       "        699.4, 738.2, 777. ]),\n",
       " <BarContainer object of 20 artists>)"
      ]
     },
     "execution_count": 168,
     "metadata": {},
     "output_type": "execute_result"
    },
    {
     "data": {
      "image/png": "[encoded data removed]",
      "text/plain": [
       "<Figure size 432x288 with 1 Axes>"
      ]
     },
     "metadata": {
      "needs_background": "light"
     },
     "output_type": "display_data"
    }
   ],
   "source": [
    "plt.hist(x, bins=20)"
   ]
  },
  {
   "cell_type": "markdown",
   "id": "75ac3906",
   "metadata": {},
   "source": [
    "## boxplot"
   ]
  },
  {
   "cell_type": "code",
   "execution_count": 169,
   "id": "0fa20cef",
   "metadata": {},
   "outputs": [
    {
     "data": {
      "image/png": "[encoded data removed]",
      "text/plain": [
       "<Figure size 432x288 with 1 Axes>"
      ]
     },
     "metadata": {
      "needs_background": "light"
     },
     "output_type": "display_data"
    }
   ],
   "source": [
    "plt.boxplot(x)\n",
    "plt.show()"
   ]
  },
  {
   "cell_type": "markdown",
   "id": "c706ae7d",
   "metadata": {},
   "source": [
    "## sort"
   ]
  },
  {
   "cell_type": "code",
   "execution_count": 170,
   "id": "8b26e7d5",
   "metadata": {},
   "outputs": [
    {
     "data": {
      "text/plain": [
       "array([  1,   2,   3,  55,  99, 777, 777, 777])"
      ]
     },
     "execution_count": 170,
     "metadata": {},
     "output_type": "execute_result"
    }
   ],
   "source": [
    "x.sort()\n",
    "x"
   ]
  },
  {
   "cell_type": "markdown",
   "id": "ce501dc3",
   "metadata": {},
   "source": [
    "## seriyi tersten yazdırma"
   ]
  },
  {
   "cell_type": "code",
   "execution_count": 171,
   "id": "3fa8681b",
   "metadata": {},
   "outputs": [
    {
     "data": {
      "text/plain": [
       "array([777, 777, 777,  99,  55,   3,   2,   1])"
      ]
     },
     "execution_count": 171,
     "metadata": {},
     "output_type": "execute_result"
    }
   ],
   "source": [
    "x[::-1]"
   ]
  },
  {
   "cell_type": "code",
   "execution_count": 174,
   "id": "6a169b58",
   "metadata": {},
   "outputs": [
    {
     "data": {
      "text/plain": [
       "array([  1,   2,   3,  55,  99, 777, 777, 777])"
      ]
     },
     "execution_count": 174,
     "metadata": {},
     "output_type": "execute_result"
    }
   ],
   "source": [
    "x.sort(kind='quicksort')\n",
    "x"
   ]
  },
  {
   "cell_type": "code",
   "execution_count": null,
   "id": "2fc829dc",
   "metadata": {},
   "outputs": [],
   "source": []
  }
 ],
 "metadata": {
  "kernelspec": {
   "display_name": "Python 3",
   "language": "python",
   "name": "python3"
  },
  "language_info": {
   "codemirror_mode": {
    "name": "ipython",
    "version": 3
   },
   "file_extension": ".py",
   "mimetype": "text/x-python",
   "name": "python",
   "nbconvert_exporter": "python",
   "pygments_lexer": "ipython3",
   "version": "3.8.8"
  }
 },
 "nbformat": 4,
 "nbformat_minor": 5
}
