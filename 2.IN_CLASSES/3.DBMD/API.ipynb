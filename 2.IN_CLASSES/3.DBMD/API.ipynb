{
 "cells": [
  {
   "cell_type": "code",
   "execution_count": 17,
   "id": "53a43ede",
   "metadata": {},
   "outputs": [
    {
     "name": "stdout",
     "output_type": "stream",
     "text": [
      "Requirement already satisfied: pyodbc in c:\\users\\toshiba\\anaconda3\\lib\\site-packages (4.0.0-unsupported)\n",
      "Note: you may need to restart the kernel to use updated packages.\n"
     ]
    }
   ],
   "source": [
    "pip install pyodbc"
   ]
  },
  {
   "cell_type": "code",
   "execution_count": 62,
   "id": "18255005",
   "metadata": {},
   "outputs": [],
   "source": [
    "import pyodbc"
   ]
  },
  {
   "cell_type": "markdown",
   "id": "75fb17b8",
   "metadata": {},
   "source": [
    "# def create_server_connection(driver, server, database, user, password):\n",
    "    conn = None\n",
    "    try:\n",
    "        conn = pyodbc.connect(DRIVER=driver, SERVER=server, DATABASE=database, UID=user, PWD=password)\n",
    "        print(\"Successfull!\")\n",
    "    except Error as err:\n",
    "        print(f\"Error: '{err}'\")\n",
    "    return conn"
   ]
  },
  {
   "cell_type": "markdown",
   "id": "c155437a",
   "metadata": {},
   "source": [
    "#driver = '{ODBC Driver 17 for SQL Server}'     #kullanıcı adı ve şifresi ile bağlanma\n",
    "server = 'localhost'\n",
    "database = 'master'\n",
    "user = 'sa'\n",
    "password = 'your_password'\n",
    "conn = create_server_connection(driver,server,database,user,password)"
   ]
  },
  {
   "cell_type": "code",
   "execution_count": 24,
   "id": "564d4a4f",
   "metadata": {},
   "outputs": [],
   "source": [
    "#conn.close()"
   ]
  },
  {
   "cell_type": "code",
   "execution_count": 65,
   "id": "6cc7631e",
   "metadata": {},
   "outputs": [
    {
     "data": {
      "text/plain": [
       "['SQL Server',\n",
       " 'Microsoft Access Driver (*.mdb, *.accdb)',\n",
       " 'Microsoft Excel Driver (*.xls, *.xlsx, *.xlsm, *.xlsb)',\n",
       " 'Microsoft Access Text Driver (*.txt, *.csv)',\n",
       " 'SQL Server Native Client 11.0',\n",
       " 'SQL Server Native Client RDA 11.0',\n",
       " 'ODBC Driver 13 for SQL Server',\n",
       " 'ODBC Driver 17 for SQL Server',\n",
       " 'Microsoft Access dBASE Driver (*.dbf, *.ndx, *.mdx)',\n",
       " 'PostgreSQL ANSI(x64)',\n",
       " 'PostgreSQL Unicode(x64)']"
      ]
     },
     "execution_count": 65,
     "metadata": {},
     "output_type": "execute_result"
    }
   ],
   "source": [
    "pyodbc.drivers()"
   ]
  },
  {
   "cell_type": "code",
   "execution_count": 66,
   "id": "1b0aaccb",
   "metadata": {},
   "outputs": [],
   "source": [
    "conn_string = \"driver={ODBC Driver 17 for SQL Server}; server=localhost; database=master; TRUSTED_CONNECTION=yes;\"  #windows authontication ile bağlanma"
   ]
  },
  {
   "cell_type": "code",
   "execution_count": 67,
   "id": "1cf61a6b",
   "metadata": {},
   "outputs": [],
   "source": [
    "conn = pyodbc.connect (conn_string)"
   ]
  },
  {
   "cell_type": "code",
   "execution_count": null,
   "id": "ac1507cf",
   "metadata": {},
   "outputs": [],
   "source": [
    "#conn.close()"
   ]
  },
  {
   "cell_type": "code",
   "execution_count": 68,
   "id": "36447246",
   "metadata": {},
   "outputs": [
    {
     "data": {
      "text/plain": [
       "<pyodbc.Cursor at 0x22069a1a130>"
      ]
     },
     "execution_count": 68,
     "metadata": {},
     "output_type": "execute_result"
    }
   ],
   "source": [
    "conn= conn.cursor()   #cursor ile tablolara-verilere ulaşırız\n",
    "conn"
   ]
  },
  {
   "cell_type": "code",
   "execution_count": 7,
   "id": "22c87e3d",
   "metadata": {},
   "outputs": [
    {
     "ename": "SyntaxError",
     "evalue": "cannot assign to function call (<ipython-input-7-4fd508240fda>, line 1)",
     "output_type": "error",
     "traceback": [
      "\u001b[1;36m  File \u001b[1;32m\"<ipython-input-7-4fd508240fda>\"\u001b[1;36m, line \u001b[1;32m1\u001b[0m\n\u001b[1;33m    conn.autocommit() = True   # değişiklein sqlservera yansımasını sağlar. işlemleri kontrollü bir şekilde yapmamızı sağlar\u001b[0m\n\u001b[1;37m    ^\u001b[0m\n\u001b[1;31mSyntaxError\u001b[0m\u001b[1;31m:\u001b[0m cannot assign to function call\n"
     ]
    }
   ],
   "source": [
    "#conn.autocommit() = True   # değişiklein sqlservera yansımasını sağlar. işlemleri kontrollü bir şekilde yapmamızı sağlar "
   ]
  },
  {
   "cell_type": "code",
   "execution_count": 69,
   "id": "8651a99d",
   "metadata": {},
   "outputs": [],
   "source": [
    "create_db_syntax= 'CREATE DATABASE SAMPLEDB_1'\n",
    "conn.commit()"
   ]
  },
  {
   "cell_type": "code",
   "execution_count": 70,
   "id": "fdf5776d",
   "metadata": {},
   "outputs": [
    {
     "name": "stdout",
     "output_type": "stream",
     "text": [
      "Error:'('42000', \"[42000] [Microsoft][ODBC Driver 17 for SQL Server][SQL Server]Database 'SAMPLEDB_1' already exists. Choose a different database name. (1801) (SQLExecDirectW)\")'\n"
     ]
    }
   ],
   "source": [
    "conn_string = \"driver={ODBC Driver 17 for SQL Server}; server=localhost; database=master; TRUSTED_CONNECTION=yes;\"\n",
    "conn = pyodbc.connect (conn_string)\n",
    "crs = conn.cursor()\n",
    "conn.autocommit=True\n",
    "create_db_syntax = 'CREATE DATABASE SAMPLEDB_1'\n",
    "def create_database (conn, create_db_syntax):\n",
    "    conn = conn.cursor()\n",
    "    try:\n",
    "        conn.execute(create_db_syntax)\n",
    "        print(\"Database is Created Succesfully\")\n",
    "    except Exception as err:\n",
    "        print(f\"Error:'{err}'\")\n",
    "create_database(conn, create_db_syntax)"
   ]
  },
  {
   "cell_type": "code",
   "execution_count": 72,
   "id": "67edbda3",
   "metadata": {},
   "outputs": [],
   "source": [
    "def execute_query(conn, query):\n",
    "    conn = conn.cursor()\n",
    "    try:\n",
    "        conn.execute(query)\n",
    "        conn.commit()\n",
    "        print(\"Query Succeessful!\")\n",
    "    except Error as err:\n",
    "        print(f\"Error:'{err}'\")"
   ]
  },
  {
   "cell_type": "code",
   "execution_count": 73,
   "id": "4582068c",
   "metadata": {},
   "outputs": [],
   "source": [
    "query = 'USE SAMPLEDB_1'"
   ]
  },
  {
   "cell_type": "code",
   "execution_count": 74,
   "id": "693f6997",
   "metadata": {},
   "outputs": [
    {
     "name": "stdout",
     "output_type": "stream",
     "text": [
      "Query Succeessful!\n"
     ]
    }
   ],
   "source": [
    "execute_query(conn, query)"
   ]
  },
  {
   "cell_type": "code",
   "execution_count": 75,
   "id": "ab0b0731",
   "metadata": {},
   "outputs": [],
   "source": [
    "query = 'CREATE TABLE TestA (\\\n",
    "           ID INT IDENTITY (1,1) NOT NULL, \\\n",
    "           FirstName VARCHAR(255) NOT NULL,\\\n",
    "           LastName VARCHAR(255) NOT NULL,\\\n",
    "           PRIMARY KEY(ID))'"
   ]
  },
  {
   "cell_type": "code",
   "execution_count": 16,
   "id": "e7c9473c",
   "metadata": {},
   "outputs": [
    {
     "ename": "NameError",
     "evalue": "name 'Error' is not defined",
     "output_type": "error",
     "traceback": [
      "\u001b[1;31m---------------------------------------------------------------------------\u001b[0m",
      "\u001b[1;31mProgrammingError\u001b[0m                          Traceback (most recent call last)",
      "\u001b[1;32m<ipython-input-8-4abab7fedafb>\u001b[0m in \u001b[0;36mexecute_query\u001b[1;34m(conn, query)\u001b[0m\n\u001b[0;32m      3\u001b[0m     \u001b[1;32mtry\u001b[0m\u001b[1;33m:\u001b[0m\u001b[1;33m\u001b[0m\u001b[1;33m\u001b[0m\u001b[0m\n\u001b[1;32m----> 4\u001b[1;33m         \u001b[0mconn\u001b[0m\u001b[1;33m.\u001b[0m\u001b[0mexecute\u001b[0m\u001b[1;33m(\u001b[0m\u001b[0mquery\u001b[0m\u001b[1;33m)\u001b[0m\u001b[1;33m\u001b[0m\u001b[1;33m\u001b[0m\u001b[0m\n\u001b[0m\u001b[0;32m      5\u001b[0m         \u001b[0mconn\u001b[0m\u001b[1;33m.\u001b[0m\u001b[0mcommit\u001b[0m\u001b[1;33m(\u001b[0m\u001b[1;33m)\u001b[0m\u001b[1;33m\u001b[0m\u001b[1;33m\u001b[0m\u001b[0m\n",
      "\u001b[1;31mProgrammingError\u001b[0m: ('42S01', \"[42S01] [Microsoft][ODBC Driver 17 for SQL Server][SQL Server]There is already an object named 'TestA' in the database. (2714) (SQLExecDirectW)\")",
      "\nDuring handling of the above exception, another exception occurred:\n",
      "\u001b[1;31mNameError\u001b[0m                                 Traceback (most recent call last)",
      "\u001b[1;32m<ipython-input-16-c8e54fa67804>\u001b[0m in \u001b[0;36m<module>\u001b[1;34m\u001b[0m\n\u001b[1;32m----> 1\u001b[1;33m \u001b[0mexecute_query\u001b[0m\u001b[1;33m(\u001b[0m\u001b[0mconn\u001b[0m\u001b[1;33m,\u001b[0m \u001b[0mquery\u001b[0m\u001b[1;33m)\u001b[0m\u001b[1;33m\u001b[0m\u001b[1;33m\u001b[0m\u001b[0m\n\u001b[0m",
      "\u001b[1;32m<ipython-input-8-4abab7fedafb>\u001b[0m in \u001b[0;36mexecute_query\u001b[1;34m(conn, query)\u001b[0m\n\u001b[0;32m      5\u001b[0m         \u001b[0mconn\u001b[0m\u001b[1;33m.\u001b[0m\u001b[0mcommit\u001b[0m\u001b[1;33m(\u001b[0m\u001b[1;33m)\u001b[0m\u001b[1;33m\u001b[0m\u001b[1;33m\u001b[0m\u001b[0m\n\u001b[0;32m      6\u001b[0m         \u001b[0mprint\u001b[0m\u001b[1;33m(\u001b[0m\u001b[1;34m\"Query Succeessful!\"\u001b[0m\u001b[1;33m)\u001b[0m\u001b[1;33m\u001b[0m\u001b[1;33m\u001b[0m\u001b[0m\n\u001b[1;32m----> 7\u001b[1;33m     \u001b[1;32mexcept\u001b[0m \u001b[0mError\u001b[0m \u001b[1;32mas\u001b[0m \u001b[0merr\u001b[0m\u001b[1;33m:\u001b[0m\u001b[1;33m\u001b[0m\u001b[1;33m\u001b[0m\u001b[0m\n\u001b[0m\u001b[0;32m      8\u001b[0m         \u001b[0mprint\u001b[0m\u001b[1;33m(\u001b[0m\u001b[1;34mf\"Error:'{err}'\"\u001b[0m\u001b[1;33m)\u001b[0m\u001b[1;33m\u001b[0m\u001b[1;33m\u001b[0m\u001b[0m\n",
      "\u001b[1;31mNameError\u001b[0m: name 'Error' is not defined"
     ]
    }
   ],
   "source": [
    "execute_query(conn, query)"
   ]
  },
  {
   "cell_type": "code",
   "execution_count": 76,
   "id": "5aa0f1a5",
   "metadata": {},
   "outputs": [
    {
     "data": {
      "text/plain": [
       "<pyodbc.Cursor at 0x22069a1a1b0>"
      ]
     },
     "execution_count": 76,
     "metadata": {},
     "output_type": "execute_result"
    }
   ],
   "source": [
    "crs.execute(\"INSERT TestA (FirstName, LastName) VALUES (?,?)\",'Tom', 'Cat')\n",
    "crs.execute(\"INSERT TestA (FirstName, LastName) VALUES (?,?)\",'Jerry', 'Mouse')\n",
    "crs.execute(\"INSERT TestA (FirstName, LastName) VALUES (?,?)\",'Owen', 'William')\n",
    "crs.execute(\"INSERT TestA (FirstName, LastName) VALUES (?,?)\",'Stefan', 'Müller')\n",
    "crs.execute(\"INSERT TestA (FirstName, LastName) VALUES (?,?)\",'Tom', 'Hanks')\n",
    "crs.execute(\"INSERT TestA (FirstName, LastName) VALUES (?,?)\",'Bart', 'Simpson')\n",
    "crs.execute(\"INSERT TestA (FirstName, LastName) VALUES (?,?)\",'Bruce', 'Lee')\n",
    "crs.execute(\"INSERT TestA (FirstName, LastName) VALUES ('Bob', 'Marley')\")\n",
    "crs.execute(\"DELETE FROM TestA WHERE FirstName = 'Jerry'\")"
   ]
  },
  {
   "cell_type": "code",
   "execution_count": 77,
   "id": "53ac8342",
   "metadata": {},
   "outputs": [
    {
     "name": "stdout",
     "output_type": "stream",
     "text": [
      "1 row(s) deleted\n"
     ]
    }
   ],
   "source": [
    "print(crs.rowcount,\"row(s) deleted\")"
   ]
  },
  {
   "cell_type": "markdown",
   "id": "4d05fec2",
   "metadata": {},
   "source": [
    "# Reading data"
   ]
  },
  {
   "cell_type": "markdown",
   "id": "665ba754",
   "metadata": {},
   "source": [
    "## Fetchone"
   ]
  },
  {
   "cell_type": "code",
   "execution_count": 78,
   "id": "d156ece7",
   "metadata": {},
   "outputs": [
    {
     "data": {
      "text/plain": [
       "<pyodbc.Cursor at 0x22069a1a1b0>"
      ]
     },
     "execution_count": 78,
     "metadata": {},
     "output_type": "execute_result"
    }
   ],
   "source": [
    "crs.execute('select FirstName, LastName from TestA')"
   ]
  },
  {
   "cell_type": "code",
   "execution_count": 79,
   "id": "41a68430",
   "metadata": {},
   "outputs": [
    {
     "data": {
      "text/plain": [
       "('Tom', 'Cat')"
      ]
     },
     "execution_count": 79,
     "metadata": {},
     "output_type": "execute_result"
    }
   ],
   "source": [
    "row = crs.fetchone()\n",
    "row"
   ]
  },
  {
   "cell_type": "code",
   "execution_count": 80,
   "id": "88953f1f",
   "metadata": {},
   "outputs": [
    {
     "data": {
      "text/plain": [
       "'Tom'"
      ]
     },
     "execution_count": 80,
     "metadata": {},
     "output_type": "execute_result"
    }
   ],
   "source": [
    "row.FirstName"
   ]
  },
  {
   "cell_type": "code",
   "execution_count": 81,
   "id": "c46bc49c",
   "metadata": {},
   "outputs": [
    {
     "data": {
      "text/plain": [
       "'Cat'"
      ]
     },
     "execution_count": 81,
     "metadata": {},
     "output_type": "execute_result"
    }
   ],
   "source": [
    "row.LastName"
   ]
  },
  {
   "cell_type": "code",
   "execution_count": null,
   "id": "5f4f356b",
   "metadata": {},
   "outputs": [],
   "source": []
  },
  {
   "cell_type": "markdown",
   "id": "343dab9c",
   "metadata": {},
   "source": [
    "## Fetchall"
   ]
  },
  {
   "cell_type": "code",
   "execution_count": 82,
   "id": "34c33992",
   "metadata": {},
   "outputs": [
    {
     "data": {
      "text/plain": [
       "[(1, 'Tom', 'Cat'),\n",
       " (3, 'Owen', 'William'),\n",
       " (4, 'Stefan', 'Müller'),\n",
       " (5, 'Tom', 'Hanks'),\n",
       " (6, 'Bart', 'Simpson'),\n",
       " (7, 'Bruce', 'Lee'),\n",
       " (8, 'Bob', 'Marley'),\n",
       " (9, 'Tom', 'Cat'),\n",
       " (11, 'Owen', 'William'),\n",
       " (12, 'Stefan', 'Müller'),\n",
       " (13, 'Tom', 'Hanks'),\n",
       " (14, 'Bart', 'Simpson'),\n",
       " (15, 'Bruce', 'Lee'),\n",
       " (16, 'Bob', 'Marley'),\n",
       " (17, 'Tom', 'Cat'),\n",
       " (19, 'Owen', 'William'),\n",
       " (20, 'Stefan', 'Müller'),\n",
       " (21, 'Tom', 'Hanks'),\n",
       " (22, 'Bart', 'Simpson'),\n",
       " (23, 'Bruce', 'Lee'),\n",
       " (24, 'Bob', 'Marley'),\n",
       " (25, 'Tom', 'Cat'),\n",
       " (27, 'Owen', 'William'),\n",
       " (28, 'Stefan', 'Müller'),\n",
       " (29, 'Tom', 'Hanks'),\n",
       " (30, 'Bart', 'Simpson'),\n",
       " (31, 'Bruce', 'Lee'),\n",
       " (32, 'Bob', 'Marley')]"
      ]
     },
     "execution_count": 82,
     "metadata": {},
     "output_type": "execute_result"
    }
   ],
   "source": [
    "crs.execute('SELECT ID, FirstName, LastName FROM TestA')\n",
    "rows = crs.fetchall()\n",
    "rows"
   ]
  },
  {
   "cell_type": "code",
   "execution_count": 83,
   "id": "b208aa9d",
   "metadata": {},
   "outputs": [
    {
     "name": "stdout",
     "output_type": "stream",
     "text": [
      "1 Tom Cat\n",
      "3 Owen William\n",
      "4 Stefan Müller\n",
      "5 Tom Hanks\n",
      "6 Bart Simpson\n",
      "7 Bruce Lee\n",
      "8 Bob Marley\n",
      "9 Tom Cat\n",
      "11 Owen William\n",
      "12 Stefan Müller\n",
      "13 Tom Hanks\n",
      "14 Bart Simpson\n",
      "15 Bruce Lee\n",
      "16 Bob Marley\n",
      "17 Tom Cat\n",
      "19 Owen William\n",
      "20 Stefan Müller\n",
      "21 Tom Hanks\n",
      "22 Bart Simpson\n",
      "23 Bruce Lee\n",
      "24 Bob Marley\n",
      "25 Tom Cat\n",
      "27 Owen William\n",
      "28 Stefan Müller\n",
      "29 Tom Hanks\n",
      "30 Bart Simpson\n",
      "31 Bruce Lee\n",
      "32 Bob Marley\n"
     ]
    }
   ],
   "source": [
    "for row in rows:\n",
    "    print(row.ID, row.FirstName, row.LastName)"
   ]
  },
  {
   "cell_type": "code",
   "execution_count": 84,
   "id": "d7e204da",
   "metadata": {},
   "outputs": [
    {
     "data": {
      "text/plain": [
       "[(1, 'Tom', 'Cat'),\n",
       " (3, 'Owen', 'William'),\n",
       " (4, 'Stefan', 'Müller'),\n",
       " (5, 'Tom', 'Hanks'),\n",
       " (6, 'Bart', 'Simpson'),\n",
       " (7, 'Bruce', 'Lee'),\n",
       " (8, 'Bob', 'Marley'),\n",
       " (9, 'Tom', 'Cat'),\n",
       " (11, 'Owen', 'William'),\n",
       " (12, 'Stefan', 'Müller'),\n",
       " (13, 'Tom', 'Hanks'),\n",
       " (14, 'Bart', 'Simpson'),\n",
       " (15, 'Bruce', 'Lee'),\n",
       " (16, 'Bob', 'Marley'),\n",
       " (17, 'Tom', 'Cat'),\n",
       " (19, 'Owen', 'William'),\n",
       " (20, 'Stefan', 'Müller'),\n",
       " (21, 'Tom', 'Hanks'),\n",
       " (22, 'Bart', 'Simpson'),\n",
       " (23, 'Bruce', 'Lee'),\n",
       " (24, 'Bob', 'Marley'),\n",
       " (25, 'Tom', 'Cat'),\n",
       " (27, 'Owen', 'William'),\n",
       " (28, 'Stefan', 'Müller'),\n",
       " (29, 'Tom', 'Hanks'),\n",
       " (30, 'Bart', 'Simpson'),\n",
       " (31, 'Bruce', 'Lee'),\n",
       " (32, 'Bob', 'Marley')]"
      ]
     },
     "execution_count": 84,
     "metadata": {},
     "output_type": "execute_result"
    }
   ],
   "source": [
    "crs.execute(\"\"\"SELECT ID, FirstName, LastName\n",
    "                FROM TestA\"\"\")\n",
    "rows = crs.fetchall()\n",
    "rows"
   ]
  },
  {
   "cell_type": "code",
   "execution_count": 85,
   "id": "84d3146b",
   "metadata": {},
   "outputs": [
    {
     "data": {
      "text/plain": [
       "[(3, 'Owen', 'William'),\n",
       " (11, 'Owen', 'William'),\n",
       " (19, 'Owen', 'William'),\n",
       " (27, 'Owen', 'William')]"
      ]
     },
     "execution_count": 85,
     "metadata": {},
     "output_type": "execute_result"
    }
   ],
   "source": [
    "crs.execute(\"\"\"SELECT ID, FirstName, LastName\n",
    "               FROM TestA\n",
    "               WHERE FirstName = ? and LastName = ?\"\"\", ['Owen', 'William'])\n",
    "rows = crs.fetchall()\n",
    "rows"
   ]
  },
  {
   "cell_type": "markdown",
   "id": "5960c6a4",
   "metadata": {},
   "source": [
    "## Fetchmany"
   ]
  },
  {
   "cell_type": "code",
   "execution_count": 86,
   "id": "fef8d3f4",
   "metadata": {},
   "outputs": [
    {
     "data": {
      "text/plain": [
       "[(1, 'Tom', 'Cat'), (3, 'Owen', 'William')]"
      ]
     },
     "execution_count": 86,
     "metadata": {},
     "output_type": "execute_result"
    }
   ],
   "source": [
    "crs.execute(\"\"\"SELECT ID, FirstName, LastName\n",
    "               FROM TestA\"\"\")\n",
    "rows = crs.fetchmany(2)\n",
    "rows"
   ]
  },
  {
   "cell_type": "markdown",
   "id": "dbfa6d47",
   "metadata": {},
   "source": [
    "## Fetchval #ilk satır ilk hücre değerini getirir"
   ]
  },
  {
   "cell_type": "code",
   "execution_count": 87,
   "id": "161469ec",
   "metadata": {},
   "outputs": [
    {
     "data": {
      "text/plain": [
       "[(1, 'Tom', 'Cat'),\n",
       " (3, 'Owen', 'William'),\n",
       " (4, 'Stefan', 'Müller'),\n",
       " (5, 'Tom', 'Hanks'),\n",
       " (6, 'Bart', 'Simpson'),\n",
       " (7, 'Bruce', 'Lee'),\n",
       " (8, 'Bob', 'Marley'),\n",
       " (9, 'Tom', 'Cat'),\n",
       " (11, 'Owen', 'William'),\n",
       " (12, 'Stefan', 'Müller'),\n",
       " (13, 'Tom', 'Hanks'),\n",
       " (14, 'Bart', 'Simpson'),\n",
       " (15, 'Bruce', 'Lee'),\n",
       " (16, 'Bob', 'Marley'),\n",
       " (17, 'Tom', 'Cat'),\n",
       " (19, 'Owen', 'William'),\n",
       " (20, 'Stefan', 'Müller'),\n",
       " (21, 'Tom', 'Hanks'),\n",
       " (22, 'Bart', 'Simpson'),\n",
       " (23, 'Bruce', 'Lee'),\n",
       " (24, 'Bob', 'Marley'),\n",
       " (25, 'Tom', 'Cat'),\n",
       " (27, 'Owen', 'William'),\n",
       " (28, 'Stefan', 'Müller'),\n",
       " (29, 'Tom', 'Hanks'),\n",
       " (30, 'Bart', 'Simpson'),\n",
       " (31, 'Bruce', 'Lee'),\n",
       " (32, 'Bob', 'Marley')]"
      ]
     },
     "execution_count": 87,
     "metadata": {},
     "output_type": "execute_result"
    }
   ],
   "source": [
    "crs.execute(\"\"\"SELECT ID, FirstName, LastName\n",
    "                FROM TestA\"\"\")\n",
    "rows = crs.fetchall()\n",
    "rows"
   ]
  },
  {
   "cell_type": "code",
   "execution_count": 88,
   "id": "13e925e7",
   "metadata": {},
   "outputs": [
    {
     "data": {
      "text/plain": [
       "[(3, 'Owen', 'William'),\n",
       " (11, 'Owen', 'William'),\n",
       " (19, 'Owen', 'William'),\n",
       " (27, 'Owen', 'William')]"
      ]
     },
     "execution_count": 88,
     "metadata": {},
     "output_type": "execute_result"
    }
   ],
   "source": [
    "crs.execute(\"\"\"SELECT ID, FirstName, LastName\n",
    "               FROM TestA\n",
    "               WHERE FirstName = ? and LastName = ?\"\"\", ['Owen', 'William'])\n",
    "rows = crs.fetchall()\n",
    "rows"
   ]
  },
  {
   "cell_type": "code",
   "execution_count": 89,
   "id": "f020ba11",
   "metadata": {},
   "outputs": [
    {
     "data": {
      "text/plain": [
       "[(1, 'Tom', 'Cat'), (3, 'Owen', 'William')]"
      ]
     },
     "execution_count": 89,
     "metadata": {},
     "output_type": "execute_result"
    }
   ],
   "source": [
    "crs.execute(\"\"\"SELECT ID, FirstName, LastName\n",
    "               FROM TestA\"\"\")\n",
    "rows = crs.fetchmany(2)\n",
    "rows"
   ]
  },
  {
   "cell_type": "code",
   "execution_count": 90,
   "id": "59a6a7f3",
   "metadata": {},
   "outputs": [
    {
     "data": {
      "text/plain": [
       "32"
      ]
     },
     "execution_count": 90,
     "metadata": {},
     "output_type": "execute_result"
    }
   ],
   "source": [
    "crs.execute(\"SELECT MAX(ID) FROM TestA\").fetchval()"
   ]
  },
  {
   "cell_type": "code",
   "execution_count": 91,
   "id": "34a292a4",
   "metadata": {},
   "outputs": [
    {
     "data": {
      "text/plain": [
       "'Tom'"
      ]
     },
     "execution_count": 91,
     "metadata": {},
     "output_type": "execute_result"
    }
   ],
   "source": [
    "crs.execute(\"SELECT FirstName FROM TestA\").fetchval()"
   ]
  },
  {
   "cell_type": "code",
   "execution_count": 51,
   "id": "ccac5b7a",
   "metadata": {},
   "outputs": [
    {
     "data": {
      "text/plain": [
       "'Tom'"
      ]
     },
     "execution_count": 51,
     "metadata": {},
     "output_type": "execute_result"
    }
   ],
   "source": [
    "crs.execute(\"SELECT FirstName, LastName FROM TestA\").fetchval()"
   ]
  },
  {
   "cell_type": "markdown",
   "id": "60383183",
   "metadata": {},
   "source": [
    "# Pandas Method"
   ]
  },
  {
   "cell_type": "code",
   "execution_count": 92,
   "id": "d9451cb7",
   "metadata": {},
   "outputs": [],
   "source": [
    "import pandas as pd"
   ]
  },
  {
   "cell_type": "code",
   "execution_count": 93,
   "id": "636a117c",
   "metadata": {},
   "outputs": [],
   "source": [
    "def read_query (conn, query): #connection nesnesi yukarıda tanımlanmıştı.\n",
    "    crs = conn. cursor()\n",
    "    results = None\n",
    "    crs.execute(query)\n",
    "    results = crs.fetchall()\n",
    "    return results"
   ]
  },
  {
   "cell_type": "code",
   "execution_count": 94,
   "id": "e65fc158",
   "metadata": {},
   "outputs": [],
   "source": [
    "query = \"\"\"SELECT ID, FirstName, LastName\n",
    "               FROM TestA\"\"\""
   ]
  },
  {
   "cell_type": "code",
   "execution_count": 95,
   "id": "fceab4f0",
   "metadata": {},
   "outputs": [
    {
     "ename": "Error",
     "evalue": "('HY000', '[HY000] [Microsoft][ODBC Driver 17 for SQL Server]Connection is busy with results for another command (0) (SQLExecDirectW)')",
     "output_type": "error",
     "traceback": [
      "\u001b[1;31m---------------------------------------------------------------------------\u001b[0m",
      "\u001b[1;31mError\u001b[0m                                     Traceback (most recent call last)",
      "\u001b[1;32m<ipython-input-95-1c39a35e4286>\u001b[0m in \u001b[0;36m<module>\u001b[1;34m\u001b[0m\n\u001b[1;32m----> 1\u001b[1;33m \u001b[0mread_query\u001b[0m\u001b[1;33m(\u001b[0m\u001b[0mconn\u001b[0m\u001b[1;33m,\u001b[0m \u001b[0mquery\u001b[0m\u001b[1;33m)\u001b[0m\u001b[1;33m\u001b[0m\u001b[1;33m\u001b[0m\u001b[0m\n\u001b[0m",
      "\u001b[1;32m<ipython-input-93-cc75bedbccef>\u001b[0m in \u001b[0;36mread_query\u001b[1;34m(conn, query)\u001b[0m\n\u001b[0;32m      2\u001b[0m     \u001b[0mcrs\u001b[0m \u001b[1;33m=\u001b[0m \u001b[0mconn\u001b[0m\u001b[1;33m.\u001b[0m \u001b[0mcursor\u001b[0m\u001b[1;33m(\u001b[0m\u001b[1;33m)\u001b[0m\u001b[1;33m\u001b[0m\u001b[1;33m\u001b[0m\u001b[0m\n\u001b[0;32m      3\u001b[0m     \u001b[0mresults\u001b[0m \u001b[1;33m=\u001b[0m \u001b[1;32mNone\u001b[0m\u001b[1;33m\u001b[0m\u001b[1;33m\u001b[0m\u001b[0m\n\u001b[1;32m----> 4\u001b[1;33m     \u001b[0mcrs\u001b[0m\u001b[1;33m.\u001b[0m\u001b[0mexecute\u001b[0m\u001b[1;33m(\u001b[0m\u001b[0mquery\u001b[0m\u001b[1;33m)\u001b[0m\u001b[1;33m\u001b[0m\u001b[1;33m\u001b[0m\u001b[0m\n\u001b[0m\u001b[0;32m      5\u001b[0m     \u001b[0mresults\u001b[0m \u001b[1;33m=\u001b[0m \u001b[0mcrs\u001b[0m\u001b[1;33m.\u001b[0m\u001b[0mfetchall\u001b[0m\u001b[1;33m(\u001b[0m\u001b[1;33m)\u001b[0m\u001b[1;33m\u001b[0m\u001b[1;33m\u001b[0m\u001b[0m\n\u001b[0;32m      6\u001b[0m     \u001b[1;32mreturn\u001b[0m \u001b[0mresults\u001b[0m\u001b[1;33m\u001b[0m\u001b[1;33m\u001b[0m\u001b[0m\n",
      "\u001b[1;31mError\u001b[0m: ('HY000', '[HY000] [Microsoft][ODBC Driver 17 for SQL Server]Connection is busy with results for another command (0) (SQLExecDirectW)')"
     ]
    }
   ],
   "source": [
    "read_query(conn, query)"
   ]
  },
  {
   "cell_type": "code",
   "execution_count": 96,
   "id": "4e60846b",
   "metadata": {},
   "outputs": [
    {
     "ename": "NameError",
     "evalue": "name 'result' is not defined",
     "output_type": "error",
     "traceback": [
      "\u001b[1;31m---------------------------------------------------------------------------\u001b[0m",
      "\u001b[1;31mNameError\u001b[0m                                 Traceback (most recent call last)",
      "\u001b[1;32m<ipython-input-96-6b58531f3263>\u001b[0m in \u001b[0;36m<module>\u001b[1;34m\u001b[0m\n\u001b[0;32m      1\u001b[0m \u001b[0mfrom_db\u001b[0m \u001b[1;33m=\u001b[0m \u001b[1;33m[\u001b[0m\u001b[1;33m]\u001b[0m\u001b[1;33m\u001b[0m\u001b[1;33m\u001b[0m\u001b[0m\n\u001b[1;32m----> 2\u001b[1;33m \u001b[1;32mfor\u001b[0m \u001b[0mresult\u001b[0m \u001b[1;32min\u001b[0m \u001b[0mresult\u001b[0m\u001b[1;33m:\u001b[0m\u001b[1;33m\u001b[0m\u001b[1;33m\u001b[0m\u001b[0m\n\u001b[0m\u001b[0;32m      3\u001b[0m     \u001b[0mresult\u001b[0m \u001b[1;33m=\u001b[0m \u001b[0mlist\u001b[0m\u001b[1;33m(\u001b[0m\u001b[0mresult\u001b[0m\u001b[1;33m)\u001b[0m\u001b[1;33m\u001b[0m\u001b[1;33m\u001b[0m\u001b[0m\n\u001b[0;32m      4\u001b[0m     \u001b[0mfrom_db\u001b[0m\u001b[1;33m.\u001b[0m\u001b[0mappend\u001b[0m\u001b[1;33m(\u001b[0m\u001b[0mresult\u001b[0m\u001b[1;33m)\u001b[0m\u001b[1;33m\u001b[0m\u001b[1;33m\u001b[0m\u001b[0m\n",
      "\u001b[1;31mNameError\u001b[0m: name 'result' is not defined"
     ]
    }
   ],
   "source": [
    "from_db = []\n",
    "for result in result:\n",
    "    result = list(result)\n",
    "    from_db.append(result)"
   ]
  },
  {
   "cell_type": "code",
   "execution_count": null,
   "id": "8a0001ad",
   "metadata": {},
   "outputs": [],
   "source": []
  },
  {
   "cell_type": "code",
   "execution_count": null,
   "id": "ac3f6c2c",
   "metadata": {},
   "outputs": [],
   "source": []
  },
  {
   "cell_type": "code",
   "execution_count": null,
   "id": "f0f7205a",
   "metadata": {},
   "outputs": [],
   "source": []
  },
  {
   "cell_type": "code",
   "execution_count": null,
   "id": "a3fd2f97",
   "metadata": {},
   "outputs": [],
   "source": []
  }
 ],
 "metadata": {
  "kernelspec": {
   "display_name": "Python 3",
   "language": "python",
   "name": "python3"
  },
  "language_info": {
   "codemirror_mode": {
    "name": "ipython",
    "version": 3
   },
   "file_extension": ".py",
   "mimetype": "text/x-python",
   "name": "python",
   "nbconvert_exporter": "python",
   "pygments_lexer": "ipython3",
   "version": "3.8.8"
  }
 },
 "nbformat": 4,
 "nbformat_minor": 5
}
